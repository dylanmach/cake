{
 "cells": [
  {
   "cell_type": "code",
   "execution_count": 13,
   "id": "80f557e4-1762-48a3-a1ca-67bd592df2bd",
   "metadata": {},
   "outputs": [],
   "source": [
    "preferences =  [\n",
    "        [\n",
    "            {\n",
    "                \"start\": 0,\n",
    "                \"startValue\": 6.8,\n",
    "                \"end\": 1,\n",
    "                \"endValue\": 6.8,\n",
    "                \"id\": 3\n",
    "            },\n",
    "            {\n",
    "                \"start\": 1,\n",
    "                \"startValue\": 4.5,\n",
    "                \"end\": 3,\n",
    "                \"endValue\": 4.5,\n",
    "                \"id\": 4\n",
    "            }\n",
    "        ],\n",
    "        [\n",
    "            {\n",
    "                \"start\": 0,\n",
    "                \"startValue\": 5.4,\n",
    "                \"end\": 1,\n",
    "                \"endValue\": 5.4,\n",
    "                \"id\": 3\n",
    "            },\n",
    "            {\n",
    "                \"start\": 1,\n",
    "                \"startValue\": 2.8,\n",
    "                \"end\": 2,\n",
    "                \"endValue\": 2.8,\n",
    "                \"id\": 4\n",
    "            },\n",
    "            {\n",
    "                \"start\": 2,\n",
    "                \"startValue\": 5.3,\n",
    "                \"end\": 3,\n",
    "                \"endValue\": 5.3,\n",
    "                \"id\": 4\n",
    "            }\n",
    "        ],\n",
    "        [\n",
    "            {\n",
    "                \"start\": 0,\n",
    "                \"startValue\": 1.5,\n",
    "                \"end\": 1,\n",
    "                \"endValue\": 1.5,\n",
    "                \"id\": 3\n",
    "            },\n",
    "            {\n",
    "                \"start\": 1,\n",
    "                \"startValue\": 9.5,\n",
    "                \"end\": 2,\n",
    "                \"endValue\": 9.5,\n",
    "                \"id\": 4\n",
    "            },\n",
    "            {\n",
    "                \"start\": 2,\n",
    "                \"startValue\": 3,\n",
    "                \"end\": 3,\n",
    "                \"endValue\": 3,\n",
    "                \"id\": 1\n",
    "            }\n",
    "        ]\n",
    "    ]"
   ]
  },
  {
   "cell_type": "code",
   "execution_count": 2,
   "id": "e83b9f7d-76bd-48f3-aef5-98861da163f5",
   "metadata": {},
   "outputs": [],
   "source": [
    "preferences_four_agents =  [\n",
    "        [\n",
    "            {\n",
    "                \"start\": 0,\n",
    "                \"startValue\": 6.8,\n",
    "                \"end\": 1,\n",
    "                \"endValue\": 6.8,\n",
    "                \"id\": 3\n",
    "            },\n",
    "            {\n",
    "                \"start\": 1,\n",
    "                \"startValue\": 4.5,\n",
    "                \"end\": 3,\n",
    "                \"endValue\": 4.5,\n",
    "                \"id\": 4\n",
    "            }\n",
    "        ],\n",
    "        [\n",
    "            {\n",
    "                \"start\": 0,\n",
    "                \"startValue\": 5.4,\n",
    "                \"end\": 1,\n",
    "                \"endValue\": 5.4,\n",
    "                \"id\": 3\n",
    "            },\n",
    "            {\n",
    "                \"start\": 1,\n",
    "                \"startValue\": 2.8,\n",
    "                \"end\": 2,\n",
    "                \"endValue\": 2.8,\n",
    "                \"id\": 4\n",
    "            },\n",
    "            {\n",
    "                \"start\": 2,\n",
    "                \"startValue\": 5.3,\n",
    "                \"end\": 3,\n",
    "                \"endValue\": 5.3,\n",
    "                \"id\": 4\n",
    "            }\n",
    "        ],\n",
    "        [\n",
    "            {\n",
    "                \"start\": 0,\n",
    "                \"startValue\": 6.7,\n",
    "                \"end\": 1,\n",
    "                \"endValue\": 6.7,\n",
    "                \"id\": 3\n",
    "            },\n",
    "            {\n",
    "                \"start\": 1,\n",
    "                \"startValue\": 0.3,\n",
    "                \"end\": 2,\n",
    "                \"endValue\": 0.3,\n",
    "                \"id\": 4\n",
    "            },\n",
    "            {\n",
    "                \"start\": 2,\n",
    "                \"startValue\": 7.9,\n",
    "                \"end\": 3,\n",
    "                \"endValue\": 7.9,\n",
    "                \"id\": 4\n",
    "            }\n",
    "        ],\n",
    "        [\n",
    "            {\n",
    "                \"start\": 0,\n",
    "                \"startValue\": 1.5,\n",
    "                \"end\": 1,\n",
    "                \"endValue\": 1.5,\n",
    "                \"id\": 3\n",
    "            },\n",
    "            {\n",
    "                \"start\": 1,\n",
    "                \"startValue\": 9.5,\n",
    "                \"end\": 2,\n",
    "                \"endValue\": 9.5,\n",
    "                \"id\": 4\n",
    "            },\n",
    "            {\n",
    "                \"start\": 2,\n",
    "                \"startValue\": 3,\n",
    "                \"end\": 3,\n",
    "                \"endValue\": 3,\n",
    "                \"id\": 1\n",
    "            }\n",
    "        ]\n",
    "    ]"
   ]
  },
  {
   "cell_type": "code",
   "execution_count": 43,
   "id": "3cddf7de-a185-4cd3-8793-ee1fdbb4a47a",
   "metadata": {},
   "outputs": [],
   "source": [
    "import numpy as np\n",
    "import itertools\n",
    "from scipy.optimize import minimize"
   ]
  },
  {
   "cell_type": "code",
   "execution_count": 44,
   "id": "c2844fda-adb6-4d9b-84b2-6868ad85cd2b",
   "metadata": {},
   "outputs": [],
   "source": [
    "cakeSize = 3"
   ]
  },
  {
   "cell_type": "code",
   "execution_count": 5,
   "id": "4fb5ebcb-9bc9-4a1e-a9f4-4aa989b8a057",
   "metadata": {},
   "outputs": [],
   "source": [
    "'''\n",
    "Ensures that each agents values the\n",
    "'''\n",
    "def normalization(prefs):\n",
    "    '''\n",
    "    Ensures that each agents values the\n",
    "    '''\n",
    "    #Need to change.\n",
    "    agents = len(prefs)\n",
    "    normalization_constants = np.zeros(agents)\n",
    "    for i in range(agents):\n",
    "        normalization_constants[i] = value_query_initial(i, prefs, 0, 1)\n",
    "        for segments in prefs[i]:\n",
    "            segments['startValue'] /= normalization_constants[i]\n",
    "            segments['endValue'] /= normalization_constants[i]\n",
    "    return prefs#, normalizationConstants"
   ]
  },
  {
   "cell_type": "code",
   "execution_count": null,
   "id": "d294fcb2-9b48-4765-a638-b2d5882f1f38",
   "metadata": {},
   "outputs": [],
   "source": []
  },
  {
   "cell_type": "code",
   "execution_count": 45,
   "id": "6a0458a7-feb1-4053-9cfe-8b3a7df41eb3",
   "metadata": {},
   "outputs": [],
   "source": [
    "def change_bounds(prefs, cakeSize):\n",
    "    for agents in prefs:\n",
    "        for segments in agents:\n",
    "            segments['start'] /= cakeSize\n",
    "            segments['end'] /= cakeSize\n",
    "    return prefs"
   ]
  },
  {
   "cell_type": "code",
   "execution_count": 18,
   "id": "668b9851-ddb6-4d71-8a05-db35b382e257",
   "metadata": {},
   "outputs": [],
   "source": [
    "new_prefs =  change_bounds(preferences, cakeSize)"
   ]
  },
  {
   "cell_type": "code",
   "execution_count": 46,
   "id": "1e991825-0241-418e-8a57-a1c9f23ef49a",
   "metadata": {},
   "outputs": [],
   "source": [
    "new_prefs_four_agents =  change_bounds(preferences_four_agents, cakeSize)"
   ]
  },
  {
   "cell_type": "code",
   "execution_count": 19,
   "id": "9e374db6-bb31-40f1-abb7-65fa3d2c8a59",
   "metadata": {},
   "outputs": [
    {
     "data": {
      "text/plain": [
       "[[{'start': 0.0,\n",
       "   'startValue': 6.8,\n",
       "   'end': 0.3333333333333333,\n",
       "   'endValue': 6.8,\n",
       "   'id': 3},\n",
       "  {'start': 0.3333333333333333,\n",
       "   'startValue': 4.5,\n",
       "   'end': 1.0,\n",
       "   'endValue': 4.5,\n",
       "   'id': 4}],\n",
       " [{'start': 0.0,\n",
       "   'startValue': 5.4,\n",
       "   'end': 0.3333333333333333,\n",
       "   'endValue': 5.4,\n",
       "   'id': 3},\n",
       "  {'start': 0.3333333333333333,\n",
       "   'startValue': 2.8,\n",
       "   'end': 0.6666666666666666,\n",
       "   'endValue': 2.8,\n",
       "   'id': 4},\n",
       "  {'start': 0.6666666666666666,\n",
       "   'startValue': 5.3,\n",
       "   'end': 1.0,\n",
       "   'endValue': 5.3,\n",
       "   'id': 4}],\n",
       " [{'start': 0.0,\n",
       "   'startValue': 1.5,\n",
       "   'end': 0.3333333333333333,\n",
       "   'endValue': 1.5,\n",
       "   'id': 3},\n",
       "  {'start': 0.3333333333333333,\n",
       "   'startValue': 9.5,\n",
       "   'end': 0.6666666666666666,\n",
       "   'endValue': 9.5,\n",
       "   'id': 4},\n",
       "  {'start': 0.6666666666666666,\n",
       "   'startValue': 3,\n",
       "   'end': 1.0,\n",
       "   'endValue': 3,\n",
       "   'id': 1}]]"
      ]
     },
     "execution_count": 19,
     "metadata": {},
     "output_type": "execute_result"
    }
   ],
   "source": [
    "new_prefs"
   ]
  },
  {
   "cell_type": "code",
   "execution_count": 47,
   "id": "1e50c057-326f-40e5-a005-8b84a7fb07ab",
   "metadata": {},
   "outputs": [],
   "source": [
    "def find_segments_intervals(prefs):\n",
    "    breakpoints = set()\n",
    "    for agents in prefs:\n",
    "        for segments in agents:\n",
    "            breakpoints.add(segments['start'])\n",
    "            breakpoints.add(segments['end'])\n",
    "\n",
    "    # Convert breakpoints to a sorted list\n",
    "    sorted_breakpoints = sorted(breakpoints)\n",
    "    segment_intervals=[]\n",
    "    for i in range(1, len(sorted_breakpoints)):\n",
    "        left = sorted_breakpoints[i-1]\n",
    "        right = sorted_breakpoints[i]\n",
    "        segment_intervals.append({\n",
    "                'start': left,\n",
    "                'end': right\n",
    "            })\n",
    "    return segment_intervals"
   ]
  },
  {
   "cell_type": "code",
   "execution_count": 48,
   "id": "ae8a7c6c-a43a-4475-97f1-f7e7220dd0bb",
   "metadata": {},
   "outputs": [],
   "source": [
    "def find_segments(prefs, agents_number):\n",
    "    segments_intervals = find_segments_intervals(prefs)\n",
    "    segmented_prefs = [[] for _ in range(agents_number)]\n",
    "    for i in range(agents_number):\n",
    "        for segments in prefs[i]:\n",
    "            for intervals in segments_intervals:\n",
    "                if (((segments['start'] >= intervals['start']) and (segments['start'] < intervals['end'])) or \\\n",
    "                    ((segments['end'] > intervals['start']) and (segments['end'] <= intervals['end']))):\n",
    "                    segmented_prefs[i].append({'start': intervals['start'],\n",
    "                                               'end': intervals['end'],\n",
    "                                               'value': segments['startValue'],\n",
    "                                               'area': (intervals['end'] - intervals['start']) * segments['startValue']})\n",
    "    return segmented_prefs"
   ]
  },
  {
   "cell_type": "code",
   "execution_count": 9,
   "id": "14b8fcd1-df1b-4ac3-b66f-634718931655",
   "metadata": {},
   "outputs": [
    {
     "ename": "NameError",
     "evalue": "name 'segments_intervals' is not defined",
     "output_type": "error",
     "traceback": [
      "\u001b[1;31m---------------------------------------------------------------------------\u001b[0m",
      "\u001b[1;31mNameError\u001b[0m                                 Traceback (most recent call last)",
      "Cell \u001b[1;32mIn[9], line 1\u001b[0m\n\u001b[1;32m----> 1\u001b[0m points \u001b[38;5;241m=\u001b[39m \u001b[43msegments_intervals\u001b[49m(new_prefs)\n",
      "\u001b[1;31mNameError\u001b[0m: name 'segments_intervals' is not defined"
     ]
    }
   ],
   "source": [
    "points = segments_intervals(new_prefs)"
   ]
  },
  {
   "cell_type": "code",
   "execution_count": 10,
   "id": "760240c2-5d0f-46f7-9749-4704aab38b25",
   "metadata": {},
   "outputs": [
    {
     "ename": "NameError",
     "evalue": "name 'points' is not defined",
     "output_type": "error",
     "traceback": [
      "\u001b[1;31m---------------------------------------------------------------------------\u001b[0m",
      "\u001b[1;31mNameError\u001b[0m                                 Traceback (most recent call last)",
      "Cell \u001b[1;32mIn[10], line 1\u001b[0m\n\u001b[1;32m----> 1\u001b[0m \u001b[43mpoints\u001b[49m\n",
      "\u001b[1;31mNameError\u001b[0m: name 'points' is not defined"
     ]
    }
   ],
   "source": [
    "points"
   ]
  },
  {
   "cell_type": "code",
   "execution_count": 11,
   "id": "112c9697-acb1-462b-a9b8-91f4fbe82774",
   "metadata": {},
   "outputs": [
    {
     "ename": "NameError",
     "evalue": "name 'new_prefs' is not defined",
     "output_type": "error",
     "traceback": [
      "\u001b[1;31m---------------------------------------------------------------------------\u001b[0m",
      "\u001b[1;31mNameError\u001b[0m                                 Traceback (most recent call last)",
      "Cell \u001b[1;32mIn[11], line 1\u001b[0m\n\u001b[1;32m----> 1\u001b[0m segments \u001b[38;5;241m=\u001b[39m find_segments(\u001b[43mnew_prefs\u001b[49m, \u001b[38;5;241m3\u001b[39m)\n",
      "\u001b[1;31mNameError\u001b[0m: name 'new_prefs' is not defined"
     ]
    }
   ],
   "source": [
    "segments = find_segments(new_prefs, 3)"
   ]
  },
  {
   "cell_type": "code",
   "execution_count": 54,
   "id": "f170e3c9-a158-45dd-8f1b-e114ba0b5eef",
   "metadata": {},
   "outputs": [],
   "source": [
    "segments_four_agents = find_segments(new_prefs_four_agents, 4)"
   ]
  },
  {
   "cell_type": "code",
   "execution_count": 55,
   "id": "b37bf6dd-afd9-42fe-89b2-1d2ed693ad07",
   "metadata": {},
   "outputs": [
    {
     "data": {
      "text/plain": [
       "[[{'start': 0.0,\n",
       "   'end': 0.3333333333333333,\n",
       "   'value': 6.8,\n",
       "   'area': 2.2666666666666666},\n",
       "  {'start': 0.3333333333333333,\n",
       "   'end': 0.6666666666666666,\n",
       "   'value': 4.5,\n",
       "   'area': 1.5},\n",
       "  {'start': 0.6666666666666666,\n",
       "   'end': 1.0,\n",
       "   'value': 4.5,\n",
       "   'area': 1.5000000000000002}],\n",
       " [{'start': 0.0, 'end': 0.3333333333333333, 'value': 5.4, 'area': 1.8},\n",
       "  {'start': 0.3333333333333333,\n",
       "   'end': 0.6666666666666666,\n",
       "   'value': 2.8,\n",
       "   'area': 0.9333333333333332},\n",
       "  {'start': 0.6666666666666666,\n",
       "   'end': 1.0,\n",
       "   'value': 5.3,\n",
       "   'area': 1.7666666666666668}],\n",
       " [{'start': 0.0,\n",
       "   'end': 0.3333333333333333,\n",
       "   'value': 6.7,\n",
       "   'area': 2.2333333333333334},\n",
       "  {'start': 0.3333333333333333,\n",
       "   'end': 0.6666666666666666,\n",
       "   'value': 0.3,\n",
       "   'area': 0.09999999999999999},\n",
       "  {'start': 0.6666666666666666,\n",
       "   'end': 1.0,\n",
       "   'value': 7.9,\n",
       "   'area': 2.6333333333333337}],\n",
       " [{'start': 0.0, 'end': 0.3333333333333333, 'value': 1.5, 'area': 0.5},\n",
       "  {'start': 0.3333333333333333,\n",
       "   'end': 0.6666666666666666,\n",
       "   'value': 9.5,\n",
       "   'area': 3.1666666666666665},\n",
       "  {'start': 0.6666666666666666, 'end': 1.0, 'value': 3, 'area': 1.0}]]"
      ]
     },
     "execution_count": 55,
     "metadata": {},
     "output_type": "execute_result"
    }
   ],
   "source": [
    "segments_four_agents"
   ]
  },
  {
   "cell_type": "code",
   "execution_count": 13,
   "id": "0a67467f-0bb3-4a48-a91f-cfcff49e8e12",
   "metadata": {},
   "outputs": [
    {
     "ename": "NameError",
     "evalue": "name 'segments' is not defined",
     "output_type": "error",
     "traceback": [
      "\u001b[1;31m---------------------------------------------------------------------------\u001b[0m",
      "\u001b[1;31mNameError\u001b[0m                                 Traceback (most recent call last)",
      "Cell \u001b[1;32mIn[13], line 1\u001b[0m\n\u001b[1;32m----> 1\u001b[0m amount_of_segments \u001b[38;5;241m=\u001b[39m \u001b[38;5;28mlen\u001b[39m(\u001b[43msegments\u001b[49m[\u001b[38;5;241m0\u001b[39m])\n",
      "\u001b[1;31mNameError\u001b[0m: name 'segments' is not defined"
     ]
    }
   ],
   "source": [
    "amount_of_segments = len(segments[0])"
   ]
  },
  {
   "cell_type": "code",
   "execution_count": 14,
   "id": "7d4e69dd-e56c-4cb9-a35b-3982c7f6e432",
   "metadata": {},
   "outputs": [
    {
     "ename": "NameError",
     "evalue": "name 'segments' is not defined",
     "output_type": "error",
     "traceback": [
      "\u001b[1;31m---------------------------------------------------------------------------\u001b[0m",
      "\u001b[1;31mNameError\u001b[0m                                 Traceback (most recent call last)",
      "Cell \u001b[1;32mIn[14], line 1\u001b[0m\n\u001b[1;32m----> 1\u001b[0m \u001b[43msegments\u001b[49m\n",
      "\u001b[1;31mNameError\u001b[0m: name 'segments' is not defined"
     ]
    }
   ],
   "source": [
    "segments"
   ]
  },
  {
   "cell_type": "code",
   "execution_count": 60,
   "id": "dcea5c9c-caf6-4e26-b50f-51de8d786567",
   "metadata": {},
   "outputs": [],
   "source": [
    "def solver(segments, agents_number):\n",
    "    amount_of_segments = len(segments[0])\n",
    "    cut_positions = []\n",
    "    assert (agents_number == 3) or (agents_number == 4),\\\n",
    "        \"Invalid agents number for algorithm\"\n",
    "    if agents_number == 3:\n",
    "        for cut_one in range(amount_of_segments):\n",
    "            for cut_two in range(cut_one, amount_of_segments):\n",
    "                cut_positions.append([cut_one, cut_two])\n",
    "    if agents_number == 4:\n",
    "        for cut_one in range(amount_of_segments):\n",
    "            for cut_two in range(cut_one, amount_of_segments):\n",
    "                for cut_three in range(cut_two, amount_of_segments):\n",
    "                    cut_positions.append([cut_one, cut_two, cut_three])\n",
    "    agents_list = [i for i in range(agents_number)]\n",
    "    agents_permutations = list(itertools.permutations(agents_list))\n",
    "    for agents in agents_permutations:\n",
    "        for cuts in cut_positions:\n",
    "            info = find_division(segments, agents, cuts, agents_number)\n",
    "            if info['envy_free_check'] == True:\n",
    "                return info['cuts']\n",
    "            else:\n",
    "                continue\n",
    "    return False\n",
    "    "
   ]
  },
  {
   "cell_type": "code",
   "execution_count": 58,
   "id": "2a10ecd3-bd47-403c-b99f-b8540921d453",
   "metadata": {},
   "outputs": [],
   "source": [
    "def find_division(segments, agents, cuts, agents_number):\n",
    "    if agents_number == 3:\n",
    "        return find_division_three_agents(segments, agents, cuts)\n",
    "    if agents_number == 4:\n",
    "        return find_division_four_agents(segments, agents, cuts)"
   ]
  },
  {
   "cell_type": "code",
   "execution_count": 98,
   "id": "63df0968-bb88-4a71-990e-f2c7460f2c80",
   "metadata": {},
   "outputs": [],
   "source": [
    "def constraints_three_agents(segments, agents, cuts, params):\n",
    "    def constraint1(vars, params):\n",
    "        cut_one, cut_two = vars\n",
    "        x = cut_one - params[0]\n",
    "        y = cut_two - params[1]\n",
    "        segments = params[2]\n",
    "        agents = params[3]\n",
    "        cuts = params[4]\n",
    "        slice_one_first_agent_value = first_slice_value(x, segments, agents[0], cuts[0])\n",
    "        slice_two_first_agent_value = middle_slice_value(x, y, segments, agents[0], cuts[0], cuts[1])\n",
    "        return slice_one_first_agent_value - slice_two_first_agent_value\n",
    "\n",
    "    def constraint2(vars, params):\n",
    "        cut_one, cut_two = vars\n",
    "        x = cut_one - params[0]\n",
    "        y = cut_two - params[1]\n",
    "        segments = params[2]\n",
    "        agents = params[3]\n",
    "        cuts = params[4]\n",
    "        slice_one_first_agent_value = first_slice_value(x, segments, agents[0], cuts[0])\n",
    "        slice_three_first_agent_value = last_slice_value(y, segments, agents[0], cuts[1])\n",
    "        return slice_one_first_agent_value - slice_three_first_agent_value\n",
    "\n",
    "    def constraint3(vars, params):\n",
    "        cut_one, cut_two = vars\n",
    "        x = cut_one - params[0]\n",
    "        y = cut_two - params[1]\n",
    "        segments = params[2]\n",
    "        agents = params[3]\n",
    "        cuts = params[4]\n",
    "        slice_two_second_agent_value = middle_slice_value(x, y, segments, agents[1], cuts[0], cuts[1])\n",
    "        slice_one_second_agent_value = first_slice_value(x, segments, agents[1], cuts[0])\n",
    "        return slice_two_second_agent_value - slice_one_second_agent_value\n",
    "\n",
    "    def constraint4(vars, params):\n",
    "        cut_one, cut_two = vars\n",
    "        x = cut_one - params[0]\n",
    "        y = cut_two - params[1]\n",
    "        segments = params[2]\n",
    "        agents = params[3]\n",
    "        cuts = params[4]\n",
    "        slice_two_second_agent_value = middle_slice_value(x, y, segments, agents[1], cuts[0], cuts[1])\n",
    "        slice_three_second_agent_value = last_slice_value(y, segments, agents[1], cuts[1])\n",
    "        return slice_two_second_agent_value - slice_three_second_agent_value\n",
    "\n",
    "    def constraint5(vars, params):\n",
    "        cut_one, cut_two = vars\n",
    "        x = cut_one - params[0]\n",
    "        y = cut_two - params[1]\n",
    "        segments = params[2]\n",
    "        agents = params[3]\n",
    "        cuts = params[4]\n",
    "        slice_three_third_agent_value = last_slice_value(y, segments, agents[2], cuts[1])\n",
    "        slice_one_third_agent_value = first_slice_value(x, segments, agents[2], cuts[0])\n",
    "        return slice_three_third_agent_value - slice_one_third_agent_value\n",
    "\n",
    "    def constraint6(vars, params):\n",
    "        cut_one, cut_two = vars\n",
    "        x = cut_one - params[0]\n",
    "        y = cut_two - params[1]\n",
    "        segments = params[2]\n",
    "        agents = params[3]\n",
    "        cuts = params[4]\n",
    "        slice_three_third_agent_value = last_slice_value(y, segments, agents[2], cuts[1])\n",
    "        slice_two_third_agent_value = middle_slice_value(x, y, segments, agents[2], cuts[0], cuts[1])\n",
    "        return slice_three_third_agent_value - slice_two_third_agent_value\n",
    "\n",
    "    def constraint7(vars, params):\n",
    "        cut_one, cut_two = vars\n",
    "        return cut_two - cut_one\n",
    "\n",
    "    cons = [{'type': 'ineq', 'fun': constraint1, 'args': (params,)},\n",
    "            {'type': 'ineq', 'fun': constraint2, 'args': (params,)},\n",
    "            {'type': 'ineq', 'fun': constraint3, 'args': (params,)},\n",
    "            {'type': 'ineq', 'fun': constraint4, 'args': (params,)},\n",
    "            {'type': 'ineq', 'fun': constraint5, 'args': (params,)},\n",
    "            {'type': 'ineq', 'fun': constraint6, 'args': (params,)},\n",
    "            {'type': 'ineq', 'fun': constraint7, 'args': (params,)}]\n",
    "\n",
    "    return cons\n"
   ]
  },
  {
   "cell_type": "code",
   "execution_count": null,
   "id": "cdfd2f0a-fc15-40f7-b39d-4510aedf809b",
   "metadata": {},
   "outputs": [],
   "source": [
    "def constraints_four_agents(segments, agents, cuts, params):\n",
    "    def constraint1(vars, params):\n",
    "        cut_one, cut_two, cut_three = vars\n",
    "        x = cut_one - params[0]\n",
    "        y = cut_two - params[1]\n",
    "        segments = params[3]\n",
    "        agents = params[4]\n",
    "        cuts = params[5]\n",
    "        slice_one_first_agent_value = first_slice_value(x, segments, agents[0], cuts[0])\n",
    "        slice_two_first_agent_value = middle_slice_value(x, y, segments, agents[0], cuts[0], cuts[1])\n",
    "        return slice_one_first_agent_value - slice_two_first_agent_value\n",
    "            \n",
    "\n",
    "    def constraint2(vars, params):\n",
    "        cut_one, cut_two, cut_three = vars\n",
    "        x = cut_one - params[0]\n",
    "        y = cut_two - params[1]\n",
    "        z = cut_three - params[2]\n",
    "        segments = params[3]\n",
    "        agents = params[4]\n",
    "        cuts = params[5]\n",
    "        slice_one_first_agent_value = first_slice_value(x, segments, agents[0], cuts[0])\n",
    "        slice_three_first_agent_value = middle_slice_value(y, z, segments, agents[0], cuts[1], cuts[2])\n",
    "        return slice_one_first_agent_value - slice_three_first_agent_value\n",
    "\n",
    "    def constraint3(vars, params):\n",
    "        cut_one, cut_two, cut_three = vars\n",
    "        x = cut_one - params[0]\n",
    "        z = cut_three - params[2]\n",
    "        segments = params[3]\n",
    "        agents = params[4]\n",
    "        cuts = params[5]\n",
    "        slice_one_first_agent_value = first_slice_value(x, segments, agents[0], cuts[0])\n",
    "        slice_four_first_agent_value = last_slice_value(z, segments, agents[0], cuts[2])\n",
    "        return slice_one_first_agent_value - slice_four_first_agent_value\n",
    "\n",
    "    def constraint4(vars, params):\n",
    "        cut_one, cut_two, cut_three = vars\n",
    "        x = cut_one - params[0]\n",
    "        y = cut_two - params[1]\n",
    "        segments = params[3]\n",
    "        agents = params[4]\n",
    "        cuts = params[5]\n",
    "        slice_two_second_agent_value =  middle_slice_value(x, y, segments, agents[1], cuts[0], cuts[1])\n",
    "        slice_one_second_agent_value = first_slice_value(x, segments, agents[1], cuts[0])\n",
    "        return slice_two_second_agent_value - slice_one_second_agent_value\n",
    "\n",
    "    def constraint5(vars, params):\n",
    "        cut_one, cut_two, cut_three = vars\n",
    "        x = cut_one - params[0]\n",
    "        y = cut_two - params[1]\n",
    "        z = cut_three - params[2]\n",
    "        segments = params[3]\n",
    "        agents = params[4]\n",
    "        cuts = params[5]\n",
    "        slice_two_second_agent_value =  middle_slice_value(x, y, segments, agents[1], cuts[0], cuts[1])\n",
    "        slice_three_second_agent_value = middle_slice_value(y, z, segments, agents[1], cuts[1], cuts[2])\n",
    "        return slice_two_second_agent_value - slice_three_second_agent_value\n",
    "\n",
    "    def constraint6(vars, params):\n",
    "        cut_one, cut_two, cut_three = vars\n",
    "        x = cut_one - params[0]\n",
    "        y = cut_two - params[1]\n",
    "        z = cut_three - params[2]\n",
    "        segments = params[3]\n",
    "        agents = params[4]\n",
    "        cuts = params[5]\n",
    "        slice_two_second_agent_value =  middle_slice_value(x, y, segments, agents[1], cuts[0], cuts[1])\n",
    "        slice_four_second_agent_value = last_slice_value(z, segments, agents[1], cuts[2])\n",
    "        return slice_two_second_agent_value - slice_four_second_agent_value\n",
    "\n",
    "    def constraint7(vars, params):\n",
    "        cut_one, cut_two, cut_three = vars\n",
    "        x = cut_one - params[0]\n",
    "        y = cut_two - params[1]\n",
    "        z = cut_three - params[2]\n",
    "        segments = params[3]\n",
    "        agents = params[4]\n",
    "        cuts = params[5]\n",
    "        slice_three_third_agent_value = middle_slice_value(y, z, segments, agents[2], cuts[1], cuts[2])\n",
    "        slice_one_third_agent_value = first_slice_value(x, segments, agents[2], cuts[0])\n",
    "        return slice_three_third_agent_value - slice_one_third_agent_value\n",
    "\n",
    "    def constraint8(vars, params):\n",
    "        cut_one, cut_two, cut_three = vars\n",
    "        x = cut_one - params[0]\n",
    "        y = cut_two - params[1]\n",
    "        z = cut_three - params[2]\n",
    "        segments = params[3]\n",
    "        agents = params[4]\n",
    "        cuts = params[5]\n",
    "        slice_three_third_agent_value = middle_slice_value(y, z, segments, agents[2], cuts[1], cuts[2])\n",
    "        slice_two_third_agent_value = middle_slice_value(x, y, segments, agents[2], cuts[0], cuts[1])\n",
    "        return slice_three_third_agent_value - slice_two_third_agent_value\n",
    "\n",
    "    def constraint9(vars, params):\n",
    "        cut_one, cut_two, cut_three = vars\n",
    "        y = cut_two - params[1]\n",
    "        z = cut_three - params[2]\n",
    "        segments = params[3]\n",
    "        agents = params[4]\n",
    "        cuts = params[5]\n",
    "        slice_three_third_agent_value = middle_slice_value(y, z, segments, agents[2], cuts[1], cuts[2])\n",
    "        slice_four_third_agent_value = last_slice_value(z, segments, agents[2], cuts[2])\n",
    "        return slice_three_third_agent_value - slice_four_third_agent_value\n",
    "\n",
    "    def constraint10(vars, params):\n",
    "        cut_one, cut_two, cut_three = vars\n",
    "        x = cut_one - params[0]\n",
    "        z = cut_three - params[2]\n",
    "        segments = params[3]\n",
    "        agents = params[4]\n",
    "        cuts = params[5]\n",
    "        slice_four_fourth_agent_value = last_slice_value(z, segments, agents[3], cuts[2])\n",
    "        slice_one_fourth_agent_value = first_slice_value(x, segments, agents[3], cuts[0])\n",
    "        return slice_four_fourth_agent_value - slice_one_fourth_agent_value\n",
    "\n",
    "    def constraint11(vars, params):\n",
    "        cut_one, cut_two, cut_three = vars\n",
    "        x = cut_one - params[0]\n",
    "        y = cut_two - params[1]\n",
    "        z = cut_three - params[2]\n",
    "        segments = params[3]\n",
    "        agents = params[4]\n",
    "        cuts = params[5]\n",
    "        slice_four_fourth_agent_value = last_slice_value(z, segments, agents[3], cuts[2])\n",
    "        slice_two_fourth_agent_value = middle_slice_value(x, y, segments, agents[3], cuts[0], cuts[1])\n",
    "        return slice_four_fourth_agent_value - slice_two_fourth_agent_value\n",
    "\n",
    "    def constraint12(vars, params):\n",
    "        cut_one, cut_two, cut_three = vars\n",
    "        y = cut_two - params[1]\n",
    "        z = cut_three - params[2]\n",
    "        segments = params[3]\n",
    "        agents = params[4]\n",
    "        cuts = params[5]\n",
    "        slice_four_fourth_agent_value = last_slice_value(z, segments, agents[3], cuts[2])\n",
    "        slice_three_fourth_agent_value = middle_slice_value(y, z, segments, agents[3], cuts[1], cuts[2])\n",
    "        return slice_four_fourth_agent_value - slice_three_fourth_agent_value\n",
    "\n",
    "    def constraint13(vars, params):\n",
    "        cut_one, cut_two, cut_three = vars\n",
    "        return cut_two - cut_one\n",
    "\n",
    "    def constraint14(vars, params):\n",
    "        cut_one, cut_two, cut_three = vars\n",
    "        return cut_three - cut_one\n",
    "\n",
    "    def constraint15(vars, params):\n",
    "        cut_one, cut_two, cut_three = vars\n",
    "        return cut_three - cut_two\n",
    "\n",
    "    cons = [{'type': 'ineq', 'fun': constraint1, 'args': (params,)},\n",
    "            {'type': 'ineq', 'fun': constraint2, 'args': (params,)},\n",
    "            {'type': 'ineq', 'fun': constraint3, 'args': (params,)},\n",
    "            {'type': 'ineq', 'fun': constraint4, 'args': (params,)},\n",
    "            {'type': 'ineq', 'fun': constraint5, 'args': (params,)},\n",
    "            {'type': 'ineq', 'fun': constraint6, 'args': (params,)},\n",
    "            {'type': 'ineq', 'fun': constraint7, 'args': (params,)},\n",
    "            {'type': 'ineq', 'fun': constraint8, 'args': (params,)},\n",
    "            {'type': 'ineq', 'fun': constraint9, 'args': (params,)},\n",
    "            {'type': 'ineq', 'fun': constraint10, 'args': (params,)},\n",
    "            {'type': 'ineq', 'fun': constraint11, 'args': (params,)},\n",
    "            {'type': 'ineq', 'fun': constraint12, 'args': (params,)},\n",
    "            {'type': 'ineq', 'fun': constraint13, 'args': (params,)},\n",
    "            {'type': 'ineq', 'fun': constraint14, 'args': (params,)},\n",
    "            {'type': 'ineq', 'fun': constraint15, 'args': (params,)}]\n",
    "\n",
    "    return cons"
   ]
  },
  {
   "cell_type": "code",
   "execution_count": 95,
   "id": "69821950-28a1-4eaa-be8b-77991aa5d67f",
   "metadata": {},
   "outputs": [],
   "source": [
    "def find_division_three_agents(segments, agents, cuts):\n",
    "    cut_one_lower_bound = segments[0][cuts[0]]['start']\n",
    "    cut_one_upper_bound = segments[0][cuts[0]]['end']\n",
    "    cut_two_lower_bound = segments[0][cuts[1]]['start']\n",
    "    cut_two_upper_bound = segments[0][cuts[1]]['end']\n",
    "\n",
    "    params = [cut_one_lower_bound, cut_two_lower_bound, segments, agents, cuts]\n",
    "\n",
    "    # def constraint1(vars, params):\n",
    "    #     cut_one, cut_two = vars\n",
    "    #     x = cut_one - params[0]\n",
    "    #     y = cut_two - params[1]\n",
    "    #     segments = params[2]\n",
    "    #     agents = params[3]\n",
    "    #     cuts = params[4]\n",
    "    #     slice_one_first_agent_value = first_slice_value(x, segments, agents[0], cuts[0])\n",
    "    #     slice_two_first_agent_value = middle_slice_value(x, y, segments, agents[0], cuts[0], cuts[1])\n",
    "    #     return slice_one_first_agent_value - slice_two_first_agent_value\n",
    "\n",
    "    # def constraint2(vars, params):\n",
    "    #     cut_one, cut_two = vars\n",
    "    #     x = cut_one - params[0]\n",
    "    #     y = cut_two - params[1]\n",
    "    #     segments = params[2]\n",
    "    #     agents = params[3]\n",
    "    #     cuts = params[4]\n",
    "    #     slice_one_first_agent_value = first_slice_value(x, segments, agents[0], cuts[0])\n",
    "    #     slice_three_first_agent_value = last_slice_value(y, segments, agents[0], cuts[1])\n",
    "    #     return slice_one_first_agent_value - slice_three_first_agent_value\n",
    "\n",
    "    # def constraint3(vars, params):\n",
    "    #     cut_one, cut_two = vars\n",
    "    #     x = cut_one - params[0]\n",
    "    #     y = cut_two - params[1]\n",
    "    #     segments = params[2]\n",
    "    #     agents = params[3]\n",
    "    #     cuts = params[4]\n",
    "    #     slice_two_second_agent_value = middle_slice_value(x, y, segments, agents[1], cuts[0], cuts[1])\n",
    "    #     slice_one_second_agent_value = first_slice_value(x, segments, agents[1], cuts[0])\n",
    "    #     return slice_two_second_agent_value - slice_one_second_agent_value\n",
    "\n",
    "    # def constraint4(vars, params):\n",
    "    #     cut_one, cut_two = vars\n",
    "    #     x = cut_one - params[0]\n",
    "    #     y = cut_two - params[1]\n",
    "    #     segments = params[2]\n",
    "    #     agents = params[3]\n",
    "    #     cuts = params[4]\n",
    "    #     slice_two_second_agent_value = middle_slice_value(x, y, segments, agents[1], cuts[0], cuts[1])\n",
    "    #     slice_three_second_agent_value = last_slice_value(y, segments, agents[1], cuts[1])\n",
    "    #     return slice_two_second_agent_value - slice_three_second_agent_value\n",
    "\n",
    "    # def constraint5(vars, params):\n",
    "    #     cut_one, cut_two = vars\n",
    "    #     x = cut_one - params[0]\n",
    "    #     y = cut_two - params[1]\n",
    "    #     segments = params[2]\n",
    "    #     agents = params[3]\n",
    "    #     cuts = params[4]\n",
    "    #     slice_three_third_agent_value = last_slice_value(y, segments, agents[2], cuts[1])\n",
    "    #     slice_one_third_agent_value = first_slice_value(x, segments, agents[2], cuts[0])\n",
    "    #     return slice_three_third_agent_value - slice_one_third_agent_value\n",
    "\n",
    "    # def constraint6(vars, params):\n",
    "    #     cut_one, cut_two = vars\n",
    "    #     x = cut_one - params[0]\n",
    "    #     y = cut_two - params[1]\n",
    "    #     segments = params[2]\n",
    "    #     agents = params[3]\n",
    "    #     cuts = params[4]\n",
    "    #     slice_three_third_agent_value = last_slice_value(y, segments, agents[2], cuts[1])\n",
    "    #     slice_two_third_agent_value = middle_slice_value(x, y, segments, agents[2], cuts[0], cuts[1])\n",
    "    #     return slice_three_third_agent_value - slice_two_third_agent_value\n",
    "\n",
    "    # def constraint7(vars, params):\n",
    "    #     cut_one, cut_two = vars\n",
    "    #     return cut_two - cut_one\n",
    "\n",
    "    # cons = [{'type': 'ineq', 'fun': constraint1, 'args': (params,)},\n",
    "    #         {'type': 'ineq', 'fun': constraint2, 'args': (params,)},\n",
    "    #         {'type': 'ineq', 'fun': constraint3, 'args': (params,)},\n",
    "    #         {'type': 'ineq', 'fun': constraint4, 'args': (params,)},\n",
    "    #         {'type': 'ineq', 'fun': constraint5, 'args': (params,)},\n",
    "    #         {'type': 'ineq', 'fun': constraint6, 'args': (params,)},\n",
    "    #         {'type': 'ineq', 'fun': constraint7, 'args': (params,)}]\n",
    "\n",
    "    cons = constraints_three_agents(segments, agents, cuts, params)\n",
    "\n",
    "    initial_guess = [cut_one_lower_bound, cut_two_lower_bound]\n",
    "\n",
    "    cut_bounds = [(cut_one_lower_bound, cut_one_upper_bound), (cut_two_lower_bound, cut_two_upper_bound)]\n",
    "\n",
    "    def objective(vars, *arge):\n",
    "        return 0\n",
    "\n",
    "    result = minimize(objective, initial_guess, args=(params,), constraints=cons, bounds= cut_bounds)\n",
    "\n",
    "    if result.success:\n",
    "        return {'envy_free_check':True, 'cuts': result.x}\n",
    "    else:\n",
    "        return {'envy_free_check':False, 'cuts': None}"
   ]
  },
  {
   "cell_type": "code",
   "execution_count": 96,
   "id": "0e7a4a1c-0747-4946-9691-cfccda7d68e6",
   "metadata": {},
   "outputs": [],
   "source": [
    "def find_division_four_agents(segments, agents, cuts):\n",
    "    cut_one_lower_bound = segments[0][cuts[0]]['start']\n",
    "    cut_one_upper_bound = segments[0][cuts[0]]['end']\n",
    "    cut_two_lower_bound = segments[0][cuts[1]]['start']\n",
    "    cut_two_upper_bound = segments[0][cuts[1]]['end']\n",
    "    cut_three_lower_bound = segments[0][cuts[2]]['start']\n",
    "    cut_three_upper_bound = segments[0][cuts[2]]['end']\n",
    "    params = [cut_one_lower_bound, cut_two_lower_bound, cut_three_lower_bound, segments, agents, cuts]\n",
    "\n",
    "    # def constraint1(vars, params):\n",
    "    #     cut_one, cut_two, cut_three = vars\n",
    "    #     x = cut_one - params[0]\n",
    "    #     y = cut_two - params[1]\n",
    "    #     segments = params[3]\n",
    "    #     agents = params[4]\n",
    "    #     cuts = params[5]\n",
    "    #     slice_one_first_agent_value = first_slice_value(x, segments, agents[0], cuts[0])\n",
    "    #     slice_two_first_agent_value = middle_slice_value(x, y, segments, agents[0], cuts[0], cuts[1])\n",
    "    #     return slice_one_first_agent_value - slice_two_first_agent_value\n",
    "            \n",
    "\n",
    "    # def constraint2(vars, params):\n",
    "    #     cut_one, cut_two, cut_three = vars\n",
    "    #     x = cut_one - params[0]\n",
    "    #     y = cut_two - params[1]\n",
    "    #     z = cut_three - params[2]\n",
    "    #     segments = params[3]\n",
    "    #     agents = params[4]\n",
    "    #     cuts = params[5]\n",
    "    #     slice_one_first_agent_value = first_slice_value(x, segments, agents[0], cuts[0])\n",
    "    #     slice_three_first_agent_value = middle_slice_value(y, z, segments, agents[0], cuts[1], cuts[2])\n",
    "    #     return slice_one_first_agent_value - slice_three_first_agent_value\n",
    "\n",
    "    # def constraint3(vars, params):\n",
    "    #     cut_one, cut_two, cut_three = vars\n",
    "    #     x = cut_one - params[0]\n",
    "    #     z = cut_three - params[2]\n",
    "    #     segments = params[3]\n",
    "    #     agents = params[4]\n",
    "    #     cuts = params[5]\n",
    "    #     slice_one_first_agent_value = first_slice_value(x, segments, agents[0], cuts[0])\n",
    "    #     slice_four_first_agent_value = last_slice_value(z, segments, agents[0], cuts[2])\n",
    "    #     return slice_one_first_agent_value - slice_four_first_agent_value\n",
    "\n",
    "    # def constraint4(vars, params):\n",
    "    #     cut_one, cut_two, cut_three = vars\n",
    "    #     x = cut_one - params[0]\n",
    "    #     y = cut_two - params[1]\n",
    "    #     segments = params[3]\n",
    "    #     agents = params[4]\n",
    "    #     cuts = params[5]\n",
    "    #     slice_two_second_agent_value =  middle_slice_value(x, y, segments, agents[1], cuts[0], cuts[1])\n",
    "    #     slice_one_second_agent_value = first_slice_value(x, segments, agents[1], cuts[0])\n",
    "    #     return slice_two_second_agent_value - slice_one_second_agent_value\n",
    "\n",
    "    # def constraint5(vars, params):\n",
    "    #     cut_one, cut_two, cut_three = vars\n",
    "    #     x = cut_one - params[0]\n",
    "    #     y = cut_two - params[1]\n",
    "    #     z = cut_three - params[2]\n",
    "    #     segments = params[3]\n",
    "    #     agents = params[4]\n",
    "    #     cuts = params[5]\n",
    "    #     slice_two_second_agent_value =  middle_slice_value(x, y, segments, agents[1], cuts[0], cuts[1])\n",
    "    #     slice_three_second_agent_value = middle_slice_value(y, z, segments, agents[1], cuts[1], cuts[2])\n",
    "    #     return slice_two_second_agent_value - slice_three_second_agent_value\n",
    "\n",
    "    # def constraint6(vars, params):\n",
    "    #     cut_one, cut_two, cut_three = vars\n",
    "    #     x = cut_one - params[0]\n",
    "    #     y = cut_two - params[1]\n",
    "    #     z = cut_three - params[2]\n",
    "    #     segments = params[3]\n",
    "    #     agents = params[4]\n",
    "    #     cuts = params[5]\n",
    "    #     slice_two_second_agent_value =  middle_slice_value(x, y, segments, agents[1], cuts[0], cuts[1])\n",
    "    #     slice_four_second_agent_value = last_slice_value(z, segments, agents[1], cuts[2])\n",
    "    #     return slice_two_second_agent_value - slice_four_second_agent_value\n",
    "\n",
    "    # def constraint7(vars, params):\n",
    "    #     cut_one, cut_two, cut_three = vars\n",
    "    #     x = cut_one - params[0]\n",
    "    #     y = cut_two - params[1]\n",
    "    #     z = cut_three - params[2]\n",
    "    #     segments = params[3]\n",
    "    #     agents = params[4]\n",
    "    #     cuts = params[5]\n",
    "    #     slice_three_third_agent_value = middle_slice_value(y, z, segments, agents[2], cuts[1], cuts[2])\n",
    "    #     slice_one_third_agent_value = first_slice_value(x, segments, agents[2], cuts[0])\n",
    "    #     return slice_three_third_agent_value - slice_one_third_agent_value\n",
    "\n",
    "    # def constraint8(vars, params):\n",
    "    #     cut_one, cut_two, cut_three = vars\n",
    "    #     x = cut_one - params[0]\n",
    "    #     y = cut_two - params[1]\n",
    "    #     z = cut_three - params[2]\n",
    "    #     segments = params[3]\n",
    "    #     agents = params[4]\n",
    "    #     cuts = params[5]\n",
    "    #     slice_three_third_agent_value = middle_slice_value(y, z, segments, agents[2], cuts[1], cuts[2])\n",
    "    #     slice_two_third_agent_value = middle_slice_value(x, y, segments, agents[2], cuts[0], cuts[1])\n",
    "    #     return slice_three_third_agent_value - slice_two_third_agent_value\n",
    "\n",
    "    # def constraint9(vars, params):\n",
    "    #     cut_one, cut_two, cut_three = vars\n",
    "    #     y = cut_two - params[1]\n",
    "    #     z = cut_three - params[2]\n",
    "    #     segments = params[3]\n",
    "    #     agents = params[4]\n",
    "    #     cuts = params[5]\n",
    "    #     slice_three_third_agent_value = middle_slice_value(y, z, segments, agents[2], cuts[1], cuts[2])\n",
    "    #     slice_four_third_agent_value = last_slice_value(z, segments, agents[2], cuts[2])\n",
    "    #     return slice_three_third_agent_value - slice_four_third_agent_value\n",
    "\n",
    "    # def constraint10(vars, params):\n",
    "    #     cut_one, cut_two, cut_three = vars\n",
    "    #     x = cut_one - params[0]\n",
    "    #     z = cut_three - params[2]\n",
    "    #     segments = params[3]\n",
    "    #     agents = params[4]\n",
    "    #     cuts = params[5]\n",
    "    #     slice_four_fourth_agent_value = last_slice_value(z, segments, agents[3], cuts[2])\n",
    "    #     slice_one_fourth_agent_value = first_slice_value(x, segments, agents[3], cuts[0])\n",
    "    #     return slice_four_fourth_agent_value - slice_one_fourth_agent_value\n",
    "\n",
    "    # def constraint11(vars, params):\n",
    "    #     cut_one, cut_two, cut_three = vars\n",
    "    #     x = cut_one - params[0]\n",
    "    #     y = cut_two - params[1]\n",
    "    #     z = cut_three - params[2]\n",
    "    #     segments = params[3]\n",
    "    #     agents = params[4]\n",
    "    #     cuts = params[5]\n",
    "    #     slice_four_fourth_agent_value = last_slice_value(z, segments, agents[3], cuts[2])\n",
    "    #     slice_two_fourth_agent_value = middle_slice_value(x, y, segments, agents[3], cuts[0], cuts[1])\n",
    "    #     return slice_four_fourth_agent_value - slice_two_fourth_agent_value\n",
    "\n",
    "    # def constraint12(vars, params):\n",
    "    #     cut_one, cut_two, cut_three = vars\n",
    "    #     y = cut_two - params[1]\n",
    "    #     z = cut_three - params[2]\n",
    "    #     segments = params[3]\n",
    "    #     agents = params[4]\n",
    "    #     cuts = params[5]\n",
    "    #     slice_four_fourth_agent_value = last_slice_value(z, segments, agents[3], cuts[2])\n",
    "    #     slice_three_fourth_agent_value = middle_slice_value(y, z, segments, agents[3], cuts[1], cuts[2])\n",
    "    #     return slice_four_fourth_agent_value - slice_three_fourth_agent_value\n",
    "\n",
    "    # def constraint13(vars, params):\n",
    "    #     cut_one, cut_two, cut_three = vars\n",
    "    #     return cut_two - cut_one\n",
    "\n",
    "    # def constraint14(vars, params):\n",
    "    #     cut_one, cut_two, cut_three = vars\n",
    "    #     return cut_three - cut_one\n",
    "\n",
    "    # def constraint15(vars, params):\n",
    "    #     cut_one, cut_two, cut_three = vars\n",
    "    #     return cut_three - cut_two\n",
    "\n",
    "    # cons = [{'type': 'ineq', 'fun': constraint1, 'args': (params,)},\n",
    "    #         {'type': 'ineq', 'fun': constraint2, 'args': (params,)},\n",
    "    #         {'type': 'ineq', 'fun': constraint3, 'args': (params,)},\n",
    "    #         {'type': 'ineq', 'fun': constraint4, 'args': (params,)},\n",
    "    #         {'type': 'ineq', 'fun': constraint5, 'args': (params,)},\n",
    "    #         {'type': 'ineq', 'fun': constraint6, 'args': (params,)},\n",
    "    #         {'type': 'ineq', 'fun': constraint7, 'args': (params,)},\n",
    "    #         {'type': 'ineq', 'fun': constraint8, 'args': (params,)},\n",
    "    #         {'type': 'ineq', 'fun': constraint9, 'args': (params,)},\n",
    "    #         {'type': 'ineq', 'fun': constraint10, 'args': (params,)},\n",
    "    #         {'type': 'ineq', 'fun': constraint11, 'args': (params,)},\n",
    "    #         {'type': 'ineq', 'fun': constraint12, 'args': (params,)},\n",
    "    #         {'type': 'ineq', 'fun': constraint13, 'args': (params,)},\n",
    "    #         {'type': 'ineq', 'fun': constraint14, 'args': (params,)},\n",
    "    #         {'type': 'ineq', 'fun': constraint15, 'args': (params,)}]\n",
    "\n",
    "    cons = constraints_four_agents(segments, agents, cuts, params)\n",
    "\n",
    "    initial_guess = [cut_one_lower_bound, cut_two_lower_bound, cut_three_lower_bound]\n",
    "\n",
    "    cut_bounds = [(cut_one_lower_bound, cut_one_upper_bound), (cut_two_lower_bound, cut_two_upper_bound),\n",
    "                  (cut_three_lower_bound, cut_three_upper_bound)]\n",
    "\n",
    "    def objective(vars, *arge):\n",
    "        return 0\n",
    "\n",
    "    result = minimize(objective, initial_guess, args=(params,), constraints=cons, bounds= cut_bounds)\n",
    "\n",
    "    if result.success:\n",
    "        return {'envy_free_check':True, 'cuts': result.x}\n",
    "    else:\n",
    "        return {'envy_free_check':False, 'cuts': None}"
   ]
  },
  {
   "cell_type": "code",
   "execution_count": 17,
   "id": "2eebb553-9f3e-4453-bcaa-7b17747000dd",
   "metadata": {},
   "outputs": [
    {
     "ename": "NameError",
     "evalue": "name 'contraints1' is not defined",
     "output_type": "error",
     "traceback": [
      "\u001b[1;31m---------------------------------------------------------------------------\u001b[0m",
      "\u001b[1;31mNameError\u001b[0m                                 Traceback (most recent call last)",
      "Cell \u001b[1;32mIn[17], line 2\u001b[0m\n\u001b[0;32m      1\u001b[0m \u001b[38;5;28mvars\u001b[39m \u001b[38;5;241m=\u001b[39m (\u001b[38;5;241m1\u001b[39m,\u001b[38;5;241m2\u001b[39m)\n\u001b[1;32m----> 2\u001b[0m \u001b[43mcontraints1\u001b[49m(\u001b[38;5;28mvars\u001b[39m, params)\n",
      "\u001b[1;31mNameError\u001b[0m: name 'contraints1' is not defined"
     ]
    }
   ],
   "source": [
    "vars = (1,2)\n",
    "contraints1(vars, params)"
   ]
  },
  {
   "cell_type": "code",
   "execution_count": 18,
   "id": "37e70da1-da04-4d9e-b525-ba050609d612",
   "metadata": {},
   "outputs": [
    {
     "ename": "NameError",
     "evalue": "name 'make_first_slice_value_function' is not defined",
     "output_type": "error",
     "traceback": [
      "\u001b[1;31m---------------------------------------------------------------------------\u001b[0m",
      "\u001b[1;31mNameError\u001b[0m                                 Traceback (most recent call last)",
      "Cell \u001b[1;32mIn[18], line 1\u001b[0m\n\u001b[1;32m----> 1\u001b[0m check \u001b[38;5;241m=\u001b[39m \u001b[43mmake_first_slice_value_function\u001b[49m(segments, \u001b[38;5;241m0\u001b[39m, \u001b[38;5;241m1\u001b[39m)\n",
      "\u001b[1;31mNameError\u001b[0m: name 'make_first_slice_value_function' is not defined"
     ]
    }
   ],
   "source": [
    "check = make_first_slice_value_function(segments, 0, 1)"
   ]
  },
  {
   "cell_type": "code",
   "execution_count": 19,
   "id": "3a322ac3-0016-486c-b752-b41e594fa96b",
   "metadata": {},
   "outputs": [
    {
     "ename": "NameError",
     "evalue": "name 'check' is not defined",
     "output_type": "error",
     "traceback": [
      "\u001b[1;31m---------------------------------------------------------------------------\u001b[0m",
      "\u001b[1;31mNameError\u001b[0m                                 Traceback (most recent call last)",
      "Cell \u001b[1;32mIn[19], line 1\u001b[0m\n\u001b[1;32m----> 1\u001b[0m \u001b[43mcheck\u001b[49m(\u001b[38;5;241m0\u001b[39m)\n",
      "\u001b[1;31mNameError\u001b[0m: name 'check' is not defined"
     ]
    }
   ],
   "source": [
    "check(0)"
   ]
  },
  {
   "cell_type": "code",
   "execution_count": 20,
   "id": "b38efdf0-99d2-4773-b84b-45021c7d2f83",
   "metadata": {},
   "outputs": [
    {
     "ename": "NameError",
     "evalue": "name 'check' is not defined",
     "output_type": "error",
     "traceback": [
      "\u001b[1;31m---------------------------------------------------------------------------\u001b[0m",
      "\u001b[1;31mNameError\u001b[0m                                 Traceback (most recent call last)",
      "Cell \u001b[1;32mIn[20], line 1\u001b[0m\n\u001b[1;32m----> 1\u001b[0m \u001b[43mcheck\u001b[49m(\u001b[38;5;241m1\u001b[39m\u001b[38;5;241m/\u001b[39m\u001b[38;5;241m3\u001b[39m)\n",
      "\u001b[1;31mNameError\u001b[0m: name 'check' is not defined"
     ]
    }
   ],
   "source": [
    "check(1/3)"
   ]
  },
  {
   "cell_type": "code",
   "execution_count": 21,
   "id": "a4359a68-0d26-4d34-950c-fac530a2cd62",
   "metadata": {},
   "outputs": [
    {
     "ename": "NameError",
     "evalue": "name 'segments' is not defined",
     "output_type": "error",
     "traceback": [
      "\u001b[1;31m---------------------------------------------------------------------------\u001b[0m",
      "\u001b[1;31mNameError\u001b[0m                                 Traceback (most recent call last)",
      "Cell \u001b[1;32mIn[21], line 1\u001b[0m\n\u001b[1;32m----> 1\u001b[0m cuts \u001b[38;5;241m=\u001b[39m solver(\u001b[43msegments\u001b[49m, \u001b[38;5;241m3\u001b[39m)\n",
      "\u001b[1;31mNameError\u001b[0m: name 'segments' is not defined"
     ]
    }
   ],
   "source": [
    "cuts = solver(segments, 3)"
   ]
  },
  {
   "cell_type": "code",
   "execution_count": 97,
   "id": "59567a2d-72f4-4c95-bda2-683fa6cc6ee2",
   "metadata": {},
   "outputs": [
    {
     "ename": "NameError",
     "evalue": "name 'params' is not defined",
     "output_type": "error",
     "traceback": [
      "\u001b[1;31m---------------------------------------------------------------------------\u001b[0m",
      "\u001b[1;31mNameError\u001b[0m                                 Traceback (most recent call last)",
      "Cell \u001b[1;32mIn[97], line 1\u001b[0m\n\u001b[1;32m----> 1\u001b[0m cuts \u001b[38;5;241m=\u001b[39m \u001b[43msolver\u001b[49m\u001b[43m(\u001b[49m\u001b[43msegments_four_agents\u001b[49m\u001b[43m,\u001b[49m\u001b[43m \u001b[49m\u001b[38;5;241;43m4\u001b[39;49m\u001b[43m)\u001b[49m\n",
      "Cell \u001b[1;32mIn[60], line 19\u001b[0m, in \u001b[0;36msolver\u001b[1;34m(segments, agents_number)\u001b[0m\n\u001b[0;32m     17\u001b[0m \u001b[38;5;28;01mfor\u001b[39;00m agents \u001b[38;5;129;01min\u001b[39;00m agents_permutations:\n\u001b[0;32m     18\u001b[0m     \u001b[38;5;28;01mfor\u001b[39;00m cuts \u001b[38;5;129;01min\u001b[39;00m cut_positions:\n\u001b[1;32m---> 19\u001b[0m         info \u001b[38;5;241m=\u001b[39m \u001b[43mfind_division\u001b[49m\u001b[43m(\u001b[49m\u001b[43msegments\u001b[49m\u001b[43m,\u001b[49m\u001b[43m \u001b[49m\u001b[43magents\u001b[49m\u001b[43m,\u001b[49m\u001b[43m \u001b[49m\u001b[43mcuts\u001b[49m\u001b[43m,\u001b[49m\u001b[43m \u001b[49m\u001b[43magents_number\u001b[49m\u001b[43m)\u001b[49m\n\u001b[0;32m     20\u001b[0m         \u001b[38;5;28;01mif\u001b[39;00m info[\u001b[38;5;124m'\u001b[39m\u001b[38;5;124menvy_free_check\u001b[39m\u001b[38;5;124m'\u001b[39m] \u001b[38;5;241m==\u001b[39m \u001b[38;5;28;01mTrue\u001b[39;00m:\n\u001b[0;32m     21\u001b[0m             \u001b[38;5;28;01mreturn\u001b[39;00m info[\u001b[38;5;124m'\u001b[39m\u001b[38;5;124mcuts\u001b[39m\u001b[38;5;124m'\u001b[39m]\n",
      "Cell \u001b[1;32mIn[58], line 5\u001b[0m, in \u001b[0;36mfind_division\u001b[1;34m(segments, agents, cuts, agents_number)\u001b[0m\n\u001b[0;32m      3\u001b[0m     \u001b[38;5;28;01mreturn\u001b[39;00m find_division_three_agents(segments, agents, cuts)\n\u001b[0;32m      4\u001b[0m \u001b[38;5;28;01mif\u001b[39;00m agents_number \u001b[38;5;241m==\u001b[39m \u001b[38;5;241m4\u001b[39m:\n\u001b[1;32m----> 5\u001b[0m     \u001b[38;5;28;01mreturn\u001b[39;00m \u001b[43mfind_division_four_agents\u001b[49m\u001b[43m(\u001b[49m\u001b[43msegments\u001b[49m\u001b[43m,\u001b[49m\u001b[43m \u001b[49m\u001b[43magents\u001b[49m\u001b[43m,\u001b[49m\u001b[43m \u001b[49m\u001b[43mcuts\u001b[49m\u001b[43m)\u001b[49m\n",
      "Cell \u001b[1;32mIn[96], line 177\u001b[0m, in \u001b[0;36mfind_division_four_agents\u001b[1;34m(segments, agents, cuts)\u001b[0m\n\u001b[0;32m      8\u001b[0m params \u001b[38;5;241m=\u001b[39m [cut_one_lower_bound, cut_two_lower_bound, cut_three_lower_bound, segments, agents, cuts]\n\u001b[0;32m     10\u001b[0m \u001b[38;5;66;03m# def constraint1(vars, params):\u001b[39;00m\n\u001b[0;32m     11\u001b[0m \u001b[38;5;66;03m#     cut_one, cut_two, cut_three = vars\u001b[39;00m\n\u001b[0;32m     12\u001b[0m \u001b[38;5;66;03m#     x = cut_one - params[0]\u001b[39;00m\n\u001b[1;32m   (...)\u001b[0m\n\u001b[0;32m    174\u001b[0m \u001b[38;5;66;03m#         {'type': 'ineq', 'fun': constraint14, 'args': (params,)},\u001b[39;00m\n\u001b[0;32m    175\u001b[0m \u001b[38;5;66;03m#         {'type': 'ineq', 'fun': constraint15, 'args': (params,)}]\u001b[39;00m\n\u001b[1;32m--> 177\u001b[0m cons \u001b[38;5;241m=\u001b[39m \u001b[43mconstraints_four_agents\u001b[49m\u001b[43m(\u001b[49m\u001b[43msegments\u001b[49m\u001b[43m,\u001b[49m\u001b[43m \u001b[49m\u001b[43magents\u001b[49m\u001b[43m,\u001b[49m\u001b[43m \u001b[49m\u001b[43mcuts\u001b[49m\u001b[43m)\u001b[49m\n\u001b[0;32m    179\u001b[0m initial_guess \u001b[38;5;241m=\u001b[39m [cut_one_lower_bound, cut_two_lower_bound, cut_three_lower_bound]\n\u001b[0;32m    181\u001b[0m cut_bounds \u001b[38;5;241m=\u001b[39m [(cut_one_lower_bound, cut_one_upper_bound), (cut_two_lower_bound, cut_two_upper_bound),\n\u001b[0;32m    182\u001b[0m               (cut_three_lower_bound, cut_three_upper_bound)]\n",
      "Cell \u001b[1;32mIn[94], line 153\u001b[0m, in \u001b[0;36mconstraints_four_agents\u001b[1;34m(segments, agents, cuts)\u001b[0m\n\u001b[0;32m    150\u001b[0m     cut_one, cut_two, cut_three \u001b[38;5;241m=\u001b[39m \u001b[38;5;28mvars\u001b[39m\n\u001b[0;32m    151\u001b[0m     \u001b[38;5;28;01mreturn\u001b[39;00m cut_three \u001b[38;5;241m-\u001b[39m cut_two\n\u001b[1;32m--> 153\u001b[0m cons \u001b[38;5;241m=\u001b[39m [{\u001b[38;5;124m'\u001b[39m\u001b[38;5;124mtype\u001b[39m\u001b[38;5;124m'\u001b[39m: \u001b[38;5;124m'\u001b[39m\u001b[38;5;124mineq\u001b[39m\u001b[38;5;124m'\u001b[39m, \u001b[38;5;124m'\u001b[39m\u001b[38;5;124mfun\u001b[39m\u001b[38;5;124m'\u001b[39m: constraint1, \u001b[38;5;124m'\u001b[39m\u001b[38;5;124margs\u001b[39m\u001b[38;5;124m'\u001b[39m: (\u001b[43mparams\u001b[49m,)},\n\u001b[0;32m    154\u001b[0m         {\u001b[38;5;124m'\u001b[39m\u001b[38;5;124mtype\u001b[39m\u001b[38;5;124m'\u001b[39m: \u001b[38;5;124m'\u001b[39m\u001b[38;5;124mineq\u001b[39m\u001b[38;5;124m'\u001b[39m, \u001b[38;5;124m'\u001b[39m\u001b[38;5;124mfun\u001b[39m\u001b[38;5;124m'\u001b[39m: constraint2, \u001b[38;5;124m'\u001b[39m\u001b[38;5;124margs\u001b[39m\u001b[38;5;124m'\u001b[39m: (params,)},\n\u001b[0;32m    155\u001b[0m         {\u001b[38;5;124m'\u001b[39m\u001b[38;5;124mtype\u001b[39m\u001b[38;5;124m'\u001b[39m: \u001b[38;5;124m'\u001b[39m\u001b[38;5;124mineq\u001b[39m\u001b[38;5;124m'\u001b[39m, \u001b[38;5;124m'\u001b[39m\u001b[38;5;124mfun\u001b[39m\u001b[38;5;124m'\u001b[39m: constraint3, \u001b[38;5;124m'\u001b[39m\u001b[38;5;124margs\u001b[39m\u001b[38;5;124m'\u001b[39m: (params,)},\n\u001b[0;32m    156\u001b[0m         {\u001b[38;5;124m'\u001b[39m\u001b[38;5;124mtype\u001b[39m\u001b[38;5;124m'\u001b[39m: \u001b[38;5;124m'\u001b[39m\u001b[38;5;124mineq\u001b[39m\u001b[38;5;124m'\u001b[39m, \u001b[38;5;124m'\u001b[39m\u001b[38;5;124mfun\u001b[39m\u001b[38;5;124m'\u001b[39m: constraint4, \u001b[38;5;124m'\u001b[39m\u001b[38;5;124margs\u001b[39m\u001b[38;5;124m'\u001b[39m: (params,)},\n\u001b[0;32m    157\u001b[0m         {\u001b[38;5;124m'\u001b[39m\u001b[38;5;124mtype\u001b[39m\u001b[38;5;124m'\u001b[39m: \u001b[38;5;124m'\u001b[39m\u001b[38;5;124mineq\u001b[39m\u001b[38;5;124m'\u001b[39m, \u001b[38;5;124m'\u001b[39m\u001b[38;5;124mfun\u001b[39m\u001b[38;5;124m'\u001b[39m: constraint5, \u001b[38;5;124m'\u001b[39m\u001b[38;5;124margs\u001b[39m\u001b[38;5;124m'\u001b[39m: (params,)},\n\u001b[0;32m    158\u001b[0m         {\u001b[38;5;124m'\u001b[39m\u001b[38;5;124mtype\u001b[39m\u001b[38;5;124m'\u001b[39m: \u001b[38;5;124m'\u001b[39m\u001b[38;5;124mineq\u001b[39m\u001b[38;5;124m'\u001b[39m, \u001b[38;5;124m'\u001b[39m\u001b[38;5;124mfun\u001b[39m\u001b[38;5;124m'\u001b[39m: constraint6, \u001b[38;5;124m'\u001b[39m\u001b[38;5;124margs\u001b[39m\u001b[38;5;124m'\u001b[39m: (params,)},\n\u001b[0;32m    159\u001b[0m         {\u001b[38;5;124m'\u001b[39m\u001b[38;5;124mtype\u001b[39m\u001b[38;5;124m'\u001b[39m: \u001b[38;5;124m'\u001b[39m\u001b[38;5;124mineq\u001b[39m\u001b[38;5;124m'\u001b[39m, \u001b[38;5;124m'\u001b[39m\u001b[38;5;124mfun\u001b[39m\u001b[38;5;124m'\u001b[39m: constraint7, \u001b[38;5;124m'\u001b[39m\u001b[38;5;124margs\u001b[39m\u001b[38;5;124m'\u001b[39m: (params,)},\n\u001b[0;32m    160\u001b[0m         {\u001b[38;5;124m'\u001b[39m\u001b[38;5;124mtype\u001b[39m\u001b[38;5;124m'\u001b[39m: \u001b[38;5;124m'\u001b[39m\u001b[38;5;124mineq\u001b[39m\u001b[38;5;124m'\u001b[39m, \u001b[38;5;124m'\u001b[39m\u001b[38;5;124mfun\u001b[39m\u001b[38;5;124m'\u001b[39m: constraint8, \u001b[38;5;124m'\u001b[39m\u001b[38;5;124margs\u001b[39m\u001b[38;5;124m'\u001b[39m: (params,)},\n\u001b[0;32m    161\u001b[0m         {\u001b[38;5;124m'\u001b[39m\u001b[38;5;124mtype\u001b[39m\u001b[38;5;124m'\u001b[39m: \u001b[38;5;124m'\u001b[39m\u001b[38;5;124mineq\u001b[39m\u001b[38;5;124m'\u001b[39m, \u001b[38;5;124m'\u001b[39m\u001b[38;5;124mfun\u001b[39m\u001b[38;5;124m'\u001b[39m: constraint9, \u001b[38;5;124m'\u001b[39m\u001b[38;5;124margs\u001b[39m\u001b[38;5;124m'\u001b[39m: (params,)},\n\u001b[0;32m    162\u001b[0m         {\u001b[38;5;124m'\u001b[39m\u001b[38;5;124mtype\u001b[39m\u001b[38;5;124m'\u001b[39m: \u001b[38;5;124m'\u001b[39m\u001b[38;5;124mineq\u001b[39m\u001b[38;5;124m'\u001b[39m, \u001b[38;5;124m'\u001b[39m\u001b[38;5;124mfun\u001b[39m\u001b[38;5;124m'\u001b[39m: constraint10, \u001b[38;5;124m'\u001b[39m\u001b[38;5;124margs\u001b[39m\u001b[38;5;124m'\u001b[39m: (params,)},\n\u001b[0;32m    163\u001b[0m         {\u001b[38;5;124m'\u001b[39m\u001b[38;5;124mtype\u001b[39m\u001b[38;5;124m'\u001b[39m: \u001b[38;5;124m'\u001b[39m\u001b[38;5;124mineq\u001b[39m\u001b[38;5;124m'\u001b[39m, \u001b[38;5;124m'\u001b[39m\u001b[38;5;124mfun\u001b[39m\u001b[38;5;124m'\u001b[39m: constraint11, \u001b[38;5;124m'\u001b[39m\u001b[38;5;124margs\u001b[39m\u001b[38;5;124m'\u001b[39m: (params,)},\n\u001b[0;32m    164\u001b[0m         {\u001b[38;5;124m'\u001b[39m\u001b[38;5;124mtype\u001b[39m\u001b[38;5;124m'\u001b[39m: \u001b[38;5;124m'\u001b[39m\u001b[38;5;124mineq\u001b[39m\u001b[38;5;124m'\u001b[39m, \u001b[38;5;124m'\u001b[39m\u001b[38;5;124mfun\u001b[39m\u001b[38;5;124m'\u001b[39m: constraint12, \u001b[38;5;124m'\u001b[39m\u001b[38;5;124margs\u001b[39m\u001b[38;5;124m'\u001b[39m: (params,)},\n\u001b[0;32m    165\u001b[0m         {\u001b[38;5;124m'\u001b[39m\u001b[38;5;124mtype\u001b[39m\u001b[38;5;124m'\u001b[39m: \u001b[38;5;124m'\u001b[39m\u001b[38;5;124mineq\u001b[39m\u001b[38;5;124m'\u001b[39m, \u001b[38;5;124m'\u001b[39m\u001b[38;5;124mfun\u001b[39m\u001b[38;5;124m'\u001b[39m: constraint13, \u001b[38;5;124m'\u001b[39m\u001b[38;5;124margs\u001b[39m\u001b[38;5;124m'\u001b[39m: (params,)},\n\u001b[0;32m    166\u001b[0m         {\u001b[38;5;124m'\u001b[39m\u001b[38;5;124mtype\u001b[39m\u001b[38;5;124m'\u001b[39m: \u001b[38;5;124m'\u001b[39m\u001b[38;5;124mineq\u001b[39m\u001b[38;5;124m'\u001b[39m, \u001b[38;5;124m'\u001b[39m\u001b[38;5;124mfun\u001b[39m\u001b[38;5;124m'\u001b[39m: constraint14, \u001b[38;5;124m'\u001b[39m\u001b[38;5;124margs\u001b[39m\u001b[38;5;124m'\u001b[39m: (params,)},\n\u001b[0;32m    167\u001b[0m         {\u001b[38;5;124m'\u001b[39m\u001b[38;5;124mtype\u001b[39m\u001b[38;5;124m'\u001b[39m: \u001b[38;5;124m'\u001b[39m\u001b[38;5;124mineq\u001b[39m\u001b[38;5;124m'\u001b[39m, \u001b[38;5;124m'\u001b[39m\u001b[38;5;124mfun\u001b[39m\u001b[38;5;124m'\u001b[39m: constraint15, \u001b[38;5;124m'\u001b[39m\u001b[38;5;124margs\u001b[39m\u001b[38;5;124m'\u001b[39m: (params,)}]\n\u001b[0;32m    169\u001b[0m \u001b[38;5;28;01mreturn\u001b[39;00m cons\n",
      "\u001b[1;31mNameError\u001b[0m: name 'params' is not defined"
     ]
    }
   ],
   "source": [
    "cuts = solver(segments_four_agents, 4)"
   ]
  },
  {
   "cell_type": "code",
   "execution_count": 71,
   "id": "9a0619d2-ac45-48cf-a2ba-211d5ce7dcbe",
   "metadata": {},
   "outputs": [
    {
     "data": {
      "text/plain": [
       "0.0"
      ]
     },
     "execution_count": 71,
     "metadata": {},
     "output_type": "execute_result"
    }
   ],
   "source": [
    "middle_slice_value(0.333333, 0.333333, segments_four_agents, 0, 0, 0)"
   ]
  },
  {
   "cell_type": "code",
   "execution_count": 73,
   "id": "d70eccc0-ff79-481f-84a1-b9a775b7a2f6",
   "metadata": {},
   "outputs": [
    {
     "data": {
      "text/plain": [
       "array([0.21339025, 0.47454238, 0.78258352])"
      ]
     },
     "execution_count": 73,
     "metadata": {},
     "output_type": "execute_result"
    }
   ],
   "source": [
    "cuts"
   ]
  },
  {
   "cell_type": "code",
   "execution_count": 74,
   "id": "90646f6e-75c1-4b33-8860-6377bc828768",
   "metadata": {},
   "outputs": [],
   "source": [
    "lower_one = 1/3"
   ]
  },
  {
   "cell_type": "code",
   "execution_count": 75,
   "id": "dad95070-0673-473a-9643-7a90cdb2d699",
   "metadata": {},
   "outputs": [],
   "source": [
    "lower_two = 2/3"
   ]
  },
  {
   "cell_type": "code",
   "execution_count": 76,
   "id": "95bfec32-110f-404d-af1a-d187aed6fe06",
   "metadata": {},
   "outputs": [
    {
     "data": {
      "text/plain": [
       "1.4510536823714628"
      ]
     },
     "execution_count": 76,
     "metadata": {},
     "output_type": "execute_result"
    }
   ],
   "source": [
    "first_slice_value(cuts[0], segments_four_agents, 0, 0)"
   ]
  },
  {
   "cell_type": "code",
   "execution_count": 77,
   "id": "01dec44a-b2fe-4b74-97e5-1e05c0868a27",
   "metadata": {},
   "outputs": [
    {
     "data": {
      "text/plain": [
       "1.4510536874590838"
      ]
     },
     "execution_count": 77,
     "metadata": {},
     "output_type": "execute_result"
    }
   ],
   "source": [
    "middle_slice_value(cuts[0], cuts[1] - lower_one, segments_four_agents, 0, 0, 1)"
   ]
  },
  {
   "cell_type": "code",
   "execution_count": 78,
   "id": "2d9d803b-2107-4bd2-b5d2-4d35162c75fc",
   "metadata": {},
   "outputs": [
    {
     "data": {
      "text/plain": [
       "1.3861851428412297"
      ]
     },
     "execution_count": 78,
     "metadata": {},
     "output_type": "execute_result"
    }
   ],
   "source": [
    "middle_slice_value(cuts[1] - lower_one, cuts[2] - lower_two, segments_four_agents, 0, 1, 2)"
   ]
  },
  {
   "cell_type": "code",
   "execution_count": 79,
   "id": "5a49d921-8bb4-417a-9d78-8c5239e61f7d",
   "metadata": {},
   "outputs": [
    {
     "data": {
      "text/plain": [
       "0.9783741539948902"
      ]
     },
     "execution_count": 79,
     "metadata": {},
     "output_type": "execute_result"
    }
   ],
   "source": [
    "last_slice_value(cuts[2] - lower_two, segments_four_agents, 0, 2)"
   ]
  },
  {
   "cell_type": "code",
   "execution_count": 80,
   "id": "732e761c-f1ce-4dbc-a1c7-a9d23e9675a0",
   "metadata": {},
   "outputs": [
    {
     "data": {
      "text/plain": [
       "1.1523073360008675"
      ]
     },
     "execution_count": 80,
     "metadata": {},
     "output_type": "execute_result"
    }
   ],
   "source": [
    "first_slice_value(cuts[0], segments_four_agents, 1, 0)"
   ]
  },
  {
   "cell_type": "code",
   "execution_count": 81,
   "id": "f5e889f9-c0f9-45ff-b30c-8401e7d00e0a",
   "metadata": {},
   "outputs": [
    {
     "data": {
      "text/plain": [
       "1.0430779904122134"
      ]
     },
     "execution_count": 81,
     "metadata": {},
     "output_type": "execute_result"
    }
   ],
   "source": [
    "middle_slice_value(cuts[0], cuts[1] - lower_one, segments_four_agents, 1, 0, 1)"
   ]
  },
  {
   "cell_type": "code",
   "execution_count": 82,
   "id": "6ed60c8f-97cc-413e-944e-55086004d35c",
   "metadata": {},
   "outputs": [
    {
     "data": {
      "text/plain": [
       "1.152307336659604"
      ]
     },
     "execution_count": 82,
     "metadata": {},
     "output_type": "execute_result"
    }
   ],
   "source": [
    "middle_slice_value(cuts[1] - lower_one, cuts[2] - lower_two, segments_four_agents, 1, 1, 2)"
   ]
  },
  {
   "cell_type": "code",
   "execution_count": 83,
   "id": "de1bc880-8681-4585-9984-4ecf2e696482",
   "metadata": {},
   "outputs": [
    {
     "data": {
      "text/plain": [
       "1.1523073369273151"
      ]
     },
     "execution_count": 83,
     "metadata": {},
     "output_type": "execute_result"
    }
   ],
   "source": [
    "last_slice_value(cuts[2] - lower_two, segments_four_agents, 1, 2)"
   ]
  },
  {
   "cell_type": "code",
   "execution_count": 84,
   "id": "abd8a24d-0c40-4861-aaf4-557c307b7991",
   "metadata": {},
   "outputs": [
    {
     "data": {
      "text/plain": [
       "1.429714657630706"
      ]
     },
     "execution_count": 84,
     "metadata": {},
     "output_type": "execute_result"
    }
   ],
   "source": [
    "first_slice_value(cuts[0], segments_four_agents, 2, 0)"
   ]
  },
  {
   "cell_type": "code",
   "execution_count": 85,
   "id": "647e3988-e1e4-480e-be98-bc4e479e4b21",
   "metadata": {},
   "outputs": [
    {
     "data": {
      "text/plain": [
       "0.8459813892468858"
      ]
     },
     "execution_count": 85,
     "metadata": {},
     "output_type": "execute_result"
    }
   ],
   "source": [
    "middle_slice_value(cuts[0], cuts[1] - lower_one, segments_four_agents, 2, 0, 1)"
   ]
  },
  {
   "cell_type": "code",
   "execution_count": 86,
   "id": "d95d7fa4-aa4b-46c3-b8f2-65f39dfd9036",
   "metadata": {},
   "outputs": [
    {
     "data": {
      "text/plain": [
       "0.9733804383313789"
      ]
     },
     "execution_count": 86,
     "metadata": {},
     "output_type": "execute_result"
    }
   ],
   "source": [
    "middle_slice_value(cuts[1] - lower_one, cuts[2] - lower_two, segments_four_agents, 2, 1, 2)"
   ]
  },
  {
   "cell_type": "code",
   "execution_count": 87,
   "id": "94837ade-a5fb-402d-a30d-62b0bf2eb08d",
   "metadata": {},
   "outputs": [
    {
     "data": {
      "text/plain": [
       "1.7175901814576962"
      ]
     },
     "execution_count": 87,
     "metadata": {},
     "output_type": "execute_result"
    }
   ],
   "source": [
    "last_slice_value(cuts[2] - lower_two, segments_four_agents, 2, 2)"
   ]
  },
  {
   "cell_type": "code",
   "execution_count": 88,
   "id": "2a863cd8-bf6e-4afc-b93f-b142442159fd",
   "metadata": {},
   "outputs": [
    {
     "data": {
      "text/plain": [
       "0.3200853711113521"
      ]
     },
     "execution_count": 88,
     "metadata": {},
     "output_type": "execute_result"
    }
   ],
   "source": [
    "first_slice_value(cuts[0], segments_four_agents, 3, 0)"
   ]
  },
  {
   "cell_type": "code",
   "execution_count": 89,
   "id": "2dd6fa77-891c-476e-9e4a-3e42b635fc38",
   "metadata": {},
   "outputs": [
    {
     "data": {
      "text/plain": [
       "1.5214005577901726"
      ]
     },
     "execution_count": 89,
     "metadata": {},
     "output_type": "execute_result"
    }
   ],
   "source": [
    "middle_slice_value(cuts[0], cuts[1] - lower_one, segments_four_agents, 3, 0, 1)"
   ]
  },
  {
   "cell_type": "code",
   "execution_count": 90,
   "id": "f6ddc39e-1080-49b3-926d-b6848dbb605a",
   "metadata": {},
   "outputs": [
    {
     "data": {
      "text/plain": [
       "2.1729313017685485"
      ]
     },
     "execution_count": 90,
     "metadata": {},
     "output_type": "execute_result"
    }
   ],
   "source": [
    "middle_slice_value(cuts[1] - lower_one, cuts[2] - lower_two, segments_four_agents, 3, 1, 2)"
   ]
  },
  {
   "cell_type": "code",
   "execution_count": 91,
   "id": "c5465f89-99f8-43c8-a8e5-5909bca4ebbd",
   "metadata": {},
   "outputs": [
    {
     "data": {
      "text/plain": [
       "0.6522494359965935"
      ]
     },
     "execution_count": 91,
     "metadata": {},
     "output_type": "execute_result"
    }
   ],
   "source": [
    "last_slice_value(cuts[2] - lower_two, segments_four_agents, 3, 2)"
   ]
  },
  {
   "cell_type": "code",
   "execution_count": 23,
   "id": "4e44e023-b970-438e-9977-610655e8d9e1",
   "metadata": {},
   "outputs": [
    {
     "ename": "NameError",
     "evalue": "name 'segments' is not defined",
     "output_type": "error",
     "traceback": [
      "\u001b[1;31m---------------------------------------------------------------------------\u001b[0m",
      "\u001b[1;31mNameError\u001b[0m                                 Traceback (most recent call last)",
      "Cell \u001b[1;32mIn[23], line 1\u001b[0m\n\u001b[1;32m----> 1\u001b[0m \u001b[43msegments\u001b[49m[\u001b[38;5;241m0\u001b[39m]\n",
      "\u001b[1;31mNameError\u001b[0m: name 'segments' is not defined"
     ]
    }
   ],
   "source": [
    "segments[0]"
   ]
  },
  {
   "cell_type": "code",
   "execution_count": 24,
   "id": "79b92b0b-7465-405d-9b1f-f10495012645",
   "metadata": {},
   "outputs": [
    {
     "ename": "NameError",
     "evalue": "name 'segments' is not defined",
     "output_type": "error",
     "traceback": [
      "\u001b[1;31m---------------------------------------------------------------------------\u001b[0m",
      "\u001b[1;31mNameError\u001b[0m                                 Traceback (most recent call last)",
      "Cell \u001b[1;32mIn[24], line 1\u001b[0m\n\u001b[1;32m----> 1\u001b[0m \u001b[43msegments\u001b[49m[\u001b[38;5;241m1\u001b[39m]\n",
      "\u001b[1;31mNameError\u001b[0m: name 'segments' is not defined"
     ]
    }
   ],
   "source": [
    "segments[1]"
   ]
  },
  {
   "cell_type": "code",
   "execution_count": 25,
   "id": "af77aaaa-6471-436b-9687-76e93ec8db2e",
   "metadata": {},
   "outputs": [
    {
     "ename": "NameError",
     "evalue": "name 'segments' is not defined",
     "output_type": "error",
     "traceback": [
      "\u001b[1;31m---------------------------------------------------------------------------\u001b[0m",
      "\u001b[1;31mNameError\u001b[0m                                 Traceback (most recent call last)",
      "Cell \u001b[1;32mIn[25], line 1\u001b[0m\n\u001b[1;32m----> 1\u001b[0m \u001b[43msegments\u001b[49m[\u001b[38;5;241m2\u001b[39m]\n",
      "\u001b[1;31mNameError\u001b[0m: name 'segments' is not defined"
     ]
    }
   ],
   "source": [
    "segments[2]"
   ]
  },
  {
   "cell_type": "code",
   "execution_count": 26,
   "id": "ed9d7576-77b9-457d-877e-636d65ebdc18",
   "metadata": {},
   "outputs": [
    {
     "ename": "NameError",
     "evalue": "name 'segments' is not defined",
     "output_type": "error",
     "traceback": [
      "\u001b[1;31m---------------------------------------------------------------------------\u001b[0m",
      "\u001b[1;31mNameError\u001b[0m                                 Traceback (most recent call last)",
      "Cell \u001b[1;32mIn[26], line 1\u001b[0m\n\u001b[1;32m----> 1\u001b[0m lower \u001b[38;5;241m=\u001b[39m \u001b[43msegments\u001b[49m[\u001b[38;5;241m0\u001b[39m][\u001b[38;5;241m1\u001b[39m][\u001b[38;5;124m'\u001b[39m\u001b[38;5;124mstart\u001b[39m\u001b[38;5;124m'\u001b[39m]\n",
      "\u001b[1;31mNameError\u001b[0m: name 'segments' is not defined"
     ]
    }
   ],
   "source": [
    "lower = segments[0][1]['start']"
   ]
  },
  {
   "cell_type": "code",
   "execution_count": 27,
   "id": "76561231-3c14-41b8-930e-ab4a5d07f394",
   "metadata": {},
   "outputs": [
    {
     "ename": "NameError",
     "evalue": "name 'first_slice_value' is not defined",
     "output_type": "error",
     "traceback": [
      "\u001b[1;31m---------------------------------------------------------------------------\u001b[0m",
      "\u001b[1;31mNameError\u001b[0m                                 Traceback (most recent call last)",
      "Cell \u001b[1;32mIn[27], line 1\u001b[0m\n\u001b[1;32m----> 1\u001b[0m \u001b[43mfirst_slice_value\u001b[49m(cuts[\u001b[38;5;241m0\u001b[39m], segments, \u001b[38;5;241m0\u001b[39m, \u001b[38;5;241m0\u001b[39m)\n",
      "\u001b[1;31mNameError\u001b[0m: name 'first_slice_value' is not defined"
     ]
    }
   ],
   "source": [
    "first_slice_value(cuts[0], segments, 0, 0)"
   ]
  },
  {
   "cell_type": "code",
   "execution_count": 28,
   "id": "4a07fb3c-c899-446d-935b-204cb13f1645",
   "metadata": {},
   "outputs": [
    {
     "ename": "NameError",
     "evalue": "name 'middle_slice_value' is not defined",
     "output_type": "error",
     "traceback": [
      "\u001b[1;31m---------------------------------------------------------------------------\u001b[0m",
      "\u001b[1;31mNameError\u001b[0m                                 Traceback (most recent call last)",
      "Cell \u001b[1;32mIn[28], line 1\u001b[0m\n\u001b[1;32m----> 1\u001b[0m \u001b[43mmiddle_slice_value\u001b[49m(cuts[\u001b[38;5;241m0\u001b[39m], cuts[\u001b[38;5;241m1\u001b[39m] \u001b[38;5;241m-\u001b[39m lower, segments, \u001b[38;5;241m0\u001b[39m, \u001b[38;5;241m0\u001b[39m, \u001b[38;5;241m1\u001b[39m)\n",
      "\u001b[1;31mNameError\u001b[0m: name 'middle_slice_value' is not defined"
     ]
    }
   ],
   "source": [
    "middle_slice_value(cuts[0], cuts[1] - lower, segments, 0, 0, 1)"
   ]
  },
  {
   "cell_type": "code",
   "execution_count": 29,
   "id": "dcbf1c3d-964c-48a8-b02f-5aac9e3b1550",
   "metadata": {},
   "outputs": [
    {
     "ename": "NameError",
     "evalue": "name 'last_slice_value' is not defined",
     "output_type": "error",
     "traceback": [
      "\u001b[1;31m---------------------------------------------------------------------------\u001b[0m",
      "\u001b[1;31mNameError\u001b[0m                                 Traceback (most recent call last)",
      "Cell \u001b[1;32mIn[29], line 1\u001b[0m\n\u001b[1;32m----> 1\u001b[0m \u001b[43mlast_slice_value\u001b[49m(cuts[\u001b[38;5;241m1\u001b[39m] \u001b[38;5;241m-\u001b[39m lower, segments, \u001b[38;5;241m0\u001b[39m, \u001b[38;5;241m1\u001b[39m)\n",
      "\u001b[1;31mNameError\u001b[0m: name 'last_slice_value' is not defined"
     ]
    }
   ],
   "source": [
    "last_slice_value(cuts[1] - lower, segments, 0, 1)"
   ]
  },
  {
   "cell_type": "code",
   "execution_count": 30,
   "id": "09d2b6e4-dd78-4b4a-bd6f-4304aaed91f0",
   "metadata": {},
   "outputs": [
    {
     "ename": "NameError",
     "evalue": "name 'first_slice_value' is not defined",
     "output_type": "error",
     "traceback": [
      "\u001b[1;31m---------------------------------------------------------------------------\u001b[0m",
      "\u001b[1;31mNameError\u001b[0m                                 Traceback (most recent call last)",
      "Cell \u001b[1;32mIn[30], line 1\u001b[0m\n\u001b[1;32m----> 1\u001b[0m \u001b[43mfirst_slice_value\u001b[49m(cuts[\u001b[38;5;241m0\u001b[39m], segments, \u001b[38;5;241m1\u001b[39m, \u001b[38;5;241m0\u001b[39m)\n",
      "\u001b[1;31mNameError\u001b[0m: name 'first_slice_value' is not defined"
     ]
    }
   ],
   "source": [
    "first_slice_value(cuts[0], segments, 1, 0)"
   ]
  },
  {
   "cell_type": "code",
   "execution_count": 31,
   "id": "15b59b4c-e203-4681-9293-238d7fffbeb5",
   "metadata": {},
   "outputs": [
    {
     "ename": "NameError",
     "evalue": "name 'middle_slice_value' is not defined",
     "output_type": "error",
     "traceback": [
      "\u001b[1;31m---------------------------------------------------------------------------\u001b[0m",
      "\u001b[1;31mNameError\u001b[0m                                 Traceback (most recent call last)",
      "Cell \u001b[1;32mIn[31], line 1\u001b[0m\n\u001b[1;32m----> 1\u001b[0m \u001b[43mmiddle_slice_value\u001b[49m(cuts[\u001b[38;5;241m0\u001b[39m], cuts[\u001b[38;5;241m1\u001b[39m] \u001b[38;5;241m-\u001b[39m lower, segments, \u001b[38;5;241m1\u001b[39m, \u001b[38;5;241m0\u001b[39m, \u001b[38;5;241m1\u001b[39m)\n",
      "\u001b[1;31mNameError\u001b[0m: name 'middle_slice_value' is not defined"
     ]
    }
   ],
   "source": [
    "middle_slice_value(cuts[0], cuts[1] - lower, segments, 1, 0, 1)"
   ]
  },
  {
   "cell_type": "code",
   "execution_count": 32,
   "id": "33ec65d4-8518-40c3-85b2-3d98037bc135",
   "metadata": {},
   "outputs": [
    {
     "ename": "NameError",
     "evalue": "name 'last_slice_value' is not defined",
     "output_type": "error",
     "traceback": [
      "\u001b[1;31m---------------------------------------------------------------------------\u001b[0m",
      "\u001b[1;31mNameError\u001b[0m                                 Traceback (most recent call last)",
      "Cell \u001b[1;32mIn[32], line 1\u001b[0m\n\u001b[1;32m----> 1\u001b[0m \u001b[43mlast_slice_value\u001b[49m(cuts[\u001b[38;5;241m1\u001b[39m] \u001b[38;5;241m-\u001b[39m lower, segments, \u001b[38;5;241m1\u001b[39m, \u001b[38;5;241m1\u001b[39m)\n",
      "\u001b[1;31mNameError\u001b[0m: name 'last_slice_value' is not defined"
     ]
    }
   ],
   "source": [
    "last_slice_value(cuts[1] - lower, segments, 1, 1)"
   ]
  },
  {
   "cell_type": "code",
   "execution_count": 33,
   "id": "28fd36f8-b32c-499a-ae6b-8c7eff0cec10",
   "metadata": {},
   "outputs": [
    {
     "ename": "NameError",
     "evalue": "name 'first_slice_value' is not defined",
     "output_type": "error",
     "traceback": [
      "\u001b[1;31m---------------------------------------------------------------------------\u001b[0m",
      "\u001b[1;31mNameError\u001b[0m                                 Traceback (most recent call last)",
      "Cell \u001b[1;32mIn[33], line 1\u001b[0m\n\u001b[1;32m----> 1\u001b[0m \u001b[43mfirst_slice_value\u001b[49m(cuts[\u001b[38;5;241m0\u001b[39m], segments, \u001b[38;5;241m2\u001b[39m, \u001b[38;5;241m0\u001b[39m)\n",
      "\u001b[1;31mNameError\u001b[0m: name 'first_slice_value' is not defined"
     ]
    }
   ],
   "source": [
    "first_slice_value(cuts[0], segments, 2, 0)"
   ]
  },
  {
   "cell_type": "code",
   "execution_count": 34,
   "id": "dc7fc9b7-32ff-482f-b463-4dd612d6c6b6",
   "metadata": {},
   "outputs": [
    {
     "ename": "NameError",
     "evalue": "name 'middle_slice_value' is not defined",
     "output_type": "error",
     "traceback": [
      "\u001b[1;31m---------------------------------------------------------------------------\u001b[0m",
      "\u001b[1;31mNameError\u001b[0m                                 Traceback (most recent call last)",
      "Cell \u001b[1;32mIn[34], line 1\u001b[0m\n\u001b[1;32m----> 1\u001b[0m \u001b[43mmiddle_slice_value\u001b[49m(cuts[\u001b[38;5;241m0\u001b[39m], cuts[\u001b[38;5;241m1\u001b[39m] \u001b[38;5;241m-\u001b[39m lower, segments, \u001b[38;5;241m2\u001b[39m, \u001b[38;5;241m0\u001b[39m, \u001b[38;5;241m1\u001b[39m)\n",
      "\u001b[1;31mNameError\u001b[0m: name 'middle_slice_value' is not defined"
     ]
    }
   ],
   "source": [
    "middle_slice_value(cuts[0], cuts[1] - lower, segments, 2, 0, 1)"
   ]
  },
  {
   "cell_type": "code",
   "execution_count": 35,
   "id": "b763798d-cfbf-456d-893f-5c7042cefcdf",
   "metadata": {},
   "outputs": [
    {
     "ename": "NameError",
     "evalue": "name 'last_slice_value' is not defined",
     "output_type": "error",
     "traceback": [
      "\u001b[1;31m---------------------------------------------------------------------------\u001b[0m",
      "\u001b[1;31mNameError\u001b[0m                                 Traceback (most recent call last)",
      "Cell \u001b[1;32mIn[35], line 1\u001b[0m\n\u001b[1;32m----> 1\u001b[0m \u001b[43mlast_slice_value\u001b[49m(cuts[\u001b[38;5;241m1\u001b[39m] \u001b[38;5;241m-\u001b[39m lower, segments, \u001b[38;5;241m2\u001b[39m, \u001b[38;5;241m1\u001b[39m)\n",
      "\u001b[1;31mNameError\u001b[0m: name 'last_slice_value' is not defined"
     ]
    }
   ],
   "source": [
    "last_slice_value(cuts[1] - lower, segments, 2, 1)"
   ]
  },
  {
   "cell_type": "code",
   "execution_count": 36,
   "id": "2c9df796-ec68-4c84-99ab-ba5d9663c2fa",
   "metadata": {},
   "outputs": [
    {
     "ename": "NameError",
     "evalue": "name 'middle_slice_value' is not defined",
     "output_type": "error",
     "traceback": [
      "\u001b[1;31m---------------------------------------------------------------------------\u001b[0m",
      "\u001b[1;31mNameError\u001b[0m                                 Traceback (most recent call last)",
      "Cell \u001b[1;32mIn[36], line 1\u001b[0m\n\u001b[1;32m----> 1\u001b[0m \u001b[38;5;28;01mif\u001b[39;00m \u001b[43mmiddle_slice_value\u001b[49m(cuts[\u001b[38;5;241m0\u001b[39m], cuts[\u001b[38;5;241m1\u001b[39m] \u001b[38;5;241m-\u001b[39m \u001b[38;5;241m1\u001b[39m\u001b[38;5;241m/\u001b[39m\u001b[38;5;241m3\u001b[39m, segments, \u001b[38;5;241m2\u001b[39m, \u001b[38;5;241m0\u001b[39m, \u001b[38;5;241m1\u001b[39m) \u001b[38;5;241m==\u001b[39m last_slice_value(cuts[\u001b[38;5;241m1\u001b[39m] \u001b[38;5;241m-\u001b[39m \u001b[38;5;241m1\u001b[39m\u001b[38;5;241m/\u001b[39m\u001b[38;5;241m3\u001b[39m, segments, \u001b[38;5;241m2\u001b[39m, \u001b[38;5;241m1\u001b[39m):\n\u001b[0;32m      2\u001b[0m     \u001b[38;5;28mprint\u001b[39m(\u001b[38;5;124m\"\u001b[39m\u001b[38;5;124myes\u001b[39m\u001b[38;5;124m\"\u001b[39m)\n",
      "\u001b[1;31mNameError\u001b[0m: name 'middle_slice_value' is not defined"
     ]
    }
   ],
   "source": [
    "if middle_slice_value(cuts[0], cuts[1] - 1/3, segments, 2, 0, 1) == last_slice_value(cuts[1] - 1/3, segments, 2, 1):\n",
    "    print(\"yes\")"
   ]
  },
  {
   "cell_type": "raw",
   "id": "3e1a5e85-0728-4142-92e1-85bb3a9ee89c",
   "metadata": {},
   "source": [
    "segments"
   ]
  },
  {
   "cell_type": "code",
   "execution_count": 51,
   "id": "9560cbe4-e228-408f-ae78-704ec8b18b75",
   "metadata": {},
   "outputs": [],
   "source": [
    "def first_slice_value(x, segments, agent, cut):\n",
    "    first_agent_constant_value = 0\n",
    "    cut_range = segments[agent][cut]['end'] - segments[agent][cut]['start']\n",
    "    for i in range(cut):\n",
    "        first_agent_constant_value += segments[agent][i]['area']\n",
    "    first_agent_variable_value = segments[agent][cut]['value']\n",
    "    if ((0 <= x) and (x <= cut_range)):\n",
    "        value = first_agent_constant_value + x * first_agent_variable_value \n",
    "        return value \n",
    "    else:\n",
    "        return \"Input out of bounds\""
   ]
  },
  {
   "cell_type": "code",
   "execution_count": 70,
   "id": "c6e67625-e4c3-40b4-8429-5497230103d7",
   "metadata": {},
   "outputs": [],
   "source": [
    "def middle_slice_value(x, y, segments, agent, cut_one, cut_two):\n",
    "    cut_one_range = segments[agent][cut_one]['end'] - segments[agent][cut_one]['start']\n",
    "    cut_two_range = segments[agent][cut_two]['end'] - segments[agent][cut_two]['start']\n",
    "    middle_agent_constant_value = 0\n",
    "    for i in range(cut_one+1, cut_two):\n",
    "        middle_agent_constant_value += segments[agent][i]['area']\n",
    "    middle_agent_variable_value_component_one = segments[agent][cut_one]['value']\n",
    "    middle_agent_variable_value_component_two = segments[agent][cut_two]['value']\n",
    "    assert (((0 <= x) and (x <= cut_one_range)) and ((0 <= y) and (y <= cut_two_range))), \\\n",
    "        \"cut out of range\"\n",
    "    if cut_one != cut_two:\n",
    "        value = middle_agent_constant_value + (cut_one_range - x) * middle_agent_variable_value_component_one + \\\n",
    "                y * middle_agent_variable_value_component_two\n",
    "    else:\n",
    "        value = middle_agent_constant_value + (y - x) * middle_agent_variable_value_component_one\n",
    "    return value"
   ]
  },
  {
   "cell_type": "code",
   "execution_count": 69,
   "id": "b44d98ef-8bc6-4f1d-a4db-33e22082f50f",
   "metadata": {},
   "outputs": [],
   "source": []
  },
  {
   "cell_type": "code",
   "execution_count": 53,
   "id": "df456d21-d331-442a-b67f-23825f0a79fc",
   "metadata": {},
   "outputs": [],
   "source": [
    "def last_slice_value(y, segments, agent, cut):\n",
    "    last_agent_constant_value = 0\n",
    "    cut_range = segments[agent][cut]['end'] - segments[agent][cut]['start']\n",
    "    amount_of_segments = len(segments[agent])\n",
    "    for i in range(cut+1, amount_of_segments):\n",
    "        last_agent_constant_value += segments[agent][i]['area']\n",
    "    last_agent_variable_value = segments[agent][cut]['value']\n",
    "    if ((0 <= y) and (y <= cut_range)):\n",
    "        value =  last_agent_constant_value + (cut_range - y) * last_agent_variable_value\n",
    "        return value\n",
    "    else:\n",
    "        return \"Input out of bounds\""
   ]
  },
  {
   "cell_type": "code",
   "execution_count": 40,
   "id": "07f33a74-f8ac-46e3-b0d1-eac2bda0eb41",
   "metadata": {},
   "outputs": [
    {
     "ename": "NameError",
     "evalue": "name 'segments' is not defined",
     "output_type": "error",
     "traceback": [
      "\u001b[1;31m---------------------------------------------------------------------------\u001b[0m",
      "\u001b[1;31mNameError\u001b[0m                                 Traceback (most recent call last)",
      "Cell \u001b[1;32mIn[40], line 1\u001b[0m\n\u001b[1;32m----> 1\u001b[0m solver(\u001b[43msegments\u001b[49m, \u001b[38;5;241m3\u001b[39m)\n",
      "\u001b[1;31mNameError\u001b[0m: name 'segments' is not defined"
     ]
    }
   ],
   "source": [
    "solver(segments, 3)"
   ]
  },
  {
   "cell_type": "code",
   "execution_count": 41,
   "id": "275d4887-eef8-434d-9fb9-0335f40ae0ab",
   "metadata": {},
   "outputs": [],
   "source": [
    "for i in range(0):\n",
    "    print(i)"
   ]
  },
  {
   "cell_type": "code",
   "execution_count": null,
   "id": "86845976-4dc3-4365-991f-b42279bb3f30",
   "metadata": {},
   "outputs": [],
   "source": []
  },
  {
   "cell_type": "code",
   "execution_count": null,
   "id": "7e9aa846-300c-450f-8026-0c1bad6c24ed",
   "metadata": {},
   "outputs": [],
   "source": []
  },
  {
   "cell_type": "code",
   "execution_count": null,
   "id": "8c3bfe8f-417a-448e-948d-2e9835662a5e",
   "metadata": {},
   "outputs": [],
   "source": []
  },
  {
   "cell_type": "code",
   "execution_count": null,
   "id": "4fb228cd-0380-4e40-9d62-e279c1e14e7b",
   "metadata": {},
   "outputs": [],
   "source": []
  },
  {
   "cell_type": "code",
   "execution_count": null,
   "id": "8ce49795-0487-40fd-b084-0b209659cce3",
   "metadata": {},
   "outputs": [],
   "source": []
  }
 ],
 "metadata": {
  "kernelspec": {
   "display_name": "Python 3 (ipykernel)",
   "language": "python",
   "name": "python3"
  },
  "language_info": {
   "codemirror_mode": {
    "name": "ipython",
    "version": 3
   },
   "file_extension": ".py",
   "mimetype": "text/x-python",
   "name": "python",
   "nbconvert_exporter": "python",
   "pygments_lexer": "ipython3",
   "version": "3.10.13"
  }
 },
 "nbformat": 4,
 "nbformat_minor": 5
}
