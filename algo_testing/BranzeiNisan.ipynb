{
 "cells": [
  {
   "cell_type": "code",
   "execution_count": null,
   "id": "bdf1052b-c2c2-44b6-9a0a-da526669465a",
   "metadata": {},
   "outputs": [],
   "source": [
    "np.sum(np.diff(x) * (y[:-1] + np.diff(y)/2))"
   ]
  },
  {
   "cell_type": "code",
   "execution_count": 14,
   "id": "be4f757b-9de4-4ae7-bb3d-2677241bfa75",
   "metadata": {},
   "outputs": [],
   "source": [
    "import numpy as np"
   ]
  },
  {
   "cell_type": "code",
   "execution_count": 63,
   "id": "a4bfa87d-292b-4d6c-b8bd-ee2de1c80fcb",
   "metadata": {},
   "outputs": [],
   "source": [
    "class Preferences(object):\n",
    "    def __init__(self):\n",
    "        self.end = 0\n",
    "        self.endvalue = 0\n",
    "        self.id = 0\n",
    "        self.start = 0\n",
    "        self.startvalue = 0"
   ]
  },
  {
   "cell_type": "code",
   "execution_count": 64,
   "id": "6f7c3179-8569-4c59-9767-ba0e2861b57c",
   "metadata": {},
   "outputs": [],
   "source": [
    "#row is agent, column is slice\n",
    "preferences = [[Preferences() for i in range(3)] for j in range(3)]"
   ]
  },
  {
   "cell_type": "code",
   "execution_count": 133,
   "id": "f3f67e1a-3f87-4c8f-9393-54d25bc012d5",
   "metadata": {},
   "outputs": [],
   "source": [
    "preferences[0][0].end = 1\n",
    "preferences[0][0].endvalue = 3.7\n",
    "preferences[0][0].id = 1\n",
    "preferences[0][0].start = 0\n",
    "preferences[0][0].startvalue = 5.8"
   ]
  },
  {
   "cell_type": "code",
   "execution_count": 134,
   "id": "e08428c5-460d-4649-b110-19e3470e116d",
   "metadata": {},
   "outputs": [],
   "source": [
    "preferences[0][1].end = 2\n",
    "preferences[0][1].endvalue = 5.5\n",
    "preferences[0][1].id = 2\n",
    "preferences[0][1].start = 1\n",
    "preferences[0][1].startvalue = 5.5"
   ]
  },
  {
   "cell_type": "code",
   "execution_count": 135,
   "id": "c86f5747-0a06-49d9-9574-18ada0df8e6c",
   "metadata": {},
   "outputs": [],
   "source": [
    "preferences[0][2].end = 3\n",
    "preferences[0][2].endvalue = 7\n",
    "preferences[0][2].id = 3\n",
    "preferences[0][2].start = 2\n",
    "preferences[0][2].startvalue = 1.6"
   ]
  },
  {
   "cell_type": "code",
   "execution_count": 136,
   "id": "5d98c84c-4081-409d-97c5-8eac132ce826",
   "metadata": {},
   "outputs": [],
   "source": [
    "preferences[1][0].end = 1\n",
    "preferences[1][0].endvalue = 7.3\n",
    "preferences[1][0].id = 4\n",
    "preferences[1][0].start = 0\n",
    "preferences[1][0].startvalue = 3"
   ]
  },
  {
   "cell_type": "code",
   "execution_count": 137,
   "id": "68437f56-cb22-4fef-aafb-716b552370f3",
   "metadata": {},
   "outputs": [],
   "source": [
    "preferences[1][1].end = 2\n",
    "preferences[1][1].endvalue = 7.5\n",
    "preferences[1][1].id = 5\n",
    "preferences[1][1].start = 1\n",
    "preferences[1][1].startvalue = 3"
   ]
  },
  {
   "cell_type": "code",
   "execution_count": 138,
   "id": "9ab19b18-6fd7-48ea-a81b-0ad71e1e346e",
   "metadata": {},
   "outputs": [],
   "source": [
    "preferences[1][2].end = 3\n",
    "preferences[1][2].endvalue = 0\n",
    "preferences[1][2].id = 6\n",
    "preferences[1][2].start = 2\n",
    "preferences[1][2].startvalue = 10"
   ]
  },
  {
   "cell_type": "code",
   "execution_count": 139,
   "id": "33318ccf-6f20-4026-8663-dbf98d8c7418",
   "metadata": {},
   "outputs": [],
   "source": [
    "preferences[2][0].end = 1\n",
    "preferences[2][0].endvalue = 4.3\n",
    "preferences[2][0].id = 7\n",
    "preferences[2][0].start = 0\n",
    "preferences[2][0].startvalue = 9.4"
   ]
  },
  {
   "cell_type": "code",
   "execution_count": 140,
   "id": "2d80c980-0bdc-484d-8554-cdc7efe88a83",
   "metadata": {},
   "outputs": [],
   "source": [
    "preferences[2][1].end = 3\n",
    "preferences[2][1].endvalue = 7.6\n",
    "preferences[2][1].id = 8\n",
    "preferences[2][1].start = 1\n",
    "preferences[2][1].startvalue = 7.6"
   ]
  },
  {
   "cell_type": "code",
   "execution_count": 141,
   "id": "17492b6e-dd3b-4f08-9a36-5b2c7557ccba",
   "metadata": {},
   "outputs": [],
   "source": [
    "preferences[2][2] = None"
   ]
  },
  {
   "cell_type": "code",
   "execution_count": 142,
   "id": "4c9d0117-316d-42c8-9452-a3a67839bfd3",
   "metadata": {},
   "outputs": [],
   "source": [
    "cakeSize = 3"
   ]
  },
  {
   "cell_type": "code",
   "execution_count": 143,
   "id": "3f1a3724-6816-4cb5-9cc4-84e2f318048e",
   "metadata": {},
   "outputs": [],
   "source": [
    "#prefs, normalizationConstant = oneLipschitz(preferences, cakeSize)\n",
    "preferences = oneLipschitz(preferences, cakeSize)"
   ]
  },
  {
   "cell_type": "code",
   "execution_count": null,
   "id": "13360cc8-e26b-4272-8497-999c92c04231",
   "metadata": {},
   "outputs": [],
   "source": [
    "epsilion = 0.003"
   ]
  },
  {
   "cell_type": "markdown",
   "id": "7cf769ad-3f1a-4301-a7ef-85f882070c0a",
   "metadata": {},
   "source": [
    "Preprocessing"
   ]
  },
  {
   "cell_type": "markdown",
   "id": "beae7d22-e61a-4aba-a41b-a05bec447a92",
   "metadata": {},
   "source": [
    "Hungriness:"
   ]
  },
  {
   "cell_type": "code",
   "execution_count": null,
   "id": "d27d9780-52ba-4931-9fbd-24392dd2f56b",
   "metadata": {},
   "outputs": [],
   "source": [
    "def branzeiNisan(prefs, cakeSize, epsilon):\n",
    "    preferences = oneLipschitz(prefs, cakeSize)\n",
    "    alphaLowerBound = computeEquipartitionFourAgents(prefs, epsilon)\n",
    "    if checkEnvyFree(prefs, alphaLowerBound) == True:\n",
    "        return division(prefs, alphaLowerBound)\n",
    "    alphaUpperBound = 1\n",
    "    while abs(alphaUpperBound - alphaLowerBound) > ((epsilon/10)**4)/12:\n",
    "        alpha = (alphaLowerBound + alphaUpperBound) / 2\n",
    "        if checkConditions(prefs, alpha) == True:\n",
    "            alphaLowerBound = alpha\n",
    "        else:\n",
    "            alphaUpperBound = alpha\n",
    "    return division(prefs, alphaLowerBound)\n",
    "        "
   ]
  },
  {
   "cell_type": "code",
   "execution_count": null,
   "id": "347f9626-909a-41ae-a611-12784b927453",
   "metadata": {},
   "outputs": [],
   "source": [
    "def computeEquipartitionThreeAgents(prefs, epsilon):\n",
    "    leftCutBounds = findLeftCutBounds(prefs, epsilon)\n",
    "    rightCutBounds = findRightCutBounds(prefs, epsilon)"
   ]
  },
  {
   "cell_type": "code",
   "execution_count": null,
   "id": "a38c7763-8260-4e92-99f4-e3f756678738",
   "metadata": {},
   "outputs": [],
   "source": [
    "def findLeftCutBounds(prefs, epsilon):\n",
    "    leftCutUpperBound = 1\n",
    "    leftCutLowerBound = 0\n",
    "    middleSegmentValue = 2\n",
    "    while abs(leftCutUpperBound - leftCutLowerBound) - epsilon > 1e-10:\n",
    "        leftCut = (leftCutUpperBound + leftCutLowerBound)/2\n",
    "        leftSegmentValue = valueQuery(0, prefs, 0, leftCut)\n",
    "        rightCutUpperBound = 1\n",
    "        rightCutLowerBound = leftCut\n",
    "        while abs(middleSegmentValue - leftSegmentValue) > 1e-15:\n",
    "            rightCut = (rightCutUpperBound + rightCutLowerBound)/2\n",
    "            middleSegmentValue = valueQuery(0, prefs, leftCut, rightCut)\n",
    "            if middleSegmentValue < leftSegmentValue:\n",
    "                rightCutLowerBound = rightCut\n",
    "            if middleSegmentValue > leftSegmentValue:\n",
    "                rightCutUpperBound = rightCut\n",
    "        rightSegmentValue = valueQuery(0, prefs, rightCut, 1)\n",
    "        if rightSegmentValue > leftSegmentValue:\n",
    "            leftCutLowerBound = LeftCut\n",
    "        if rightSegmentValue < leftSegmentValue:\n",
    "            leftCutUpperBound = LeftCut\n",
    "    return leftCutLowerBound, leftCutUpperBound\n",
    "            "
   ]
  },
  {
   "cell_type": "code",
   "execution_count": 105,
   "id": "91e5b24e-1aa3-4214-921e-2b5c67facb12",
   "metadata": {},
   "outputs": [],
   "source": [
    "#Remember to scale by L at end.\n",
    "def oneLipschitz(prefs, cakeSize):\n",
    "    prefs = changeBounds(prefs, cakeSize)\n",
    "    #prefs, normalizationConstants = normalization(prefs)\n",
    "    prefs = normalization(prefs)\n",
    "    return prefs#, normalizationConstants"
   ]
  },
  {
   "cell_type": "code",
   "execution_count": 27,
   "id": "abf05d27-bb4e-41f0-b298-3ee5689eb7bf",
   "metadata": {},
   "outputs": [],
   "source": [
    "def changeBounds(prefs, cakeSize):\n",
    "    agents = np.shape(prefs)[0]\n",
    "    segments = np.shape(prefs)[1]\n",
    "    for i in range(agents):\n",
    "        for j in range(segments):\n",
    "            if prefs[i][j] is not None:\n",
    "                prefs[i][j].start /= cakeSize\n",
    "                prefs[i][j].end /= cakeSize\n",
    "    return prefs\n",
    "        "
   ]
  },
  {
   "cell_type": "code",
   "execution_count": 79,
   "id": "c58e6a1c-c162-451b-bd49-db013f9f4a7d",
   "metadata": {},
   "outputs": [],
   "source": [
    "'''\n",
    "Ensures that each agents values the\n",
    "'''\n",
    "def normalization(prefs):\n",
    "    agents = np.shape(prefs)[0]\n",
    "    segments = np.shape(prefs)[1]\n",
    "    normalizationConstants = np.zeros(agents)\n",
    "    for i in range(agents):\n",
    "        normalizationConstants[i] = valueQueryInitial(i, prefs, 0, 1)\n",
    "        for j in range(segments):\n",
    "            if prefs[i][j] is not None:\n",
    "                prefs[i][j].startvalue /= normalizationConstants[i]\n",
    "                prefs[i][j].endvalue /= normalizationConstants[i]\n",
    "    return prefs#, normalizationConstants\n",
    "        "
   ]
  },
  {
   "cell_type": "code",
   "execution_count": 153,
   "id": "09ebfc83-a55b-4512-b962-3be73779aa46",
   "metadata": {},
   "outputs": [
    {
     "data": {
      "text/plain": [
       "0.9999999999999999"
      ]
     },
     "execution_count": 153,
     "metadata": {},
     "output_type": "execute_result"
    }
   ],
   "source": [
    "'''\n",
    "Linear interpolation on epsilon grid.\n",
    "'''\n",
    "def valueQuery(agent, prefs, start, end, epsilon):\n",
    "    startUpperBound = (start // epsilon) * epsilon + epsilon\n",
    "    endLowerBound = (end // epsilon) * epsilon\n",
    "    \n",
    "    if startUpperBound - start >= end - endLowerBound:\n",
    "        return valueQueryVariantOne(agent, prefs, start, end, epsilon)\n",
    "    if startUpperBound - start < end - endLowerBound:\n",
    "        return valueQueryVariantTwo(agent, prefs, start, end, epsilon)"
   ]
  },
  {
   "cell_type": "code",
   "execution_count": 154,
   "id": "de2013fd-82b2-4f2b-927f-bca53fe2abfd",
   "metadata": {},
   "outputs": [],
   "source": [
    "def valueQueryVariantOne(agent, prefs, start, end, epsilon):\n",
    "    startLowerBound = (start // epsilon) * epsilon\n",
    "    startUpperBound = startLowerBound + epsilon\n",
    "    endLowerBound = (end // epsilon) * epsilon\n",
    "    endUpperBound = endLowerBound + epsilon\n",
    "\n",
    "    queryOne = valueQueryHungry(agent, prefs, startLowerBound, endLowerBound)\n",
    "    queryTwo = valueQueryHungry(agent, prefs, startLowerBound, endUpperBound)\n",
    "    queryThree = valueQueryHungry(agent, prefs, startUpperBound, endLowerBound)\n",
    "    \n",
    "    ComponentOne = (((startUpperBound - start) - (end - endLowerBound)) / epsilon) * \\\n",
    "                    queryOne\n",
    "    ComponentTwo = ((end - endLowerBound) / epsilon) * queryTwo\n",
    "    ComponentThree = ((start - startLowerBound) / epsilon) * queryThree\n",
    "\n",
    "    return componentOne + componentTwo + componentThree\n",
    "                    \n",
    "    "
   ]
  },
  {
   "cell_type": "code",
   "execution_count": 155,
   "id": "451bd25e-2151-4119-a820-4c1f6b11e29d",
   "metadata": {},
   "outputs": [],
   "source": [
    "def valueQueryVariantTwo(agent, prefs, start, end, epsilon):\n",
    "    startLowerBound = (start // epsilon) * epsilon\n",
    "    startUpperBound = startLowerBound + epsilon\n",
    "    endLowerBound = (end // epsilon) * epsilon\n",
    "    endUpperBound = endLowerBound + epsilon\n",
    "\n",
    "    queryOne = valueQueryHungry(agent, prefs, startUpperBound, endUpperBound)\n",
    "    queryTwo = valueQueryHungry(agent, prefs, startLowerBound, endUpperBound)\n",
    "    queryThree = valueQueryHungry(agent, prefs, startUpperBound, endLowerBound)\n",
    "    \n",
    "    ComponentOne = (((end - endLowerBound) - (startUpperBound - start)) / epsilon) * \\\n",
    "                    queryOne\n",
    "    ComponentTwo = ((startUpperBound - start) / epsilon) * queryTwo\n",
    "    ComponentThree = ((endUpperBound - end) / epsilon) * queryThree\n",
    "\n",
    "    return componentOne + componentTwo + componentThree\n",
    "                    \n",
    "    "
   ]
  },
  {
   "cell_type": "code",
   "execution_count": 156,
   "id": "47b43a47-d256-4693-883f-f410c9de6bce",
   "metadata": {},
   "outputs": [],
   "source": [
    "def valueQueryHungry(agent, prefs, start, end, epsilon):\n",
    "    initialValue = valueQueryInitial(agent, prefs, start, end)\n",
    "    value = initialValue/2 + epsilon * (end - start)\n",
    "    return value"
   ]
  },
  {
   "cell_type": "code",
   "execution_count": 158,
   "id": "9134b928-fed5-4535-8684-af751d04df1f",
   "metadata": {},
   "outputs": [],
   "source": [
    "def valueQueryInitial(agent, prefs, start, end):\n",
    "    if end <= start:\n",
    "        value = 0\n",
    "    else:\n",
    "        value = oneSidedQuery(agent, prefs, end) - oneSidedQuery(agent, prefs, start)\n",
    "    return value\n",
    "    "
   ]
  },
  {
   "cell_type": "code",
   "execution_count": 41,
   "id": "26e77695-cbd7-4a13-8622-401c7c8e324d",
   "metadata": {},
   "outputs": [],
   "source": [
    "def oneSidedQuery(agent, prefs, end):\n",
    "    segments = np.size(prefs[agent])\n",
    "    value = 0\n",
    "    for i in range(segments):\n",
    "        if end > prefs[agent][i].end:\n",
    "            value += findFullValue(prefs[agent][i])\n",
    "        if end <= prefs[agent][i].end:\n",
    "            value += findPartialValue(prefs[agent][i], end)\n",
    "            return value"
   ]
  },
  {
   "cell_type": "code",
   "execution_count": 43,
   "id": "98f593ad-dfb7-4361-a8f0-31aa065011c7",
   "metadata": {},
   "outputs": [],
   "source": [
    "def findFullValue(segment):\n",
    "    segmentWidth = segment.end - segment.start\n",
    "    if segment.startvalue == segment.endvalue:\n",
    "        value = segment.startvalue * segmentWidth\n",
    "        return value\n",
    "    if segment.startvalue != segment.endvalue:\n",
    "        value = 0.5 * (segment.startvalue + segment.endvalue) * segmentWidth\n",
    "        return value"
   ]
  },
  {
   "cell_type": "code",
   "execution_count": 33,
   "id": "64e00631-fa66-4ebf-a841-3fc244640bd5",
   "metadata": {},
   "outputs": [],
   "source": [
    "def findPartialValue(segment, partialSegmentEnd):\n",
    "    segmentWidth = partialSegmentEnd - segment.start\n",
    "    partialSegmentEndValue = interpolate(segment, partialSegmentEnd)\n",
    "    if segment.startvalue == segment.endvalue:\n",
    "        value = segment.startvalue * segmentWidth\n",
    "        return value\n",
    "    if segment.startvalue != segment.endvalue:\n",
    "        value = 0.5 * (segment.startvalue + partialSegmentEndValue) * segmentWidth\n",
    "        return value"
   ]
  },
  {
   "cell_type": "code",
   "execution_count": 31,
   "id": "3e374aba-88ff-4351-9be7-949f12ff3aed",
   "metadata": {},
   "outputs": [],
   "source": [
    "'''\n",
    "Uses the linear interpolation formula to find the associated y-coordinate for a \n",
    "given x-coordinate on a line between two points with known x and y coordinates.\n",
    "'''\n",
    "def interpolate(segment, xCoordinate):\n",
    "    if segment.startvalue == segment.endvalue:\n",
    "        yCoordinate = segment.startvalue\n",
    "        return yCoordinate\n",
    "    if segment.startvalue != segment.endvalue:\n",
    "        yCoordinate = ((segment.startvalue * (segment.end - xCoordinate) +\n",
    "                       segment.endvalue * (xCoordinate - segment.start)) / \n",
    "                       (segment.end - segment.start))                \n",
    "        return yCoordinate"
   ]
  },
  {
   "cell_type": "code",
   "execution_count": 53,
   "id": "f101ef77-911d-4c3d-b0a3-3df664c129a2",
   "metadata": {},
   "outputs": [
    {
     "data": {
      "text/plain": [
       "5.5"
      ]
     },
     "execution_count": 53,
     "metadata": {},
     "output_type": "execute_result"
    }
   ],
   "source": [
    "interpolate(preferences[0][1], 1.3)"
   ]
  },
  {
   "cell_type": "code",
   "execution_count": 52,
   "id": "f8a3cb55-34db-4f36-ac7a-2b8169fbbcf9",
   "metadata": {},
   "outputs": [
    {
     "data": {
      "text/plain": [
       "5.5"
      ]
     },
     "execution_count": 52,
     "metadata": {},
     "output_type": "execute_result"
    }
   ],
   "source": [
    "preferences[0][1].endvalue"
   ]
  },
  {
   "cell_type": "code",
   "execution_count": 42,
   "id": "830b38b2-feda-4dc6-af15-a3c77f6f20dc",
   "metadata": {},
   "outputs": [
    {
     "data": {
      "text/plain": [
       "3"
      ]
     },
     "execution_count": 42,
     "metadata": {},
     "output_type": "execute_result"
    }
   ],
   "source": [
    "np.size(preferences[1])"
   ]
  },
  {
   "cell_type": "code",
   "execution_count": null,
   "id": "16a4f60a-9806-4831-843b-b18de2b151a0",
   "metadata": {},
   "outputs": [],
   "source": [
    "def removeZeros(prefs):\n",
    "    if prefs.end == 0:\n",
    "        prefs.end = 0.00001\n",
    "    if prefs"
   ]
  },
  {
   "cell_type": "code",
   "execution_count": 41,
   "id": "afab7a8a-d9a5-43d0-a91f-02aeb13a5710",
   "metadata": {},
   "outputs": [
    {
     "name": "stdout",
     "output_type": "stream",
     "text": [
      "not none\n"
     ]
    }
   ],
   "source": [
    "if preferences[2][1] is not None:\n",
    "    print(\"not none\")"
   ]
  },
  {
   "cell_type": "code",
   "execution_count": null,
   "id": "3bff65bb-88d7-418c-847a-9c89d6dac6a0",
   "metadata": {},
   "outputs": [],
   "source": []
  },
  {
   "cell_type": "code",
   "execution_count": null,
   "id": "4b37e64c-40bd-4ba7-a51a-39dd345bab18",
   "metadata": {},
   "outputs": [],
   "source": []
  },
  {
   "cell_type": "code",
   "execution_count": 14,
   "id": "9ad9793f-0a77-407d-a714-f685c004068a",
   "metadata": {},
   "outputs": [],
   "source": []
  },
  {
   "cell_type": "code",
   "execution_count": null,
   "id": "b9b82523-47e7-4945-9701-3b57e14853a4",
   "metadata": {},
   "outputs": [],
   "source": []
  }
 ],
 "metadata": {
  "kernelspec": {
   "display_name": "Python 3 (ipykernel)",
   "language": "python",
   "name": "python3"
  },
  "language_info": {
   "codemirror_mode": {
    "name": "ipython",
    "version": 3
   },
   "file_extension": ".py",
   "mimetype": "text/x-python",
   "name": "python",
   "nbconvert_exporter": "python",
   "pygments_lexer": "ipython3",
   "version": "3.10.13"
  }
 },
 "nbformat": 4,
 "nbformat_minor": 5
}
