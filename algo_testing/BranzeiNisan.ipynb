{
 "cells": [
  {
   "cell_type": "code",
   "execution_count": null,
   "id": "bdf1052b-c2c2-44b6-9a0a-da526669465a",
   "metadata": {},
   "outputs": [],
   "source": [
    "np.sum(np.diff(x) * (y[:-1] + np.diff(y)/2))"
   ]
  },
  {
   "cell_type": "code",
   "execution_count": 1,
   "id": "be4f757b-9de4-4ae7-bb3d-2677241bfa75",
   "metadata": {},
   "outputs": [],
   "source": [
    "import numpy as np"
   ]
  },
  {
   "cell_type": "code",
   "execution_count": 2,
   "id": "a4bfa87d-292b-4d6c-b8bd-ee2de1c80fcb",
   "metadata": {},
   "outputs": [],
   "source": [
    "class Preferences(object):\n",
    "    def __init__(self):\n",
    "        self.end = 0\n",
    "        self.endvalue = 0\n",
    "        self.id = 0\n",
    "        self.start = 0\n",
    "        self.startvalue = 0"
   ]
  },
  {
   "cell_type": "code",
   "execution_count": 3,
   "id": "6f7c3179-8569-4c59-9767-ba0e2861b57c",
   "metadata": {},
   "outputs": [],
   "source": [
    "#row is agent, column is slice\n",
    "preferences = [[Preferences() for i in range(3)] for j in range(3)]"
   ]
  },
  {
   "cell_type": "code",
   "execution_count": 4,
   "id": "f3f67e1a-3f87-4c8f-9393-54d25bc012d5",
   "metadata": {},
   "outputs": [],
   "source": [
    "preferences[0][0].end = 1\n",
    "preferences[0][0].endvalue = 3.7\n",
    "preferences[0][0].id = 1\n",
    "preferences[0][0].start = 0\n",
    "preferences[0][0].startvalue = 5.8"
   ]
  },
  {
   "cell_type": "code",
   "execution_count": 5,
   "id": "e08428c5-460d-4649-b110-19e3470e116d",
   "metadata": {},
   "outputs": [],
   "source": [
    "preferences[0][1].end = 2\n",
    "preferences[0][1].endvalue = 5.5\n",
    "preferences[0][1].id = 2\n",
    "preferences[0][1].start = 1\n",
    "preferences[0][1].startvalue = 5.5"
   ]
  },
  {
   "cell_type": "code",
   "execution_count": 6,
   "id": "c86f5747-0a06-49d9-9574-18ada0df8e6c",
   "metadata": {},
   "outputs": [],
   "source": [
    "preferences[0][2].end = 3\n",
    "preferences[0][2].endvalue = 7\n",
    "preferences[0][2].id = 3\n",
    "preferences[0][2].start = 2\n",
    "preferences[0][2].startvalue = 1.6"
   ]
  },
  {
   "cell_type": "code",
   "execution_count": 7,
   "id": "5d98c84c-4081-409d-97c5-8eac132ce826",
   "metadata": {},
   "outputs": [],
   "source": [
    "preferences[1][0].end = 1\n",
    "preferences[1][0].endvalue = 7.3\n",
    "preferences[1][0].id = 4\n",
    "preferences[1][0].start = 0\n",
    "preferences[1][0].startvalue = 3"
   ]
  },
  {
   "cell_type": "code",
   "execution_count": 8,
   "id": "68437f56-cb22-4fef-aafb-716b552370f3",
   "metadata": {},
   "outputs": [],
   "source": [
    "preferences[1][1].end = 2\n",
    "preferences[1][1].endvalue = 7.5\n",
    "preferences[1][1].id = 5\n",
    "preferences[1][1].start = 1\n",
    "preferences[1][1].startvalue = 3"
   ]
  },
  {
   "cell_type": "code",
   "execution_count": 9,
   "id": "9ab19b18-6fd7-48ea-a81b-0ad71e1e346e",
   "metadata": {},
   "outputs": [],
   "source": [
    "preferences[1][2].end = 3\n",
    "preferences[1][2].endvalue = 0\n",
    "preferences[1][2].id = 6\n",
    "preferences[1][2].start = 2\n",
    "preferences[1][2].startvalue = 10"
   ]
  },
  {
   "cell_type": "code",
   "execution_count": 10,
   "id": "33318ccf-6f20-4026-8663-dbf98d8c7418",
   "metadata": {},
   "outputs": [],
   "source": [
    "preferences[2][0].end = 1\n",
    "preferences[2][0].endvalue = 4.3\n",
    "preferences[2][0].id = 7\n",
    "preferences[2][0].start = 0\n",
    "preferences[2][0].startvalue = 9.4"
   ]
  },
  {
   "cell_type": "code",
   "execution_count": 11,
   "id": "2d80c980-0bdc-484d-8554-cdc7efe88a83",
   "metadata": {},
   "outputs": [],
   "source": [
    "preferences[2][1].end = 3\n",
    "preferences[2][1].endvalue = 7.6\n",
    "preferences[2][1].id = 8\n",
    "preferences[2][1].start = 1\n",
    "preferences[2][1].startvalue = 7.6"
   ]
  },
  {
   "cell_type": "code",
   "execution_count": 12,
   "id": "17492b6e-dd3b-4f08-9a36-5b2c7557ccba",
   "metadata": {},
   "outputs": [],
   "source": [
    "preferences[2][2] = None"
   ]
  },
  {
   "cell_type": "code",
   "execution_count": 13,
   "id": "4c9d0117-316d-42c8-9452-a3a67839bfd3",
   "metadata": {},
   "outputs": [],
   "source": [
    "cakeSize = 3"
   ]
  },
  {
   "cell_type": "code",
   "execution_count": 14,
   "id": "3f1a3724-6816-4cb5-9cc4-84e2f318048e",
   "metadata": {},
   "outputs": [
    {
     "ename": "NameError",
     "evalue": "name 'oneLipschitz' is not defined",
     "output_type": "error",
     "traceback": [
      "\u001b[1;31m---------------------------------------------------------------------------\u001b[0m",
      "\u001b[1;31mNameError\u001b[0m                                 Traceback (most recent call last)",
      "Cell \u001b[1;32mIn[14], line 2\u001b[0m\n\u001b[0;32m      1\u001b[0m \u001b[38;5;66;03m#prefs, normalizationConstant = oneLipschitz(preferences, cakeSize)\u001b[39;00m\n\u001b[1;32m----> 2\u001b[0m preferences \u001b[38;5;241m=\u001b[39m \u001b[43moneLipschitz\u001b[49m(preferences, cakeSize)\n",
      "\u001b[1;31mNameError\u001b[0m: name 'oneLipschitz' is not defined"
     ]
    }
   ],
   "source": [
    "#prefs, normalizationConstant = oneLipschitz(preferences, cakeSize)\n",
    "preferences = oneLipschitz(preferences, cakeSize)"
   ]
  },
  {
   "cell_type": "code",
   "execution_count": 64,
   "id": "1a84e234-8b67-45b6-81ce-31a6f4213302",
   "metadata": {},
   "outputs": [
    {
     "data": {
      "text/plain": [
       "1.0000000000000002"
      ]
     },
     "execution_count": 64,
     "metadata": {},
     "output_type": "execute_result"
    }
   ],
   "source": []
  },
  {
   "cell_type": "code",
   "execution_count": 45,
   "id": "13360cc8-e26b-4272-8497-999c92c04231",
   "metadata": {},
   "outputs": [],
   "source": [
    "epsilon = 0.0025"
   ]
  },
  {
   "cell_type": "markdown",
   "id": "7cf769ad-3f1a-4301-a7ef-85f882070c0a",
   "metadata": {},
   "source": [
    "Preprocessing"
   ]
  },
  {
   "cell_type": "markdown",
   "id": "beae7d22-e61a-4aba-a41b-a05bec447a92",
   "metadata": {},
   "source": [
    "Hungriness:"
   ]
  },
  {
   "cell_type": "code",
   "execution_count": null,
   "id": "d27d9780-52ba-4931-9fbd-24392dd2f56b",
   "metadata": {},
   "outputs": [],
   "source": [
    "def branzeiNisan(prefs, cakeSize, epsilon):\n",
    "    preferences = oneLipschitz(prefs, cakeSize)\n",
    "    alphaLowerBound = computeEquipartitionFourAgents(prefs, epsilon)\n",
    "    if checkEnvyFree(prefs, alphaLowerBound) == True:\n",
    "        return division(prefs, alphaLowerBound)\n",
    "    alphaUpperBound = 1\n",
    "    while abs(alphaUpperBound - alphaLowerBound) > ((epsilon/10)**4)/12:\n",
    "        alpha = (alphaLowerBound + alphaUpperBound) / 2\n",
    "        if checkConditions(prefs, alpha) == True:\n",
    "            alphaLowerBound = alpha\n",
    "        else:\n",
    "            alphaUpperBound = alpha\n",
    "    return division(prefs, alphaLowerBound)\n",
    "        "
   ]
  },
  {
   "cell_type": "code",
   "execution_count": 153,
   "id": "71f967ea-6d3a-4755-a29c-8357c6f3c9bb",
   "metadata": {},
   "outputs": [],
   "source": [
    "cutBounds = find_left_cut_bounds(preferences, epsilon)"
   ]
  },
  {
   "cell_type": "code",
   "execution_count": 154,
   "id": "7d16239b-4288-4d82-981e-978baafd4343",
   "metadata": {},
   "outputs": [
    {
     "data": {
      "text/plain": [
       "0.5000920435826642"
      ]
     },
     "execution_count": 154,
     "metadata": {},
     "output_type": "execute_result"
    }
   ],
   "source": [
    "left = cutBounds.midpoint()\n",
    "value_query(0,preferences, 0, left, epsilon) / value_query(0,preferences, left, 1, epsilon)"
   ]
  },
  {
   "cell_type": "code",
   "execution_count": 149,
   "id": "2f5d9b09-6dd8-4f60-b611-d0367a6218c0",
   "metadata": {},
   "outputs": [],
   "source": [
    "cutBounds = find_right_cut_bounds(preferences, epsilon)"
   ]
  },
  {
   "cell_type": "code",
   "execution_count": 152,
   "id": "25362c1d-c9f1-409c-8ca5-69e6d32d4d4a",
   "metadata": {},
   "outputs": [
    {
     "data": {
      "text/plain": [
       "0.5001954804512858"
      ]
     },
     "execution_count": 152,
     "metadata": {},
     "output_type": "execute_result"
    }
   ],
   "source": [
    "right = cutBounds.midpoint()\n",
    "value_query(0,preferences, right, 1, epsilon) / value_query(0,preferences, 0, right, epsilon)"
   ]
  },
  {
   "cell_type": "code",
   "execution_count": 39,
   "id": "3759dff2-58c4-47ce-9c3c-7a8fb0e82cc6",
   "metadata": {},
   "outputs": [],
   "source": [
    "check = Bounds(0.6344324880074275, 0.6344324880074286)"
   ]
  },
  {
   "cell_type": "code",
   "execution_count": 38,
   "id": "0d03b0ce-134a-459d-be61-cc9b064d1690",
   "metadata": {},
   "outputs": [
    {
     "data": {
      "text/plain": [
       "0.634432488007428"
      ]
     },
     "execution_count": 38,
     "metadata": {},
     "output_type": "execute_result"
    }
   ],
   "source": [
    "check.midpoint()"
   ]
  },
  {
   "cell_type": "markdown",
   "id": "5b48e0bf-2045-4738-b597-377c37bff5c6",
   "metadata": {},
   "source": [
    "Ignore Below."
   ]
  },
  {
   "cell_type": "code",
   "execution_count": 105,
   "id": "347f9626-909a-41ae-a611-12784b927453",
   "metadata": {},
   "outputs": [],
   "source": [
    "def compute_equipartition_three_agents(prefs, epsilon):\n",
    "    left_cut_bounds = find_left_cut_bounds(prefs, epsilon)\n",
    "    right_cut_bounds = find_right_cut_bounds(prefs, epsilon)\n",
    "    equipartition = \\\n",
    "        exact_equipartition_cuts_three_agents(prefs, left_cut_bounds, \n",
    "                                              right_cut_bounds)"
   ]
  },
  {
   "cell_type": "code",
   "execution_count": 106,
   "id": "6732e6dc-00ed-4afa-a952-bc10e2d27219",
   "metadata": {},
   "outputs": [],
   "source": [
    "def find_left_cut_bounds(prefs, epsilon):\n",
    "    left_cut_bounds = Bounds(0, 1)\n",
    "    while abs(left_cut_bounds.upper - left_cut_bounds.lower) - epsilon > 1e-10:\n",
    "        left_cut_bounds = left_cut_bounds_update(prefs, left_cut_bounds, epsilon)\n",
    "    return left_cut_bounds\n",
    "            "
   ]
  },
  {
   "cell_type": "code",
   "execution_count": 140,
   "id": "98894ead-7250-4a86-810b-5d37eff2f830",
   "metadata": {},
   "outputs": [],
   "source": [
    "def left_cut_bounds_update(prefs, left_cut_bounds, epsilon):\n",
    "    left_cut = left_cut_bounds.midpoint()\n",
    "    segment_one_value = value_query(0, prefs, 0, left_cut, epsilon)\n",
    "    right_cut = cut_query(0, prefs, left_cut, segment_one_value, \n",
    "                        epsilon, end_cut = True)\n",
    "    left_cut_bounds = left_adjustment_three_agent(prefs, left_cut_bounds, \n",
    "                                                  right_cut, segment_one_value, \n",
    "                                                  epsilon)\n",
    "    return left_cut_bounds"
   ]
  },
  {
   "cell_type": "code",
   "execution_count": 147,
   "id": "3af22f2d-9576-4421-93f8-373c88f4f0fb",
   "metadata": {},
   "outputs": [],
   "source": [
    "def find_right_cut_bounds(prefs, epsilon):\n",
    "    right_cut_bounds = Bounds(0, 1)\n",
    "    while abs(right_cut_bounds.upper - right_cut_bounds.lower) - epsilon > 1e-10:\n",
    "        right_cut_bounds = right_cut_bounds_update(prefs, right_cut_bounds, \n",
    "                                                   epsilon)\n",
    "    return right_cut_bounds"
   ]
  },
  {
   "cell_type": "code",
   "execution_count": 148,
   "id": "d8823c9c-a1e9-4adb-8cd4-c8643df8e244",
   "metadata": {},
   "outputs": [],
   "source": [
    "def right_cut_bounds_update(prefs, right_cut_bounds, epsilon):\n",
    "    right_cut = right_cut_bounds.midpoint()\n",
    "    segment_three_value = value_query(0, prefs, right_cut, 1, epsilon)\n",
    "    left_cut = cut_query(0, prefs, right_cut, segment_three_value, \n",
    "                        epsilon, end_cut = False)\n",
    "    right_cut_bounds = right_adjustment_three_agent(prefs, right_cut_bounds, \n",
    "                                                    left_cut, segment_three_value, \n",
    "                                                    epsilon)\n",
    "    return right_cut_bounds"
   ]
  },
  {
   "cell_type": "code",
   "execution_count": 110,
   "id": "4f0875c6-3bb9-47ca-986a-a15d6aa2c9de",
   "metadata": {},
   "outputs": [],
   "source": [
    "def exact_equipartition_cuts_three_agents(prefs, left_cut_bounds, \n",
    "                                          right_cut_bounds):\n",
    "    left_cut = equipartition_left_cut_three_agents(prefs, left_cut_bounds)\n",
    "    right_cut= equipartition_right_cut_three_agents(prefs, right_cut_bounds)\n",
    "    equipartition = ThreeAgentPortion(left_cut, right_cut)\n",
    "    return equipartition\n",
    "    "
   ]
  },
  {
   "cell_type": "code",
   "execution_count": 111,
   "id": "27855147-6a91-4cd3-8e71-114c043d4fb3",
   "metadata": {},
   "outputs": [],
   "source": [
    "#Must add functionality that returns if there is no cut.\n",
    "def cut_query(agent, prefs, initial_cut, value, epsilon, end_cut = True):\n",
    "    if end_cut == True:\n",
    "        queried_cut = end_cut_query(agent, prefs, initial_cut, value, epsilon)\n",
    "    else:\n",
    "        queried_cut = start_cut_query(agent, prefs, initial_cut, value, epsilon)\n",
    "    return queried_cut"
   ]
  },
  {
   "cell_type": "code",
   "execution_count": 112,
   "id": "93fac0e4-ca32-4367-a5ba-2ce35d2facda",
   "metadata": {},
   "outputs": [],
   "source": [
    "def end_cut_query(agent, prefs, start, value, epsilon):\n",
    "    end_cut_bounds = Bounds(start, 1)\n",
    "    while abs(end_cut_bounds.upper - end_cut_bounds.lower) > 1e-15:\n",
    "        end_cut_bounds = end_cut_bounds_update(prefs, start, end_cut_bounds, \n",
    "                                               value, epsilon)\n",
    "    end_cut = end_cut_bounds.midpoint()\n",
    "    return end_cut"
   ]
  },
  {
   "cell_type": "code",
   "execution_count": 113,
   "id": "9d7eb0af-bb45-4adb-a480-1308bdd19669",
   "metadata": {},
   "outputs": [],
   "source": [
    "def end_cut_bounds_update(prefs, start, end_cut_bounds, \n",
    "                          value, epsilon):\n",
    "    end_cut = end_cut_bounds.midpoint()\n",
    "    queried_value = valueQuery(0, prefs, start, end_cut, epsilon)\n",
    "    if queried_value <= value:\n",
    "        end_cut_bounds.lower  = end_cut\n",
    "    if queried_value > value:\n",
    "        end_cut_bounds.upper = end_cut\n",
    "    return end_cut_bounds"
   ]
  },
  {
   "cell_type": "code",
   "execution_count": 114,
   "id": "fc7cb0d5-b443-4e78-ae9c-f6b6a1ac90ec",
   "metadata": {},
   "outputs": [],
   "source": [
    "def start_cut_query(agent, prefs, end, value, epsilon):\n",
    "    start_cut_bounds = Bounds(0, end)\n",
    "    while abs(start_cut_bounds.upper - start_cut_bounds.lower) > 1e-15:\n",
    "        start_cut_bounds = start_cut_bounds_update(prefs, end, start_cut_bounds, \n",
    "                                                   value, epsilon)\n",
    "    start_cut = start_cut_bounds.midpoint()\n",
    "    return start_cut"
   ]
  },
  {
   "cell_type": "code",
   "execution_count": 115,
   "id": "d0178ba6-a70f-44b9-83d1-c2f627977b07",
   "metadata": {},
   "outputs": [],
   "source": [
    "def start_cut_bounds_update(prefs, end, start_cut_bounds, \n",
    "                            value, epsilon):\n",
    "    start_cut = start_cut_bounds.midpoint()\n",
    "    queried_value = valueQuery(0, prefs, start_cut, end, epsilon)\n",
    "    if queried_value <= value:\n",
    "        start_cut_bounds.upper  = start_cut\n",
    "    if queried_value > value:\n",
    "        start_cut_bounds.lower = start_cut\n",
    "    return start_cut_bounds"
   ]
  },
  {
   "cell_type": "code",
   "execution_count": 116,
   "id": "1ebbd937-6a07-4e2e-82a2-0fa978ed01cd",
   "metadata": {},
   "outputs": [],
   "source": [
    "def left_adjustment_three_agent(prefs, left_cut_bounds, right_cut,\n",
    "                             segment_one_value, epsilon):\n",
    "    left_cut = left_cut_bounds.midpoint()\n",
    "    segment_three_value = valueQuery(0, prefs, right_cut, 1, epsilon)\n",
    "    if segment_three_value >= segment_one_value:\n",
    "        left_cut_bounds.lower = left_cut\n",
    "    if segment_three_value < segment_one_value:\n",
    "        left_cut_bounds.upper = left_cut\n",
    "    return left_cut_bounds"
   ]
  },
  {
   "cell_type": "code",
   "execution_count": 117,
   "id": "1463810b-77bb-4f81-a531-75d6546585f2",
   "metadata": {},
   "outputs": [],
   "source": [
    "def right_adjustment_three_agent(prefs, right_cut_bounds, left_cut, \n",
    "                                 segment_three_value, epsilon):\n",
    "    right_cut = right_cut_bounds.midpoint()\n",
    "    segment_one_value = valueQuery(0, prefs, 0, left_cut, epsilon)\n",
    "    if segment_one_value >= segment_three_value:\n",
    "        right_cut_bounds.upper = right_cut\n",
    "    if segment_one_value < segment_three_value:\n",
    "        right_cut_bounds.lower = right_cut\n",
    "    return right_cut_bounds"
   ]
  },
  {
   "cell_type": "code",
   "execution_count": 118,
   "id": "91e5b24e-1aa3-4214-921e-2b5c67facb12",
   "metadata": {},
   "outputs": [],
   "source": [
    "#Remember to scale by L at end.\n",
    "def one_lipschitz(prefs, cakeSize):\n",
    "    prefs = change_bounds(prefs, cakeSize)\n",
    "    #prefs, normalizationConstants = normalization(prefs)\n",
    "    prefs = normalization(prefs)\n",
    "    return prefs#, normalizationConstants"
   ]
  },
  {
   "cell_type": "code",
   "execution_count": 119,
   "id": "abf05d27-bb4e-41f0-b298-3ee5689eb7bf",
   "metadata": {},
   "outputs": [],
   "source": [
    "def change_bounds(prefs, cakeSize):\n",
    "    agents = np.shape(prefs)[0]\n",
    "    segments = np.shape(prefs)[1]\n",
    "    for i in range(agents):\n",
    "        for j in range(segments):\n",
    "            if prefs[i][j] is not None:\n",
    "                prefs[i][j].start /= cakeSize\n",
    "                prefs[i][j].end /= cakeSize\n",
    "    return prefs\n",
    "        "
   ]
  },
  {
   "cell_type": "code",
   "execution_count": 120,
   "id": "c58e6a1c-c162-451b-bd49-db013f9f4a7d",
   "metadata": {},
   "outputs": [],
   "source": [
    "'''\n",
    "Ensures that each agents values the\n",
    "'''\n",
    "def normalization(prefs):\n",
    "    agents = np.shape(prefs)[0]\n",
    "    segments = np.shape(prefs)[1]\n",
    "    normalization_constants = np.zeros(agents)\n",
    "    for i in range(agents):\n",
    "        normalization_constants[i] = value_query_initial(i, prefs, 0, 1)\n",
    "        for j in range(segments):\n",
    "            if prefs[i][j] is not None:\n",
    "                prefs[i][j].startvalue /= normalization_constants[i]\n",
    "                prefs[i][j].endvalue /= normalization_constants[i]\n",
    "    return prefs#, normalizationConstants\n",
    "        "
   ]
  },
  {
   "cell_type": "code",
   "execution_count": 121,
   "id": "be0993f9-ed54-4721-8fe2-820e88efbf05",
   "metadata": {},
   "outputs": [],
   "source": [
    "'''\n",
    "Linear interpolation on epsilon grid.\n",
    "'''\n",
    "def value_query(agent, prefs, start, end, epsilon):\n",
    "    start_bounds, end_bounds = piecewise_linear_bounds(start, end, epsilon)\n",
    "    \n",
    "    if start_bounds.upper - start >= end - end_bounds.lower:\n",
    "        return value_query_variant_one(agent, prefs, start, end, epsilon)\n",
    "    if start_bounds.upper - start < end - end_bounds.lower:\n",
    "        return value_query_variant_two(agent, prefs, start, end, epsilon)"
   ]
  },
  {
   "cell_type": "code",
   "execution_count": 122,
   "id": "9ecd338a-465b-4bd4-8cd6-fdee0375303b",
   "metadata": {},
   "outputs": [],
   "source": [
    "def value_query_variant_one(agent, prefs, start, end, epsilon):\n",
    "    start_bounds, end_bounds = piecewiseLinearBounds(start, end, epsilon)\n",
    "    queries = intermediateQueriesVariantOne(agent, prefs, start_bounds, \n",
    "                                            end_bounds, epsilon)\n",
    "    component_one = (((start_bounds.upper - start) - (end - end_bounds.lower)) / \n",
    "                    epsilon) * queries[0]\n",
    "    component_two = ((end - end_bounds.lower) / epsilon) * queries[1]\n",
    "    component_three = ((start - start_bounds.lower) / epsilon) * queries[2]\n",
    "    return component_one + component_two + component_three"
   ]
  },
  {
   "cell_type": "code",
   "execution_count": 123,
   "id": "6594ea8d-88b8-4dc6-ba68-e3777eb9ca88",
   "metadata": {},
   "outputs": [],
   "source": [
    "def value_query_variant_two(agent, prefs, start, end, epsilon):\n",
    "    start_bounds, end_bounds = piecewise_linear_bounds(start, end, epsilon)\n",
    "    queries = intermediate_queries_variant_two(agent, prefs, start_bounds, \n",
    "                                               end_bounds, epsilon)\n",
    "    component_one = (((end - end_bounds.lower) - (start_bounds.upper - start)) / \n",
    "                    epsilon) * queries[0]\n",
    "    component_two = ((start_bounds.upper - start) / epsilon) * queries[1]\n",
    "    component_three = ((end_bounds.upper - end) / epsilon) * queries[2]\n",
    "    return component_one + component_two + component_three"
   ]
  },
  {
   "cell_type": "code",
   "execution_count": 124,
   "id": "09e6de8d-89e4-45b5-b490-44dddbdf6511",
   "metadata": {},
   "outputs": [],
   "source": [
    "def piecewise_linear_bounds(start, end, epsilon):\n",
    "    if start != 1:\n",
    "        start_lower_bound = (start // epsilon) * epsilon\n",
    "        start_upper_bound = start_lower_bound + epsilon \n",
    "    else:\n",
    "        start_lower_bound = 1 - epsilon\n",
    "        start_upper_bound = 1\n",
    "    if end != 1:\n",
    "        end_lower_bound = (end // epsilon) * epsilon\n",
    "        end_upper_bound = end_lower_bound + epsilon\n",
    "    else:\n",
    "        end_lower_bound = 1 - epsilon\n",
    "        end_upper_bound = 1\n",
    "\n",
    "    start_bounds = Bounds(start_lower_bound, start_upper_bound)\n",
    "    end_bounds = Bounds(end_lower_bound, end_upper_bound)\n",
    "\n",
    "    return start_bounds, end_bounds"
   ]
  },
  {
   "cell_type": "code",
   "execution_count": 125,
   "id": "3519e453-7b76-4d5c-876e-74ae16ce95d8",
   "metadata": {},
   "outputs": [],
   "source": [
    "def intermediate_queries_variant_one(agent, prefs, start_bounds, \n",
    "                                     end_bounds, epsilon):\n",
    "    query_one = valueQueryHungry(agent, prefs, start_bounds.lower, \n",
    "                                end_bounds.lower, epsilon)\n",
    "    query_two = valueQueryHungry(agent, prefs, start_bounds.lower, \n",
    "                                end_bounds.upper, epsilon)\n",
    "    query_three = valueQueryHungry(agent, prefs, start_bounds.upper, \n",
    "                                  end_bounds.lower, epsilon)\n",
    "    return query_one, query_two, query_three"
   ]
  },
  {
   "cell_type": "code",
   "execution_count": 126,
   "id": "429925f2-d4cf-44d7-b4be-8568d885b62c",
   "metadata": {},
   "outputs": [],
   "source": [
    "def intermediate_queries_variant_two(agent, prefs, start_bounds, \n",
    "                                     end_bounds, epsilon):\n",
    "    query_one = value_query_hungry(agent, prefs, start_bounds.upper, \n",
    "                                   end_bounds.upper, epsilon)\n",
    "    query_two = value_query_hungry(agent, prefs, start_bounds.lower, \n",
    "                                   end_bounds.upper, epsilon)\n",
    "    query_three = value_query_hungry(agent, prefs, start_bounds.upper, \n",
    "                                     end_bounds.lower, epsilon)\n",
    "    return query_one, query_two, query_three"
   ]
  },
  {
   "cell_type": "code",
   "execution_count": 127,
   "id": "47b43a47-d256-4693-883f-f410c9de6bce",
   "metadata": {},
   "outputs": [],
   "source": [
    "def value_query_hungry(agent, prefs, start, end, epsilon):\n",
    "    initial_value = value_query_initial(agent, prefs, start, end)\n",
    "    value = initial_value/2 + epsilon * (end - start)\n",
    "    return value"
   ]
  },
  {
   "cell_type": "code",
   "execution_count": 128,
   "id": "9134b928-fed5-4535-8684-af751d04df1f",
   "metadata": {},
   "outputs": [],
   "source": [
    "def value_query_initial(agent, prefs, start, end):\n",
    "    check_valid_bounds(start,end)\n",
    "    if end <= start:\n",
    "        value = 0\n",
    "    else:\n",
    "        value = one_sided_query(agent, prefs, end) - \\\n",
    "                one_sided_query(agent, prefs, start)\n",
    "    return value\n",
    "    "
   ]
  },
  {
   "cell_type": "code",
   "execution_count": 129,
   "id": "e6edd509-8d6e-4bdf-bac7-148b801bd963",
   "metadata": {},
   "outputs": [],
   "source": [
    "def check_valid_bounds(start,end):\n",
    "    assert (start >= 0 and start <= 1 and end >= 0 and end <= 1), \\\n",
    "        \"invalid bounds. start and end should be between 0 and 1.\""
   ]
  },
  {
   "cell_type": "code",
   "execution_count": 130,
   "id": "26e77695-cbd7-4a13-8622-401c7c8e324d",
   "metadata": {},
   "outputs": [],
   "source": [
    "def one_sided_query(agent, prefs, end):\n",
    "    segments = np.size(prefs[agent])\n",
    "    value = 0\n",
    "    for i in range(segments):\n",
    "        if end > prefs[agent][i].end:\n",
    "            value += find_full_value(prefs[agent][i])\n",
    "        if end <= prefs[agent][i].end:\n",
    "            value += find_partial_value(prefs[agent][i], end)\n",
    "            return value"
   ]
  },
  {
   "cell_type": "code",
   "execution_count": 131,
   "id": "98f593ad-dfb7-4361-a8f0-31aa065011c7",
   "metadata": {},
   "outputs": [],
   "source": [
    "def find_full_value(segment):\n",
    "    segment_width = segment.end - segment.start\n",
    "    if segment.startvalue == segment.endvalue:\n",
    "        value = segment.startvalue * segment_width\n",
    "        return value\n",
    "    if segment.startvalue != segment.endvalue:\n",
    "        value = 0.5 * (segment.startvalue + segment.endvalue) * segment_width\n",
    "        return value"
   ]
  },
  {
   "cell_type": "code",
   "execution_count": 132,
   "id": "64e00631-fa66-4ebf-a841-3fc244640bd5",
   "metadata": {},
   "outputs": [],
   "source": [
    "def find_partial_value(segment, partial_segment_end):\n",
    "    segment_width = partial_segment_end - segment.start\n",
    "    partial_segment_end_value = interpolate(segment, partial_segment_end)\n",
    "    if segment.startvalue == segment.endvalue:\n",
    "        value = segment.startvalue * segment_width\n",
    "        return value\n",
    "    if segment.startvalue != segment.endvalue:\n",
    "        value = 0.5 * (segment.startvalue + partial_segment_end_value) * \\\n",
    "                segment_width\n",
    "        return value"
   ]
  },
  {
   "cell_type": "code",
   "execution_count": 133,
   "id": "3e374aba-88ff-4351-9be7-949f12ff3aed",
   "metadata": {},
   "outputs": [],
   "source": [
    "'''\n",
    "Uses the linear interpolation formula to find the associated y-coordinate for a \n",
    "given x-coordinate on a line between two points with known x and y coordinates.\n",
    "'''\n",
    "def interpolate(segment, x_coordinate):\n",
    "    if segment.startvalue == segment.endvalue:\n",
    "        y_coordinate = segment.startvalue\n",
    "        return y_coordinate\n",
    "    if segment.startvalue != segment.endvalue:\n",
    "        y_coordinate = ((segment.startvalue * (segment.end - x_coordinate) +\n",
    "                         segment.endvalue * (x_coordinate - segment.start)) / \n",
    "                        (segment.end - segment.start))                \n",
    "        return y_coordinate"
   ]
  },
  {
   "cell_type": "code",
   "execution_count": 134,
   "id": "3bff65bb-88d7-418c-847a-9c89d6dac6a0",
   "metadata": {},
   "outputs": [],
   "source": [
    "class Bounds:\n",
    "    def __init__(self, lower, upper):\n",
    "        self.lower = lower\n",
    "        self.upper = upper\n",
    "\n",
    "    def midpoint(self):\n",
    "        return (self.lower + self.upper) / 2\n"
   ]
  },
  {
   "cell_type": "code",
   "execution_count": 137,
   "id": "b9b82523-47e7-4945-9701-3b57e14853a4",
   "metadata": {},
   "outputs": [],
   "source": [
    "class ThreeAgentPortion:\n",
    "    def __init__(self, left_cut, right_cut):\n",
    "        self.left = left_cut\n",
    "        self.right = right_cut"
   ]
  },
  {
   "cell_type": "code",
   "execution_count": null,
   "id": "00292e5e-7ef0-431d-a2ee-3d6f801ab65b",
   "metadata": {},
   "outputs": [],
   "source": []
  },
  {
   "cell_type": "code",
   "execution_count": null,
   "id": "be4d3cc2-ba32-4ec0-8108-4b64b098827a",
   "metadata": {},
   "outputs": [],
   "source": []
  }
 ],
 "metadata": {
  "kernelspec": {
   "display_name": "Python 3 (ipykernel)",
   "language": "python",
   "name": "python3"
  },
  "language_info": {
   "codemirror_mode": {
    "name": "ipython",
    "version": 3
   },
   "file_extension": ".py",
   "mimetype": "text/x-python",
   "name": "python",
   "nbconvert_exporter": "python",
   "pygments_lexer": "ipython3",
   "version": "3.10.13"
  }
 },
 "nbformat": 4,
 "nbformat_minor": 5
}
