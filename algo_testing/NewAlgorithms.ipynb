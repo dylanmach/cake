{
 "cells": [
  {
   "cell_type": "code",
   "execution_count": null,
   "id": "bdf1052b-c2c2-44b6-9a0a-da526669465a",
   "metadata": {},
   "outputs": [],
   "source": [
    "np.sum(np.diff(x) * (y[:-1] + np.diff(y)/2))"
   ]
  },
  {
   "cell_type": "code",
   "execution_count": 250,
   "id": "be4f757b-9de4-4ae7-bb3d-2677241bfa75",
   "metadata": {},
   "outputs": [],
   "source": [
    "import numpy as np"
   ]
  },
  {
   "cell_type": "code",
   "execution_count": 285,
   "id": "a4bfa87d-292b-4d6c-b8bd-ee2de1c80fcb",
   "metadata": {},
   "outputs": [],
   "source": [
    "class Preferences(object):\n",
    "    def __init__(self):\n",
    "        self.end = 0\n",
    "        self.endvalue = 0\n",
    "        self.id = 0\n",
    "        self.start = 0\n",
    "        self.startvalue = 0"
   ]
  },
  {
   "cell_type": "code",
   "execution_count": 286,
   "id": "6f7c3179-8569-4c59-9767-ba0e2861b57c",
   "metadata": {},
   "outputs": [],
   "source": [
    "#row is agent, column is slice\n",
    "preferences = [[Preferences() for i in range(3)] for j in range(3)]"
   ]
  },
  {
   "cell_type": "code",
   "execution_count": 287,
   "id": "f3f67e1a-3f87-4c8f-9393-54d25bc012d5",
   "metadata": {},
   "outputs": [],
   "source": [
    "preferences[0][0].end = 1\n",
    "preferences[0][0].endvalue = 3.7\n",
    "preferences[0][0].id = 1\n",
    "preferences[0][0].start = 0\n",
    "preferences[0][0].startvalue = 5.8"
   ]
  },
  {
   "cell_type": "code",
   "execution_count": 288,
   "id": "e08428c5-460d-4649-b110-19e3470e116d",
   "metadata": {},
   "outputs": [],
   "source": [
    "preferences[0][1].end = 2\n",
    "preferences[0][1].endvalue = 5.5\n",
    "preferences[0][1].id = 2\n",
    "preferences[0][1].start = 1\n",
    "preferences[0][1].startvalue = 5.5"
   ]
  },
  {
   "cell_type": "code",
   "execution_count": 289,
   "id": "c86f5747-0a06-49d9-9574-18ada0df8e6c",
   "metadata": {},
   "outputs": [],
   "source": [
    "preferences[0][2].end = 3\n",
    "preferences[0][2].endvalue = 7\n",
    "preferences[0][2].id = 3\n",
    "preferences[0][2].start = 2\n",
    "preferences[0][2].startvalue = 1.6"
   ]
  },
  {
   "cell_type": "code",
   "execution_count": 290,
   "id": "5d98c84c-4081-409d-97c5-8eac132ce826",
   "metadata": {},
   "outputs": [],
   "source": [
    "preferences[1][0].end = 1\n",
    "preferences[1][0].endvalue = 7.3\n",
    "preferences[1][0].id = 4\n",
    "preferences[1][0].start = 0\n",
    "preferences[1][0].startvalue = 3"
   ]
  },
  {
   "cell_type": "code",
   "execution_count": 291,
   "id": "68437f56-cb22-4fef-aafb-716b552370f3",
   "metadata": {},
   "outputs": [],
   "source": [
    "preferences[1][1].end = 2\n",
    "preferences[1][1].endvalue = 7.5\n",
    "preferences[1][1].id = 5\n",
    "preferences[1][1].start = 1\n",
    "preferences[1][1].startvalue = 3"
   ]
  },
  {
   "cell_type": "code",
   "execution_count": 292,
   "id": "9ab19b18-6fd7-48ea-a81b-0ad71e1e346e",
   "metadata": {},
   "outputs": [],
   "source": [
    "preferences[1][2].end = 3\n",
    "preferences[1][2].endvalue = 0\n",
    "preferences[1][2].id = 6\n",
    "preferences[1][2].start = 2\n",
    "preferences[1][2].startvalue = 10"
   ]
  },
  {
   "cell_type": "code",
   "execution_count": 293,
   "id": "33318ccf-6f20-4026-8663-dbf98d8c7418",
   "metadata": {},
   "outputs": [],
   "source": [
    "preferences[2][0].end = 1\n",
    "preferences[2][0].endvalue = 4.3\n",
    "preferences[2][0].id = 7\n",
    "preferences[2][0].start = 0\n",
    "preferences[2][0].startvalue = 9.4"
   ]
  },
  {
   "cell_type": "code",
   "execution_count": 294,
   "id": "2d80c980-0bdc-484d-8554-cdc7efe88a83",
   "metadata": {},
   "outputs": [],
   "source": [
    "preferences[2][1].end = 3\n",
    "preferences[2][1].endvalue = 7.6\n",
    "preferences[2][1].id = 8\n",
    "preferences[2][1].start = 1\n",
    "preferences[2][1].startvalue = 7.6"
   ]
  },
  {
   "cell_type": "code",
   "execution_count": 295,
   "id": "17492b6e-dd3b-4f08-9a36-5b2c7557ccba",
   "metadata": {},
   "outputs": [],
   "source": [
    "preferences[2][2] = None"
   ]
  },
  {
   "cell_type": "code",
   "execution_count": 279,
   "id": "4c9d0117-316d-42c8-9452-a3a67839bfd3",
   "metadata": {},
   "outputs": [],
   "source": [
    "cakeSize = 3"
   ]
  },
  {
   "cell_type": "code",
   "execution_count": 49,
   "id": "3f1a3724-6816-4cb5-9cc4-84e2f318048e",
   "metadata": {},
   "outputs": [],
   "source": [
    "#prefs, normalizationConstant = oneLipschitz(preferences, cakeSize)\n",
    "preferences = one_lipschitz(preferences, cakeSize)"
   ]
  },
  {
   "cell_type": "code",
   "execution_count": 64,
   "id": "1a84e234-8b67-45b6-81ce-31a6f4213302",
   "metadata": {},
   "outputs": [
    {
     "data": {
      "text/plain": [
       "1.0000000000000002"
      ]
     },
     "execution_count": 64,
     "metadata": {},
     "output_type": "execute_result"
    }
   ],
   "source": [
    "value"
   ]
  },
  {
   "cell_type": "code",
   "execution_count": 69,
   "id": "c06cd01c-7b70-4de9-ba67-4ef3cf543f93",
   "metadata": {},
   "outputs": [
    {
     "data": {
      "text/plain": [
       "0.5025000000000001"
      ]
     },
     "execution_count": 69,
     "metadata": {},
     "output_type": "execute_result"
    }
   ],
   "source": [
    "value_query(0, preferences, 0, 1, epsilon)"
   ]
  },
  {
   "cell_type": "code",
   "execution_count": 349,
   "id": "13360cc8-e26b-4272-8497-999c92c04231",
   "metadata": {},
   "outputs": [],
   "source": [
    "epsilon = 0.0025"
   ]
  },
  {
   "cell_type": "markdown",
   "id": "7cf769ad-3f1a-4301-a7ef-85f882070c0a",
   "metadata": {},
   "source": [
    "Preprocessing"
   ]
  },
  {
   "cell_type": "markdown",
   "id": "beae7d22-e61a-4aba-a41b-a05bec447a92",
   "metadata": {},
   "source": [
    "Hungriness:"
   ]
  },
  {
   "cell_type": "code",
   "execution_count": null,
   "id": "d27d9780-52ba-4931-9fbd-24392dd2f56b",
   "metadata": {},
   "outputs": [],
   "source": [
    "def hollender_rubinstein(prefs, cakeSize, epsilon):\n",
    "    preferences = one_lipschitz(prefs, cakeSize)\n",
    "    equipartition, alpha_lower_bound = compute_equipartition_four_agents(prefs, \n",
    "                                                                         epsilon)\n",
    "    if check_envy_free_three_agents(prefs, alpha_lower_bound) == True:\n",
    "        return division_four_agents(prefs, alpha_lower_bound)\n",
    "    alpha_upper_bound = 1\n",
    "    while abs(alpha_upper_bound - alpha_lower_bound) > ((epsilon/10)**4)/12:\n",
    "        alpha = (alpha_lower_bound + alpha_upper_bound) / 2\n",
    "        if check_invariant_four_agents(prefs, alpha)[0] == True:\n",
    "            alpha_lower_bound = alpha\n",
    "        else:\n",
    "            alpha_upper_bound = alpha\n",
    "    return division_four_agents(prefs, alpha_lower_bound)\n",
    "        "
   ]
  },
  {
   "cell_type": "code",
   "execution_count": 355,
   "id": "0ed387f0-6fbb-44d6-b477-ca42e83d9650",
   "metadata": {},
   "outputs": [],
   "source": [
    "def branzei_nisan(prefs, cakeSize, epsilon):\n",
    "    #preferences = one_lipschitz(prefs, cakeSize)\n",
    "    equipartition, alpha_lower_bound = compute_equipartition_three_agents(prefs, epsilon)\n",
    "    if check_equipartition_envy_free(prefs, alpha_lower_bound, 3,\n",
    "                                     epsilon) == True:\n",
    "        return equipartition\n",
    "    alpha_upper_bound = 1\n",
    "    alpha_bounds = Bounds(alpha_lower_bound, alpha_upper_bound)\n",
    "    while abs(alpha_bounds.upper - alpha_bounds.lower) > ((epsilon/10)**4)/12:\n",
    "        alpha = alpha_bounds.midpoint()\n",
    "        if check_invariant_three_agents(prefs, alpha, epsilon)[0] == True:\n",
    "            alpha_bounds.lower = alpha\n",
    "        else:\n",
    "            alpha_bounds.upper = alpha\n",
    "    return division_three_agents(prefs, alpha_bounds.lower, epsilon)"
   ]
  },
  {
   "cell_type": "code",
   "execution_count": 357,
   "id": "703813ca-7ec3-40c2-a918-5675c64bcd79",
   "metadata": {},
   "outputs": [],
   "source": [
    "division = branzei_nisan(preferences, cakeSize, epsilon)"
   ]
  },
  {
   "cell_type": "code",
   "execution_count": 358,
   "id": "ecbeefb4-4845-4f0b-8604-c485adc51dc6",
   "metadata": {},
   "outputs": [],
   "source": [
    "left = division.left"
   ]
  },
  {
   "cell_type": "code",
   "execution_count": 359,
   "id": "7692cf17-7446-46fd-ab24-82ad653232af",
   "metadata": {},
   "outputs": [],
   "source": [
    "right = division.right"
   ]
  },
  {
   "cell_type": "code",
   "execution_count": 308,
   "id": "73945e79-8068-477f-a5d9-8560bb4aa72d",
   "metadata": {},
   "outputs": [
    {
     "data": {
      "text/plain": [
       "array([0.17312526, 0.17312526, 0.15624948])"
      ]
     },
     "execution_count": 308,
     "metadata": {},
     "output_type": "execute_result"
    }
   ],
   "source": [
    "slice_values(0, preferences, division, epsilon)"
   ]
  },
  {
   "cell_type": "code",
   "execution_count": 360,
   "id": "0b421e06-449f-4e64-8aa2-41bc358820a6",
   "metadata": {},
   "outputs": [
    {
     "data": {
      "text/plain": [
       "array([0.17312526, 0.17312526, 0.15624948])"
      ]
     },
     "execution_count": 360,
     "metadata": {},
     "output_type": "execute_result"
    }
   ],
   "source": [
    "slice_values(0, preferences, division, 3, epsilon)"
   ]
  },
  {
   "cell_type": "code",
   "execution_count": 309,
   "id": "5353f3c3-96a3-4dbf-831f-51477c2406d2",
   "metadata": {},
   "outputs": [
    {
     "data": {
      "text/plain": [
       "array([0.17289765, 0.15670471, 0.17289765])"
      ]
     },
     "execution_count": 309,
     "metadata": {},
     "output_type": "execute_result"
    }
   ],
   "source": [
    "slice_values(1, preferences, division, epsilon)"
   ]
  },
  {
   "cell_type": "code",
   "execution_count": null,
   "id": "e376f5ae-4fd8-473f-a1ed-260f2f0f3611",
   "metadata": {},
   "outputs": [],
   "source": []
  },
  {
   "cell_type": "code",
   "execution_count": 310,
   "id": "c8f4c48f-66fa-40fa-a2e2-9346213d735c",
   "metadata": {},
   "outputs": [
    {
     "data": {
      "text/plain": [
       "array([0.16442819, 0.15792471, 0.1801471 ])"
      ]
     },
     "execution_count": 310,
     "metadata": {},
     "output_type": "execute_result"
    }
   ],
   "source": [
    "slice_values(2, preferences, division, epsilon)"
   ]
  },
  {
   "cell_type": "code",
   "execution_count": 314,
   "id": "3016a670-03fd-480c-bb8d-c4dc58057b06",
   "metadata": {},
   "outputs": [
    {
     "data": {
      "text/plain": [
       "(0.34450429443207714, 0.3447305694920399, 0.3107651360758832)"
      ]
     },
     "execution_count": 314,
     "metadata": {},
     "output_type": "execute_result"
    }
   ],
   "source": [
    "value_query_initial(0, preferences, 0, left), value_query_initial(0, preferences, left, right), value_query_initial(0, preferences, right, 1)"
   ]
  },
  {
   "cell_type": "code",
   "execution_count": 315,
   "id": "5a2184c3-e104-439f-a420-426c92edd6e0",
   "metadata": {},
   "outputs": [
    {
     "data": {
      "text/plain": [
       "(0.3440473367594753, 0.31188949331914784, 0.34406316992137675)"
      ]
     },
     "execution_count": 315,
     "metadata": {},
     "output_type": "execute_result"
    }
   ],
   "source": [
    "value_query_initial(1, preferences, 0, left), value_query_initial(1, preferences, left, right), value_query_initial(1, preferences, right, 1)"
   ]
  },
  {
   "cell_type": "code",
   "execution_count": 318,
   "id": "af2f25e0-b8e2-4c53-8df8-f70b3ab5c873",
   "metadata": {},
   "outputs": [
    {
     "data": {
      "text/plain": [
       "(0.32711016184950803, 0.31432946917691007, 0.3585603689735818)"
      ]
     },
     "execution_count": 318,
     "metadata": {},
     "output_type": "execute_result"
    }
   ],
   "source": [
    "value_query_initial(2, preferences, 0, left), value_query_initial(2, preferences, left, right), value_query_initial(2, preferences, right, 1)"
   ]
  },
  {
   "cell_type": "code",
   "execution_count": 317,
   "id": "24017a79-1a5d-44d6-bfcd-b108ae069273",
   "metadata": {},
   "outputs": [
    {
     "data": {
      "text/plain": [
       "(1, 2, 3)"
      ]
     },
     "execution_count": 317,
     "metadata": {},
     "output_type": "execute_result"
    }
   ],
   "source": [
    "1,2,3"
   ]
  },
  {
   "cell_type": "code",
   "execution_count": 281,
   "id": "7ab9a110-e1c5-46c4-b7b9-2888479d6171",
   "metadata": {},
   "outputs": [],
   "source": [
    "x = True, 2"
   ]
  },
  {
   "cell_type": "code",
   "execution_count": 298,
   "id": "79b39e69-1944-4f9f-80f8-12993d3ada50",
   "metadata": {},
   "outputs": [
    {
     "data": {
      "text/plain": [
       "False"
      ]
     },
     "execution_count": 298,
     "metadata": {},
     "output_type": "execute_result"
    }
   ],
   "source": [
    "check_invariant_three_agents(preferences, 0.3, epsilon)"
   ]
  },
  {
   "cell_type": "code",
   "execution_count": 282,
   "id": "6948e510-ae52-4f7f-9753-16228a3d64d1",
   "metadata": {},
   "outputs": [
    {
     "data": {
      "text/plain": [
       "True"
      ]
     },
     "execution_count": 282,
     "metadata": {},
     "output_type": "execute_result"
    }
   ],
   "source": [
    "x[0]"
   ]
  },
  {
   "cell_type": "code",
   "execution_count": 104,
   "id": "71f967ea-6d3a-4755-a29c-8357c6f3c9bb",
   "metadata": {},
   "outputs": [],
   "source": [
    "cutBounds = find_left_cut_bounds(preferences, epsilon)"
   ]
  },
  {
   "cell_type": "code",
   "execution_count": 78,
   "id": "69614322-8b67-42b3-ab3b-b4f994a1d883",
   "metadata": {},
   "outputs": [
    {
     "data": {
      "text/plain": [
       "0.33984375"
      ]
     },
     "execution_count": 78,
     "metadata": {},
     "output_type": "execute_result"
    }
   ],
   "source": [
    "cutBounds.upper"
   ]
  },
  {
   "cell_type": "code",
   "execution_count": 81,
   "id": "3857b71f-ac80-4dbd-9c4b-ea8ca8826237",
   "metadata": {},
   "outputs": [],
   "source": [
    "cutBounds = Bounds(0.34,0.3425)"
   ]
  },
  {
   "cell_type": "code",
   "execution_count": 105,
   "id": "7d16239b-4288-4d82-981e-978baafd4343",
   "metadata": {},
   "outputs": [
    {
     "data": {
      "text/plain": [
       "0.49872568446745874"
      ]
     },
     "execution_count": 105,
     "metadata": {},
     "output_type": "execute_result"
    }
   ],
   "source": [
    "left = cutBounds.midpoint()\n",
    "value_query(0,preferences, 0, left, epsilon) / value_query(0,preferences, left, 1, epsilon)"
   ]
  },
  {
   "cell_type": "code",
   "execution_count": 106,
   "id": "cef7e210-30a7-4fd7-bc7c-f9ce50098300",
   "metadata": {},
   "outputs": [
    {
     "data": {
      "text/plain": [
       "0.5025000000000001"
      ]
     },
     "execution_count": 106,
     "metadata": {},
     "output_type": "execute_result"
    }
   ],
   "source": [
    "value_query(0,preferences, 0, 1, epsilon)"
   ]
  },
  {
   "cell_type": "code",
   "execution_count": null,
   "id": "734810f8-dec9-47f5-a667-56e4478c2bde",
   "metadata": {},
   "outputs": [],
   "source": []
  },
  {
   "cell_type": "code",
   "execution_count": 83,
   "id": "2f5d9b09-6dd8-4f60-b611-d0367a6218c0",
   "metadata": {},
   "outputs": [],
   "source": [
    "cutBounds = find_right_cut_bounds(preferences, epsilon)"
   ]
  },
  {
   "cell_type": "code",
   "execution_count": 89,
   "id": "44553459-402d-460a-90a4-21269a3a8aca",
   "metadata": {},
   "outputs": [
    {
     "data": {
      "text/plain": [
       "0.634765625"
      ]
     },
     "execution_count": 89,
     "metadata": {},
     "output_type": "execute_result"
    }
   ],
   "source": [
    "cutBounds.upper"
   ]
  },
  {
   "cell_type": "code",
   "execution_count": 96,
   "id": "7dd548cd-4a43-42a7-b6b0-885d09a90423",
   "metadata": {},
   "outputs": [],
   "source": [
    "cutBounds = Bounds(0.6325,0.635)"
   ]
  },
  {
   "cell_type": "code",
   "execution_count": 97,
   "id": "25362c1d-c9f1-409c-8ca5-69e6d32d4d4a",
   "metadata": {},
   "outputs": [
    {
     "data": {
      "text/plain": [
       "0.49931093178343766"
      ]
     },
     "execution_count": 97,
     "metadata": {},
     "output_type": "execute_result"
    }
   ],
   "source": [
    "right = cutBounds.midpoint()\n",
    "value_query(0,preferences, right, 1, epsilon) / value_query(0,preferences, 0, right, epsilon)"
   ]
  },
  {
   "cell_type": "code",
   "execution_count": 66,
   "id": "3759dff2-58c4-47ce-9c3c-7a8fb0e82cc6",
   "metadata": {},
   "outputs": [],
   "source": [
    "check = Bounds(0.6344324880074275, 0.6344324880074286)"
   ]
  },
  {
   "cell_type": "code",
   "execution_count": 38,
   "id": "0d03b0ce-134a-459d-be61-cc9b064d1690",
   "metadata": {},
   "outputs": [
    {
     "data": {
      "text/plain": [
       "0.634432488007428"
      ]
     },
     "execution_count": 38,
     "metadata": {},
     "output_type": "execute_result"
    }
   ],
   "source": [
    "check.midpoint()"
   ]
  },
  {
   "cell_type": "code",
   "execution_count": 67,
   "id": "b47201df-9a16-4d81-8706-c9b05f9e8938",
   "metadata": {},
   "outputs": [
    {
     "data": {
      "text/plain": [
       "0.634432488007428"
      ]
     },
     "execution_count": 67,
     "metadata": {},
     "output_type": "execute_result"
    }
   ],
   "source": [
    "check.midpoint()"
   ]
  },
  {
   "cell_type": "code",
   "execution_count": 322,
   "id": "dcdd0e34-951e-4383-b18e-37634b9b650c",
   "metadata": {},
   "outputs": [],
   "source": [
    "equipartition, alpha = compute_equipartition_three_agents(preferences, epsilon)"
   ]
  },
  {
   "cell_type": "code",
   "execution_count": 323,
   "id": "02fafac4-6261-4f6b-bc61-f5bd457b849b",
   "metadata": {},
   "outputs": [],
   "source": [
    "left = equipartition.left\n",
    "right = equipartition.right"
   ]
  },
  {
   "cell_type": "code",
   "execution_count": 324,
   "id": "d2ef890d-ff48-4973-86c5-5a2eeb103968",
   "metadata": {},
   "outputs": [],
   "source": [
    "one = value_query(0, preferences, 0, left, epsilon)\n",
    "two = value_query(0, preferences, left, right, epsilon)\n",
    "three = value_query(0, preferences, right, 1, epsilon)"
   ]
  },
  {
   "cell_type": "code",
   "execution_count": 214,
   "id": "6a4ac1d7-d30b-4833-a9ab-c990c154d9fa",
   "metadata": {},
   "outputs": [
    {
     "data": {
      "text/plain": [
       "1.0000000000000075"
      ]
     },
     "execution_count": 214,
     "metadata": {},
     "output_type": "execute_result"
    }
   ],
   "source": [
    "one/two"
   ]
  },
  {
   "cell_type": "code",
   "execution_count": 325,
   "id": "d770d779-badf-40c8-a9e6-8cbd6551c27a",
   "metadata": {},
   "outputs": [
    {
     "data": {
      "text/plain": [
       "1.0000000000000075"
      ]
     },
     "execution_count": 325,
     "metadata": {},
     "output_type": "execute_result"
    }
   ],
   "source": [
    "one/two"
   ]
  },
  {
   "cell_type": "code",
   "execution_count": 215,
   "id": "982fed16-e7dc-4269-9d59-c1b9612485ed",
   "metadata": {},
   "outputs": [
    {
     "data": {
      "text/plain": [
       "0.9999999999999959"
      ]
     },
     "execution_count": 215,
     "metadata": {},
     "output_type": "execute_result"
    }
   ],
   "source": [
    "one/three"
   ]
  },
  {
   "cell_type": "code",
   "execution_count": 216,
   "id": "abee646f-8332-4113-8a50-c1a81b028e16",
   "metadata": {},
   "outputs": [
    {
     "data": {
      "text/plain": [
       "0.9999999999999885"
      ]
     },
     "execution_count": 216,
     "metadata": {},
     "output_type": "execute_result"
    }
   ],
   "source": [
    "two/three"
   ]
  },
  {
   "cell_type": "code",
   "execution_count": null,
   "id": "c9cb536b-f3ee-45ba-ac4e-ea5b1416fc23",
   "metadata": {},
   "outputs": [],
   "source": [
    "def check_equipartition_envy_free_four_agents(prefs, alpha, epsilon):\n",
    "    left_cut = cut_query(0, preferences, 0, alpha, epsilon)\n",
    "    middle_cut = cut_query(0, preferences, left_cut, alpha, epsilon)\n",
    "    right_cut = cut_query(0, preferences, middle_cut, alpha, epsilon)\n",
    "    division = FourAgentPortion(left_cut,middle_cut, right_cut)\n",
    "    agent_one_slice_values = slice_values(1, prefs, division, epsilon)\n",
    "    agent_two_slice_values = slice_values(2, prefs, division, epsilon)\n",
    "    is_envy_free = check_unique_preferences_three_agent(agent_one_slice_values,\n",
    "                                                        agent_two_slice_values)\n",
    "    return is_envy_free"
   ]
  },
  {
   "cell_type": "code",
   "execution_count": null,
   "id": "df0fce9e-5210-4f2e-a638-45842ed5fa3e",
   "metadata": {},
   "outputs": [],
   "source": [
    "def compute_equipartition_four_agents(prefs, epsilon):\n",
    "    left_cut_bounds = find_left_cut_epsilon_interval_four_agents(prefs, epsilon)\n",
    "    middle_cut_bounds = find_middle_cut_epsilon_interval_four_agents(prefs, \n",
    "                                                                     epsilon)\n",
    "    right_cut_bounds = find_right_cut_epsilon_interval_four_agents(prefs, \n",
    "                                                                   epsilon)\n",
    "    equipartition = \\\n",
    "        exact_equipartition_cuts_four_agents(prefs, left_cut_bounds, \n",
    "                                             middle_cut_bounds,\n",
    "                                             right_cut_bounds, epsilon)\n",
    "    return equipartition"
   ]
  },
  {
   "cell_type": "code",
   "execution_count": null,
   "id": "e4f2d89e-c0ee-4ed6-8403-84388aac2b88",
   "metadata": {},
   "outputs": [],
   "source": [
    "def exact_equipartition_cuts_four_agents(prefs, left_cut_bounds, \n",
    "                                         middle_cut_bounds,\n",
    "                                         right_cut_bounds, epsilon):\n",
    "    left_cut = equipartition_left_cut_four_agents(prefs, left_cut_bounds,\n",
    "                                                  epsilon)\n",
    "    middle_cut = equipartition_middle_cut_four_agents(prefs, middle_cut_bounds,\n",
    "                                                  epsilon)\n",
    "    right_cut= equipartition_right_cut_four_agents(prefs, right_cut_bounds,\n",
    "                                                   epsilon)\n",
    "    equipartition = FourAgentPortion(left_cut, middle_cut, right_cut)\n",
    "    alpha = value_query(0, preferences, 0, left_cut, epsilon)\n",
    "    return equipartition, alpha"
   ]
  },
  {
   "cell_type": "code",
   "execution_count": null,
   "id": "77bedcf7-d386-4070-89ae-b200c6e2268c",
   "metadata": {},
   "outputs": [],
   "source": [
    "#can generalise\n",
    "def equipartition_left_cut_four_agents(prefs, left_cut_bounds, epsilon):\n",
    "    section_one_value = 2\n",
    "    rest_of_cake_value = 3\n",
    "    while abs(section_one_value - rest_of_cake_value / 3) > 1e-15:\n",
    "        left_cut = left_cut_bounds.midpoint()\n",
    "        section_one_value = value_query(0, prefs, 0, left_cut, epsilon)\n",
    "        rest_of_cake_value = value_query(0, prefs, left_cut, 1, epsilon)\n",
    "        if section_one_value <= (rest_of_cake_value / 3):\n",
    "            left_cut_bounds.lower = left_cut\n",
    "        if section_one_value > (rest_of_cake_value / 3):\n",
    "            left_cut_bounds.upper = left_cut\n",
    "    return left_cut"
   ]
  },
  {
   "cell_type": "code",
   "execution_count": null,
   "id": "7915de08-0bf0-44d6-8d2e-26ddfca27da1",
   "metadata": {},
   "outputs": [],
   "source": [
    "def equipartition_middle_cut_four_agents(prefs, middle_cut_bounds, epsilon):\n",
    "    left_value = 2\n",
    "    right_value = 3\n",
    "    while abs(left_value - right_value) > 1e-15:\n",
    "        middle_cut = middle_cut_bounds.midpoint()\n",
    "        left_value = value_query(0, prefs, 0, middle_cut, epsilon)\n",
    "        right_value = value_query(0, prefs, middle_cut, 1, epsilon)\n",
    "        #can generalise\n",
    "        if left_value <= right_value:\n",
    "            middle_cut_bounds.lower = middle_cut\n",
    "        if left_value > right_value:\n",
    "            middle_cut_bounds.upper = middle_cut\n",
    "    return middle_cut"
   ]
  },
  {
   "cell_type": "code",
   "execution_count": null,
   "id": "49903fc4-00cf-4e69-b3c4-8cf1a2d77d42",
   "metadata": {},
   "outputs": [],
   "source": [
    "def equipartition_right_cut_four_agents(prefs, right_cut_bounds, epsilon):\n",
    "    section_three_value = 2\n",
    "    rest_of_cake_value = 3\n",
    "    while abs(section_three_value - rest_of_cake_value / 3) > 1e-15:\n",
    "        right_cut = right_cut_bounds.midpoint()\n",
    "        section_three_value = value_query(0, prefs, right_cut, 1, epsilon)\n",
    "        rest_of_cake_value = value_query(0, prefs, 0, right_cut, epsilon)\n",
    "        if section_three_value <= (rest_of_cake_value / 3):\n",
    "            right_cut_bounds.upper = right_cut\n",
    "        if section_three_value > (rest_of_cake_value / 3):\n",
    "            right_cut_bounds.lower = right_cut\n",
    "    return right_cut"
   ]
  },
  {
   "cell_type": "code",
   "execution_count": null,
   "id": "11187782-eb9a-40e6-afca-e2f35dfa231b",
   "metadata": {},
   "outputs": [],
   "source": [
    "def find_left_cut_epsilon_interval_four_agents(prefs, epsilon):\n",
    "    left_cut_bounds = Bounds(0, 1)\n",
    "    while (left_cut_bounds.upper // epsilon) != (left_cut_bounds.lower // epsilon):\n",
    "        left_cut_bounds = \\\n",
    "            left_cut_bounds_update_four_agents(prefs, left_cut_bounds, epsilon)\n",
    "    left_cut_epsilon_interval = find_epsilon_interval(left_cut_bounds, epsilon)\n",
    "    return left_cut_epsilon_interval\n",
    "            "
   ]
  },
  {
   "cell_type": "code",
   "execution_count": 326,
   "id": "8247b452-4b84-4bb0-8447-1266d8bd39e4",
   "metadata": {},
   "outputs": [],
   "source": [
    "def left_cut_bounds_update_four_agents(prefs, left_cut_bounds, epsilon):\n",
    "    left_cut = left_cut_bounds.midpoint()\n",
    "    segment_one_value = value_query(0, prefs, 0, left_cut, epsilon)\n",
    "    middle_cut = cut_query(0, prefs, left_cut, segment_one_value, \n",
    "                        epsilon, end_cut = True)\n",
    "    right_cut = cut_query(0, prefs, middle_cut, segment_one_value, \n",
    "                           epsilon, end_cut = True)\n",
    "    left_cut_bounds = left_adjustment_three_agent(prefs, left_cut_bounds,\n",
    "                                                  right_cut, segment_one_value,\n",
    "                                                  epsilon)\n",
    "    return left_cut_bounds"
   ]
  },
  {
   "cell_type": "code",
   "execution_count": null,
   "id": "ff0cd08c-0e73-4561-8884-81f188c94dd3",
   "metadata": {},
   "outputs": [],
   "source": [
    "def find_middle_cut_epsilon_interval_four_agents(prefs, epsilon):\n",
    "    middle_cut_bounds = Bounds(0, 1)\n",
    "    while (middle_cut_bounds.upper // epsilon) != (middle_cut_bounds.lower // epsilon):\n",
    "        middle_cut_bounds = \\\n",
    "            middle_cut_bounds_update_four_agents(prefs, middle_cut_bounds, \n",
    "                                                 epsilon)\n",
    "    middle_cut_epsilon_interval = find_epsilon_interval(middle_cut_bounds, \n",
    "                                                        epsilon)\n",
    "    return middle_cut_epsilon_interval"
   ]
  },
  {
   "cell_type": "code",
   "execution_count": null,
   "id": "5fd136a4-958a-4cd3-8100-3d91736250e0",
   "metadata": {},
   "outputs": [],
   "source": [
    "def middle_cut_bounds_update_four_agents(prefs, middle_cut_bounds, epsilon):\n",
    "    '''\n",
    "    Don't need to find left and right cuts. Middle must split equally, so\n",
    "    just middle cut is sufficient\n",
    "    '''\n",
    "    middle_cut = middle_cut_bounds.midpoint()\n",
    "    left_value = value_query(0, prefs, 0, middle_cut, epsilon) \n",
    "    right_value = value_query(0, prefs, middle_cut, 1, epsilon) \n",
    "    middle_cut_bounds = middle_adjustment(prefs, middle_cut_bounds, \n",
    "                                          left_value, right_value, epsilon)\n",
    "    return middle_cut_bounds"
   ]
  },
  {
   "cell_type": "code",
   "execution_count": null,
   "id": "ba955db1-a0f3-4dea-8944-fae6d250ce3b",
   "metadata": {},
   "outputs": [],
   "source": [
    "def middle_adjustment(prefs, middle_cut_bounds, \n",
    "                      left_value, right_value, epsilon):\n",
    "    middle_cut = middle_cut_bounds.midpoint()\n",
    "    if left_value >= right_value:\n",
    "        middle_cut_bounds.upper = middle_cut\n",
    "    if left_value < right_value:\n",
    "        middle_cut_bounds.lower = middle_cut\n",
    "    return middle_cut_bounds"
   ]
  },
  {
   "cell_type": "code",
   "execution_count": null,
   "id": "2e72479a-166d-49e9-84f8-8b4e062ed118",
   "metadata": {},
   "outputs": [],
   "source": [
    "def find_right_cut_epsilon_interval_four_agents(prefs, epsilon):\n",
    "    right_cut_bounds = Bounds(0, 1)\n",
    "    while abs(right_cut_bounds.upper - right_cut_bounds.lower) - epsilon > 1e-10:\n",
    "        right_cut_bounds = \\\n",
    "            right_cut_bounds_update_four_agents(prefs, right_cut_bounds, epsilon)\n",
    "    right_cut_epsilon_interval = find_epsilon_interval(right_cut_bounds, epsilon)\n",
    "    return right_cut_epsilon_interval"
   ]
  },
  {
   "cell_type": "code",
   "execution_count": null,
   "id": "26334bc9-78f0-47bd-ad9f-2b96d68bdeea",
   "metadata": {},
   "outputs": [],
   "source": [
    "def right_cut_bounds_update_four_agents(prefs, right_cut_bounds, epsilon):\n",
    "    right_cut = right_cut_bounds.midpoint()\n",
    "    segment_four_value = value_query(0, prefs, right_cut, 1, epsilon)\n",
    "    middle_cut = cut_query(0, prefs, right_cut, segment_four_value, \n",
    "                        epsilon, end_cut = False)\n",
    "    left_cut = cut_query(0, prefs, middle_cut, segment_four_value, \n",
    "                        epsilon, end_cut = False)\n",
    "    right_cut_bounds = right_adjustment_three_agent(prefs, right_cut_bounds, \n",
    "                                                    left_cut, segment_three_value, \n",
    "                                                    epsilon)\n",
    "    return right_cut_bounds"
   ]
  },
  {
   "cell_type": "code",
   "execution_count": 352,
   "id": "a20e2487-914a-4ad2-b9df-6cf8a0ca866b",
   "metadata": {},
   "outputs": [],
   "source": [
    "def check_equipartition_envy_free(prefs, alpha, agents_number, epsilon):\n",
    "    left_cut = cut_query(0, preferences, 0, alpha, epsilon)\n",
    "    right_cut = cut_query(0, preferences, left_cut, alpha, epsilon)\n",
    "    division = ThreeAgentPortion(left_cut,right_cut)\n",
    "    agent_one_slice_values = slice_values(1, prefs, division, agents_number,\n",
    "                                          epsilon)\n",
    "    agent_two_slice_values = slice_values(2, prefs, division, agents_number,\n",
    "                                          epsilon)\n",
    "    is_envy_free = check_unique_preferences_three_agent(agent_one_slice_values,\n",
    "                                                        agent_two_slice_values)\n",
    "    return is_envy_free\n",
    "            "
   ]
  },
  {
   "cell_type": "code",
   "execution_count": 320,
   "id": "b9278973-b984-4742-91cf-4283d864a6bd",
   "metadata": {},
   "outputs": [],
   "source": [
    "def check_unique_preferences_three_agent(agent_one_slice_values,\n",
    "                                         agent_two_slice_values):\n",
    "    for i in range(3):\n",
    "        for j in range(3):\n",
    "            if j == i:\n",
    "                continue\n",
    "            if  (agent_one_slice_values[i] == np.max(agent_one_slice_values)) and \\\n",
    "                (agent_two_slice_values[i] == np.max(agent_one_slice_values)):\n",
    "                return True\n",
    "    return False"
   ]
  },
  {
   "cell_type": "code",
   "execution_count": 246,
   "id": "a063e6d3-59fe-442a-bf93-0af156c64c5d",
   "metadata": {},
   "outputs": [],
   "source": [
    "def division_three_agents(prefs, alpha, epsilon):\n",
    "    if check_invariant_three_agents(prefs, alpha, epsilon)[1] == 1:\n",
    "        right_cut = cut_query(0, preferences, 1, alpha, epsilon, end_cut = False)\n",
    "        left_cut = cut_query(0, preferences, right_cut, alpha, \n",
    "                             epsilon, end_cut = False)\n",
    "    if check_invariant_three_agents(prefs, alpha, epsilon)[1] == 2:\n",
    "        left_cut = cut_query(0, preferences, 0, alpha, epsilon)\n",
    "        right_cut = cut_query(0, preferences, 1, alpha, epsilon, end_cut = False)\n",
    "        \n",
    "    if check_invariant_three_agents(prefs, alpha, epsilon)[1] == 3:\n",
    "        left_cut = cut_query(0, preferences, 0, alpha, epsilon)\n",
    "        right_cut = cut_query(0, preferences, left_cut, alpha, epsilon)\n",
    "    division = ThreeAgentPortion(left_cut,right_cut)\n",
    "    return division"
   ]
  },
  {
   "cell_type": "code",
   "execution_count": 299,
   "id": "c56ebe9e-40b4-457d-81de-0d9197fd6a98",
   "metadata": {},
   "outputs": [],
   "source": [
    "def check_invariant_three_agents(prefs, alpha, epsilon):\n",
    "    if invariant_three_agents_slice_one_preferred(prefs, alpha, epsilon) == True:\n",
    "        return True, 1\n",
    "    if invariant_three_agents_slice_two_preferred(prefs, alpha, epsilon) == True:\n",
    "        return True, 2\n",
    "    if invariant_three_agents_slice_three_preferred(prefs, alpha, epsilon) == True:\n",
    "        return True, 3\n",
    "    else:\n",
    "        return False, 0"
   ]
  },
  {
   "cell_type": "code",
   "execution_count": 240,
   "id": "a512369b-d890-4efc-8de5-dfee24f28944",
   "metadata": {},
   "outputs": [],
   "source": [
    "def invariant_three_agents_slice_one_preferred(prefs, alpha, epsilon):\n",
    "    right_cut = cut_query(0, preferences, 1, alpha, epsilon, end_cut = False)\n",
    "    left_cut = cut_query(0, preferences, right_cut, alpha, \n",
    "                         epsilon, end_cut = False)\n",
    "    division = ThreeAgentPortion(left_cut,right_cut)\n",
    "    return invariant_three_agent_check(1, prefs, division, epsilon)\n",
    "    "
   ]
  },
  {
   "cell_type": "code",
   "execution_count": 241,
   "id": "77654a8b-2cce-4945-b713-7c2726ec21ce",
   "metadata": {},
   "outputs": [],
   "source": [
    "def invariant_three_agents_slice_two_preferred(prefs, alpha, epsilon):\n",
    "    left_cut = cut_query(0, preferences, 0, alpha, epsilon)\n",
    "    right_cut = cut_query(0, preferences, 1, alpha, epsilon, end_cut = False)\n",
    "    division = ThreeAgentPortion(left_cut,right_cut)\n",
    "    return invariant_three_agent_check(2, prefs, division, epsilon)\n",
    "\n"
   ]
  },
  {
   "cell_type": "code",
   "execution_count": 242,
   "id": "7efc4898-7258-4104-9244-fdade6f1be34",
   "metadata": {},
   "outputs": [],
   "source": [
    "def invariant_three_agents_slice_three_preferred(prefs, alpha, epsilon):\n",
    "    left_cut = cut_query(0, preferences, 0, alpha, epsilon)\n",
    "    right_cut = cut_query(0, preferences, left_cut, alpha, epsilon)\n",
    "    division = ThreeAgentPortion(left_cut,right_cut)\n",
    "    return invariant_three_agent_check(3, prefs, division, epsilon)"
   ]
  },
  {
   "cell_type": "code",
   "execution_count": 356,
   "id": "7c64a03f-dbb8-4c80-8459-4256cfba602d",
   "metadata": {},
   "outputs": [],
   "source": [
    "def invariant_three_agent_check(slice, prefs, division, epsilon):\n",
    "    agent_one_slice_values = slice_values(1, prefs, division, 3, epsilon)\n",
    "    agent_two_slice_values = slice_values(2, prefs, division, 3, epsilon)\n",
    "    \n",
    "    if  (agent_one_slice_values[slice-1] == np.max(agent_one_slice_values)) and \\\n",
    "        (agent_two_slice_values[slice-1] == np.max(agent_two_slice_values)):\n",
    "        return True\n",
    "    else:\n",
    "        return False"
   ]
  },
  {
   "cell_type": "code",
   "execution_count": 236,
   "id": "77a0d1ce-e03e-446f-8c39-6907aeb7b2f3",
   "metadata": {},
   "outputs": [],
   "source": [
    "#can generalise with four_agents == True and first, second, third cut.\n",
    "def slice_values(agent, prefs, division, epsilon):\n",
    "    left_cut = division.left\n",
    "    right_cut = division.right\n",
    "    slice_one_value = value_query(agent, prefs, 0, left_cut, epsilon)\n",
    "    slice_two_value = value_query(agent, prefs, left_cut, right_cut, epsilon)\n",
    "    slice_three_value = value_query(agent, prefs, right_cut, 1, epsilon)\n",
    "    return np.array([slice_one_value, slice_two_value, slice_three_value])"
   ]
  },
  {
   "cell_type": "code",
   "execution_count": 348,
   "id": "2c85ec48-0678-47b8-9c52-85af87aaa0cf",
   "metadata": {},
   "outputs": [],
   "source": [
    "def slice_values(agent, prefs, division, agents_number, epsilon):\n",
    "    check_valid_agents_value(agents_number)\n",
    "    first_slice_value = np.array([value_query(agent, prefs, 0, division.left, \n",
    "                                              epsilon)])\n",
    "    middle_slice_values = find_middle_slice_values(agent, prefs, division, \n",
    "                                                   agents_number, epsilon)\n",
    "    last_slice_value = np.array([value_query(agent, prefs, division.right, 1, \n",
    "                                             epsilon)])\n",
    "    return np.concatenate([first_slice_value, middle_slice_values, \n",
    "                           last_slice_value])"
   ]
  },
  {
   "cell_type": "code",
   "execution_count": 347,
   "id": "8198ef7e-82f3-4893-b7a0-b7289fc06be9",
   "metadata": {},
   "outputs": [],
   "source": [
    "def find_middle_slice_values(agent, prefs, division, agents_number, epsilon):\n",
    "    if agents_number == 3:\n",
    "        middle_slice_values = np.array([value_query(agent, prefs, division.left, \n",
    "                                                    division.right, epsilon)])\n",
    "    if agents_number == 4:\n",
    "        slice_two_value = value_query(agent, prefs, division.left, \n",
    "                                      division.middle, epsilon)\n",
    "        slice_three_value = value_query(agent, prefs, division.middle, \n",
    "                                      division.right, epsilon)\n",
    "        middle_slice_values = np.array([slice_two_value, slice_two_value])\n",
    "    return middle_slice_values"
   ]
  },
  {
   "cell_type": "code",
   "execution_count": 345,
   "id": "a4a4a76d-7366-411a-97dc-b1811ac8623b",
   "metadata": {},
   "outputs": [],
   "source": [
    "def check_valid_agents_value(agents_number):\n",
    "    assert agents_number == 3 or agents_number == 4, \\\n",
    "        \"invalid number of agents. Please input either 3 or 4.\""
   ]
  },
  {
   "cell_type": "code",
   "execution_count": 344,
   "id": "368fc908-193c-45f9-9ba9-e9d0d5103fff",
   "metadata": {},
   "outputs": [
    {
     "ename": "ValueError",
     "evalue": "zero-dimensional arrays cannot be concatenated",
     "output_type": "error",
     "traceback": [
      "\u001b[1;31m---------------------------------------------------------------------------\u001b[0m",
      "\u001b[1;31mValueError\u001b[0m                                Traceback (most recent call last)",
      "Cell \u001b[1;32mIn[344], line 1\u001b[0m\n\u001b[1;32m----> 1\u001b[0m \u001b[43mnp\u001b[49m\u001b[38;5;241;43m.\u001b[39;49m\u001b[43mconcatenate\u001b[49m\u001b[43m(\u001b[49m\u001b[43mnp\u001b[49m\u001b[38;5;241;43m.\u001b[39;49m\u001b[43marray\u001b[49m\u001b[43m(\u001b[49m\u001b[43m[\u001b[49m\u001b[38;5;241;43m2\u001b[39;49m\u001b[43m,\u001b[49m\u001b[43m \u001b[49m\u001b[38;5;241;43m3\u001b[39;49m\u001b[43m]\u001b[49m\u001b[43m)\u001b[49m\u001b[43m,\u001b[49m\u001b[43m \u001b[49m\u001b[43mnp\u001b[49m\u001b[38;5;241;43m.\u001b[39;49m\u001b[43marray\u001b[49m\u001b[43m(\u001b[49m\u001b[38;5;241;43m0\u001b[39;49m\u001b[43m)\u001b[49m\u001b[43m)\u001b[49m\n",
      "\u001b[1;31mValueError\u001b[0m: zero-dimensional arrays cannot be concatenated"
     ]
    }
   ],
   "source": [
    "np.concatenate(np.array([2, 3]), np.array(0))"
   ]
  },
  {
   "cell_type": "code",
   "execution_count": 343,
   "id": "707cf0e2-1db7-476a-8977-7f1b60e7110d",
   "metadata": {},
   "outputs": [
    {
     "data": {
      "text/plain": [
       "2"
      ]
     },
     "execution_count": 343,
     "metadata": {},
     "output_type": "execute_result"
    }
   ],
   "source": [
    "np.array([2])[0]"
   ]
  },
  {
   "cell_type": "code",
   "execution_count": 208,
   "id": "347f9626-909a-41ae-a611-12784b927453",
   "metadata": {},
   "outputs": [],
   "source": [
    "#possibly add if statement based on four agents.\n",
    "def compute_equipartition_three_agents(prefs, epsilon):\n",
    "    left_cut_bounds = find_left_cut_epsilon_interval(prefs, epsilon)\n",
    "    right_cut_bounds = find_right_cut_epsilon_interval(prefs, epsilon)\n",
    "    equipartition = \\\n",
    "        exact_equipartition_cuts_three_agents(prefs, left_cut_bounds, \n",
    "                                              right_cut_bounds, epsilon)\n",
    "    return equipartition"
   ]
  },
  {
   "cell_type": "code",
   "execution_count": 169,
   "id": "6732e6dc-00ed-4afa-a952-bc10e2d27219",
   "metadata": {},
   "outputs": [],
   "source": [
    "#can generalise with new function parameter\n",
    "def find_left_cut_epsilon_interval(prefs, epsilon):\n",
    "    left_cut_bounds = Bounds(0, 1)\n",
    "    while (left_cut_bounds.upper // epsilon) != (left_cut_bounds.lower // epsilon):\n",
    "        left_cut_bounds = left_cut_bounds_update(prefs, left_cut_bounds, epsilon)\n",
    "    left_cut_epsilon_interval = find_epsilon_interval(left_cut_bounds, epsilon)\n",
    "    return left_cut_epsilon_interval\n",
    "            "
   ]
  },
  {
   "cell_type": "code",
   "execution_count": 170,
   "id": "98894ead-7250-4a86-810b-5d37eff2f830",
   "metadata": {},
   "outputs": [],
   "source": [
    "def left_cut_bounds_update(prefs, left_cut_bounds, epsilon):\n",
    "    left_cut = left_cut_bounds.midpoint()\n",
    "    segment_one_value = value_query(0, prefs, 0, left_cut, epsilon)\n",
    "    right_cut = cut_query(0, prefs, left_cut, segment_one_value, \n",
    "                        epsilon, end_cut = True)\n",
    "    left_cut_bounds = left_adjustment_three_agent(prefs, left_cut_bounds, \n",
    "                                                  right_cut, segment_one_value, \n",
    "                                                  epsilon)\n",
    "    return left_cut_bounds"
   ]
  },
  {
   "cell_type": "code",
   "execution_count": 171,
   "id": "3af22f2d-9576-4421-93f8-373c88f4f0fb",
   "metadata": {},
   "outputs": [],
   "source": [
    "#can generalise with new function parameter\n",
    "def find_right_cut_epsilon_interval(prefs, epsilon):\n",
    "    right_cut_bounds = Bounds(0, 1)\n",
    "    while abs(right_cut_bounds.upper - right_cut_bounds.lower) - epsilon > 1e-10:\n",
    "        right_cut_bounds = right_cut_bounds_update(prefs, right_cut_bounds, \n",
    "                                                   epsilon)\n",
    "    right_cut_epsilon_interval = find_epsilon_interval(right_cut_bounds, epsilon)\n",
    "    return right_cut_epsilon_interval"
   ]
  },
  {
   "cell_type": "code",
   "execution_count": 172,
   "id": "d8823c9c-a1e9-4adb-8cd4-c8643df8e244",
   "metadata": {},
   "outputs": [],
   "source": [
    "def right_cut_bounds_update(prefs, right_cut_bounds, epsilon):\n",
    "    right_cut = right_cut_bounds.midpoint()\n",
    "    segment_three_value = value_query(0, prefs, right_cut, 1, epsilon)\n",
    "    left_cut = cut_query(0, prefs, right_cut, segment_three_value, \n",
    "                        epsilon, end_cut = False)\n",
    "    right_cut_bounds = right_adjustment_three_agent(prefs, right_cut_bounds, \n",
    "                                                    left_cut, segment_three_value, \n",
    "                                                    epsilon)\n",
    "    return right_cut_bounds"
   ]
  },
  {
   "cell_type": "code",
   "execution_count": null,
   "id": "5504cdd0-b02b-4f28-8796-7df2ce78eced",
   "metadata": {},
   "outputs": [],
   "source": []
  },
  {
   "cell_type": "code",
   "execution_count": 173,
   "id": "c1d275be-76ab-4ff6-94cb-522a28209ee8",
   "metadata": {},
   "outputs": [],
   "source": [
    "def find_epsilon_interval(bounds, epsilon):\n",
    "    value_within_interval = bounds.midpoint()\n",
    "    lower_bound_of_interval = (value_within_interval // epsilon) * epsilon\n",
    "    upper_bound_of_interval = lower_bound_of_interval + epsilon \n",
    "    epsilon_interval = Bounds(lower_bound_of_interval, upper_bound_of_interval)\n",
    "    return epsilon_interval"
   ]
  },
  {
   "cell_type": "code",
   "execution_count": 217,
   "id": "4f0875c6-3bb9-47ca-986a-a15d6aa2c9de",
   "metadata": {},
   "outputs": [],
   "source": [
    "def exact_equipartition_cuts_three_agents(prefs, left_cut_bounds, \n",
    "                                          right_cut_bounds, epsilon):\n",
    "    left_cut = equipartition_left_cut_three_agents(prefs, left_cut_bounds,\n",
    "                                                   epsilon)\n",
    "    right_cut= equipartition_right_cut_three_agents(prefs, right_cut_bounds,\n",
    "                                                    epsilon)\n",
    "    equipartition = ThreeAgentPortion(left_cut, right_cut)\n",
    "    alpha = value_query(0, preferences, 0, left_cut, epsilon)\n",
    "    return equipartition, alpha\n",
    "    "
   ]
  },
  {
   "cell_type": "code",
   "execution_count": 175,
   "id": "acc6fa75-a213-4542-9ff1-26a45ea47062",
   "metadata": {},
   "outputs": [],
   "source": [
    "#can generalise to equipartition_edge_cut with new slices parameter and \n",
    "#function parameter\n",
    "def equipartition_left_cut_three_agents(prefs, left_cut_bounds, epsilon):\n",
    "    section_one_value = 2\n",
    "    rest_of_cake_value = 3\n",
    "    while abs(section_one_value - rest_of_cake_value / 2) > 1e-15:\n",
    "        left_cut = left_cut_bounds.midpoint()\n",
    "        #make into function\n",
    "        section_one_value = value_query(0, prefs, 0, left_cut, epsilon)\n",
    "        rest_of_cake_value = value_query(0, prefs, left_cut, 1, epsilon)\n",
    "        #can generalise\n",
    "        if section_one_value <= (rest_of_cake_value / 2):\n",
    "            left_cut_bounds.lower = left_cut\n",
    "        if section_one_value > (rest_of_cake_value / 2):\n",
    "            left_cut_bounds.upper = left_cut\n",
    "    return left_cut\n"
   ]
  },
  {
   "cell_type": "code",
   "execution_count": 176,
   "id": "e3dfc921-3f29-41d6-8a72-555ac30c4900",
   "metadata": {},
   "outputs": [],
   "source": [
    "#can generalise to equipartition_edge_cut with new slices parameter and \n",
    "#function parameter\n",
    "def equipartition_right_cut_three_agents(prefs, right_cut_bounds, epsilon):\n",
    "    section_three_value = 2\n",
    "    rest_of_cake_value = 3\n",
    "    while abs(section_three_value - rest_of_cake_value / 2) > 1e-15:\n",
    "        right_cut = right_cut_bounds.midpoint()\n",
    "        #make into function\n",
    "        section_three_value = value_query(0, prefs, right_cut, 1, epsilon)\n",
    "        rest_of_cake_value = value_query(0, prefs, 0, right_cut, epsilon)\n",
    "        #can generalise\n",
    "        if section_three_value <= (rest_of_cake_value / 2):\n",
    "            right_cut_bounds.upper = right_cut\n",
    "        if section_three_value > (rest_of_cake_value / 2):\n",
    "            right_cut_bounds.lower = right_cut\n",
    "    return right_cut\n"
   ]
  },
  {
   "cell_type": "code",
   "execution_count": 184,
   "id": "1ebbd937-6a07-4e2e-82a2-0fa978ed01cd",
   "metadata": {},
   "outputs": [],
   "source": [
    "#can generalise to left adjustment\n",
    "def left_adjustment_three_agent(prefs, left_cut_bounds, right_cut,\n",
    "                             segment_one_value, epsilon):\n",
    "    left_cut = left_cut_bounds.midpoint()\n",
    "    segment_three_value = value_query(0, prefs, right_cut, 1, epsilon)\n",
    "    #can generalise to adjust_bounds\n",
    "    if segment_three_value >= segment_one_value:\n",
    "        left_cut_bounds.lower = left_cut\n",
    "    if segment_three_value < segment_one_value:\n",
    "        left_cut_bounds.upper = left_cut\n",
    "    return left_cut_bounds"
   ]
  },
  {
   "cell_type": "code",
   "execution_count": 185,
   "id": "1463810b-77bb-4f81-a531-75d6546585f2",
   "metadata": {},
   "outputs": [],
   "source": [
    "#can generalise to right adjustment\n",
    "def right_adjustment_three_agent(prefs, right_cut_bounds, left_cut, \n",
    "                                 segment_three_value, epsilon):\n",
    "    right_cut = right_cut_bounds.midpoint()\n",
    "    segment_one_value = value_query(0, prefs, 0, left_cut, epsilon)\n",
    "    #can generalise to adjust_bounds\n",
    "    if segment_one_value >= segment_three_value:\n",
    "        right_cut_bounds.upper = right_cut\n",
    "    if segment_one_value < segment_three_value:\n",
    "        right_cut_bounds.lower = right_cut\n",
    "    return right_cut_bounds"
   ]
  },
  {
   "cell_type": "code",
   "execution_count": 177,
   "id": "6197a81d-fdc0-4ad3-b63d-b5577245b207",
   "metadata": {},
   "outputs": [
    {
     "data": {
      "text/plain": [
       "0.49999999999999867"
      ]
     },
     "execution_count": 177,
     "metadata": {},
     "output_type": "execute_result"
    }
   ],
   "source": [
    "right_cut_bounds = find_right_cut_epsilon_interval(preferences, epsilon)\n",
    "right_cut = equipartition_right_cut_three_agents(preferences, right_cut_bounds,\n",
    "                                                epsilon)\n",
    "value_query(0, preferences, right_cut, 1, epsilon)/ \\\n",
    "value_query(0, preferences, 0, right_cut, epsilon)"
   ]
  },
  {
   "cell_type": "code",
   "execution_count": 178,
   "id": "26e118d3-7b0f-4730-a980-3ffd92ccb0ee",
   "metadata": {},
   "outputs": [
    {
     "data": {
      "text/plain": [
       "0.5000000000000008"
      ]
     },
     "execution_count": 178,
     "metadata": {},
     "output_type": "execute_result"
    }
   ],
   "source": [
    "left_cut_bounds = find_left_cut_epsilon_interval(preferences, epsilon)\n",
    "left_cut = equipartition_left_cut_three_agents(preferences, left_cut_bounds,\n",
    "                                                epsilon)\n",
    "value_query(0, preferences, 0, left_cut, epsilon)/ \\\n",
    "value_query(0, preferences, left_cut, 1, epsilon)\n"
   ]
  },
  {
   "cell_type": "code",
   "execution_count": 179,
   "id": "27855147-6a91-4cd3-8e71-114c043d4fb3",
   "metadata": {},
   "outputs": [],
   "source": [
    "#Must add functionality that returns if there is no cut.\n",
    "def cut_query(agent, prefs, initial_cut, value, epsilon, end_cut = True):\n",
    "    if end_cut == True:\n",
    "        queried_cut = end_cut_query(agent, prefs, initial_cut, value, epsilon)\n",
    "    else:\n",
    "        queried_cut = start_cut_query(agent, prefs, initial_cut, value, epsilon)\n",
    "    return queried_cut"
   ]
  },
  {
   "cell_type": "code",
   "execution_count": 180,
   "id": "93fac0e4-ca32-4367-a5ba-2ce35d2facda",
   "metadata": {},
   "outputs": [],
   "source": [
    "def end_cut_query(agent, prefs, start, value, epsilon):\n",
    "    end_cut_bounds = Bounds(start, 1)\n",
    "    while abs(end_cut_bounds.upper - end_cut_bounds.lower) > 1e-15:\n",
    "        end_cut_bounds = end_cut_bounds_update(prefs, start, end_cut_bounds, \n",
    "                                               value, epsilon)\n",
    "    end_cut = end_cut_bounds.midpoint()\n",
    "    return end_cut"
   ]
  },
  {
   "cell_type": "code",
   "execution_count": 181,
   "id": "9d7eb0af-bb45-4adb-a480-1308bdd19669",
   "metadata": {},
   "outputs": [],
   "source": [
    "def end_cut_bounds_update(prefs, start, end_cut_bounds, \n",
    "                          value, epsilon):\n",
    "    end_cut = end_cut_bounds.midpoint()\n",
    "    queried_value = value_query(0, prefs, start, end_cut, epsilon)\n",
    "    if queried_value <= value:\n",
    "        end_cut_bounds.lower  = end_cut\n",
    "    if queried_value > value:\n",
    "        end_cut_bounds.upper = end_cut\n",
    "    return end_cut_bounds"
   ]
  },
  {
   "cell_type": "code",
   "execution_count": 182,
   "id": "fc7cb0d5-b443-4e78-ae9c-f6b6a1ac90ec",
   "metadata": {},
   "outputs": [],
   "source": [
    "def start_cut_query(agent, prefs, end, value, epsilon):\n",
    "    start_cut_bounds = Bounds(0, end)\n",
    "    while abs(start_cut_bounds.upper - start_cut_bounds.lower) > 1e-15:\n",
    "        start_cut_bounds = start_cut_bounds_update(prefs, end, start_cut_bounds, \n",
    "                                                   value, epsilon)\n",
    "    start_cut = start_cut_bounds.midpoint()\n",
    "    return start_cut"
   ]
  },
  {
   "cell_type": "code",
   "execution_count": 183,
   "id": "d0178ba6-a70f-44b9-83d1-c2f627977b07",
   "metadata": {},
   "outputs": [],
   "source": [
    "def start_cut_bounds_update(prefs, end, start_cut_bounds, \n",
    "                            value, epsilon):\n",
    "    start_cut = start_cut_bounds.midpoint()\n",
    "    queried_value = value_query(0, prefs, start_cut, end, epsilon)\n",
    "    if queried_value <= value:\n",
    "        start_cut_bounds.upper  = start_cut\n",
    "    if queried_value > value:\n",
    "        start_cut_bounds.lower = start_cut\n",
    "    return start_cut_bounds"
   ]
  },
  {
   "cell_type": "code",
   "execution_count": 186,
   "id": "91e5b24e-1aa3-4214-921e-2b5c67facb12",
   "metadata": {},
   "outputs": [],
   "source": [
    "#Remember to scale by L at end.\n",
    "def one_lipschitz(prefs, cakeSize):\n",
    "    prefs = change_bounds(prefs, cakeSize)\n",
    "    #prefs, normalizationConstants = normalization(prefs)\n",
    "    prefs = normalization(prefs)\n",
    "    return prefs#, normalizationConstants"
   ]
  },
  {
   "cell_type": "code",
   "execution_count": 187,
   "id": "abf05d27-bb4e-41f0-b298-3ee5689eb7bf",
   "metadata": {},
   "outputs": [],
   "source": [
    "def change_bounds(prefs, cakeSize):\n",
    "    agents = np.shape(prefs)[0]\n",
    "    segments = np.shape(prefs)[1]\n",
    "    for i in range(agents):\n",
    "        for j in range(segments):\n",
    "            if prefs[i][j] is not None:\n",
    "                prefs[i][j].start /= cakeSize\n",
    "                prefs[i][j].end /= cakeSize\n",
    "    return prefs\n",
    "        "
   ]
  },
  {
   "cell_type": "code",
   "execution_count": 188,
   "id": "c58e6a1c-c162-451b-bd49-db013f9f4a7d",
   "metadata": {},
   "outputs": [],
   "source": [
    "'''\n",
    "Ensures that each agents values the\n",
    "'''\n",
    "def normalization(prefs):\n",
    "    agents = np.shape(prefs)[0]\n",
    "    segments = np.shape(prefs)[1]\n",
    "    normalization_constants = np.zeros(agents)\n",
    "    for i in range(agents):\n",
    "        normalization_constants[i] = value_query_initial(i, prefs, 0, 1)\n",
    "        for j in range(segments):\n",
    "            if prefs[i][j] is not None:\n",
    "                prefs[i][j].startvalue /= normalization_constants[i]\n",
    "                prefs[i][j].endvalue /= normalization_constants[i]\n",
    "    return prefs#, normalizationConstants\n",
    "        "
   ]
  },
  {
   "cell_type": "code",
   "execution_count": 189,
   "id": "be0993f9-ed54-4721-8fe2-820e88efbf05",
   "metadata": {},
   "outputs": [],
   "source": [
    "'''\n",
    "Linear interpolation on epsilon grid.\n",
    "'''\n",
    "def value_query(agent, prefs, start, end, epsilon):\n",
    "    start_bounds, end_bounds = piecewise_linear_bounds(start, end, epsilon)\n",
    "    \n",
    "    if start_bounds.upper - start >= end - end_bounds.lower:\n",
    "        return value_query_variant_one(agent, prefs, start, end, epsilon)\n",
    "    if start_bounds.upper - start < end - end_bounds.lower:\n",
    "        return value_query_variant_two(agent, prefs, start, end, epsilon)"
   ]
  },
  {
   "cell_type": "code",
   "execution_count": 190,
   "id": "9ecd338a-465b-4bd4-8cd6-fdee0375303b",
   "metadata": {},
   "outputs": [],
   "source": [
    "def value_query_variant_one(agent, prefs, start, end, epsilon):\n",
    "    start_bounds, end_bounds = piecewise_linear_bounds(start, end, epsilon)\n",
    "    queries = intermediate_queries_variant_one(agent, prefs, start_bounds, \n",
    "                                            end_bounds, epsilon)\n",
    "    component_one = (((start_bounds.upper - start) - (end - end_bounds.lower)) / \n",
    "                    epsilon) * queries[0]\n",
    "    component_two = ((end - end_bounds.lower) / epsilon) * queries[1]\n",
    "    component_three = ((start - start_bounds.lower) / epsilon) * queries[2]\n",
    "    return component_one + component_two + component_three"
   ]
  },
  {
   "cell_type": "code",
   "execution_count": 191,
   "id": "6594ea8d-88b8-4dc6-ba68-e3777eb9ca88",
   "metadata": {},
   "outputs": [],
   "source": [
    "def value_query_variant_two(agent, prefs, start, end, epsilon):\n",
    "    start_bounds, end_bounds = piecewise_linear_bounds(start, end, epsilon)\n",
    "    queries = intermediate_queries_variant_two(agent, prefs, start_bounds, \n",
    "                                               end_bounds, epsilon)\n",
    "    component_one = (((end - end_bounds.lower) - (start_bounds.upper - start)) / \n",
    "                    epsilon) * queries[0]\n",
    "    component_two = ((start_bounds.upper - start) / epsilon) * queries[1]\n",
    "    component_three = ((end_bounds.upper - end) / epsilon) * queries[2]\n",
    "    return component_one + component_two + component_three"
   ]
  },
  {
   "cell_type": "code",
   "execution_count": 192,
   "id": "09e6de8d-89e4-45b5-b490-44dddbdf6511",
   "metadata": {},
   "outputs": [],
   "source": [
    "def piecewise_linear_bounds(start, end, epsilon):\n",
    "    if start != 1:\n",
    "        start_lower_bound = (start // epsilon) * epsilon\n",
    "        start_upper_bound = start_lower_bound + epsilon \n",
    "    else:\n",
    "        start_lower_bound = 1 - epsilon\n",
    "        start_upper_bound = 1\n",
    "    if end != 1:\n",
    "        end_lower_bound = (end // epsilon) * epsilon\n",
    "        end_upper_bound = end_lower_bound + epsilon\n",
    "    else:\n",
    "        end_lower_bound = 1 - epsilon\n",
    "        end_upper_bound = 1\n",
    "\n",
    "    start_bounds = Bounds(start_lower_bound, start_upper_bound)\n",
    "    end_bounds = Bounds(end_lower_bound, end_upper_bound)\n",
    "\n",
    "    return start_bounds, end_bounds"
   ]
  },
  {
   "cell_type": "code",
   "execution_count": 193,
   "id": "3519e453-7b76-4d5c-876e-74ae16ce95d8",
   "metadata": {},
   "outputs": [],
   "source": [
    "def intermediate_queries_variant_one(agent, prefs, start_bounds, \n",
    "                                     end_bounds, epsilon):\n",
    "    query_one = value_query_hungry(agent, prefs, start_bounds.lower, \n",
    "                                end_bounds.lower, epsilon)\n",
    "    query_two = value_query_hungry(agent, prefs, start_bounds.lower, \n",
    "                                end_bounds.upper, epsilon)\n",
    "    query_three = value_query_hungry(agent, prefs, start_bounds.upper, \n",
    "                                  end_bounds.lower, epsilon)\n",
    "    return query_one, query_two, query_three"
   ]
  },
  {
   "cell_type": "code",
   "execution_count": 194,
   "id": "429925f2-d4cf-44d7-b4be-8568d885b62c",
   "metadata": {},
   "outputs": [],
   "source": [
    "def intermediate_queries_variant_two(agent, prefs, start_bounds, \n",
    "                                     end_bounds, epsilon):\n",
    "    query_one = value_query_hungry(agent, prefs, start_bounds.upper, \n",
    "                                   end_bounds.upper, epsilon)\n",
    "    query_two = value_query_hungry(agent, prefs, start_bounds.lower, \n",
    "                                   end_bounds.upper, epsilon)\n",
    "    query_three = value_query_hungry(agent, prefs, start_bounds.upper, \n",
    "                                     end_bounds.lower, epsilon)\n",
    "    return query_one, query_two, query_three"
   ]
  },
  {
   "cell_type": "code",
   "execution_count": 195,
   "id": "47b43a47-d256-4693-883f-f410c9de6bce",
   "metadata": {},
   "outputs": [],
   "source": [
    "def value_query_hungry(agent, prefs, start, end, epsilon):\n",
    "    initial_value = value_query_initial(agent, prefs, start, end)\n",
    "    value = initial_value / 2 + epsilon * (end - start)\n",
    "    return value"
   ]
  },
  {
   "cell_type": "code",
   "execution_count": 196,
   "id": "9134b928-fed5-4535-8684-af751d04df1f",
   "metadata": {},
   "outputs": [],
   "source": [
    "def value_query_initial(agent, prefs, start, end):\n",
    "    check_valid_bounds(start,end)\n",
    "    if end <= start:\n",
    "        value = 0\n",
    "    else:\n",
    "        value = one_sided_query(agent, prefs, end) - \\\n",
    "                one_sided_query(agent, prefs, start)\n",
    "    return value\n",
    "    "
   ]
  },
  {
   "cell_type": "code",
   "execution_count": 197,
   "id": "e6edd509-8d6e-4bdf-bac7-148b801bd963",
   "metadata": {},
   "outputs": [],
   "source": [
    "def check_valid_bounds(start,end):\n",
    "    assert (start >= 0 and start <= 1 and end >= 0 and end <= 1), \\\n",
    "        \"invalid bounds. start and end should be between 0 and 1.\""
   ]
  },
  {
   "cell_type": "code",
   "execution_count": 198,
   "id": "26e77695-cbd7-4a13-8622-401c7c8e324d",
   "metadata": {},
   "outputs": [],
   "source": [
    "def one_sided_query(agent, prefs, end):\n",
    "    segments = np.size(prefs[agent])\n",
    "    value = 0\n",
    "    for i in range(segments):\n",
    "        if end > prefs[agent][i].end:\n",
    "            value += find_full_value(prefs[agent][i])\n",
    "        if end <= prefs[agent][i].end:\n",
    "            value += find_partial_value(prefs[agent][i], end)\n",
    "            return value"
   ]
  },
  {
   "cell_type": "code",
   "execution_count": 199,
   "id": "98f593ad-dfb7-4361-a8f0-31aa065011c7",
   "metadata": {},
   "outputs": [],
   "source": [
    "def find_full_value(segment):\n",
    "    segment_width = segment.end - segment.start\n",
    "    if segment.startvalue == segment.endvalue:\n",
    "        value = segment.startvalue * segment_width\n",
    "        return value\n",
    "    if segment.startvalue != segment.endvalue:\n",
    "        value = 0.5 * (segment.startvalue + segment.endvalue) * segment_width\n",
    "        return value"
   ]
  },
  {
   "cell_type": "code",
   "execution_count": 200,
   "id": "64e00631-fa66-4ebf-a841-3fc244640bd5",
   "metadata": {},
   "outputs": [],
   "source": [
    "def find_partial_value(segment, partial_segment_end):\n",
    "    segment_width = partial_segment_end - segment.start\n",
    "    partial_segment_end_value = interpolate(segment, partial_segment_end)\n",
    "    if segment.startvalue == segment.endvalue:\n",
    "        value = segment.startvalue * segment_width\n",
    "        return value\n",
    "    if segment.startvalue != segment.endvalue:\n",
    "        value = 0.5 * (segment.startvalue + partial_segment_end_value) * \\\n",
    "                segment_width\n",
    "        return value"
   ]
  },
  {
   "cell_type": "code",
   "execution_count": 201,
   "id": "3e374aba-88ff-4351-9be7-949f12ff3aed",
   "metadata": {},
   "outputs": [],
   "source": [
    "'''\n",
    "Uses the linear interpolation formula to find the associated y-coordinate for a \n",
    "given x-coordinate on a line between two points with known x and y coordinates.\n",
    "'''\n",
    "def interpolate(segment, x_coordinate):\n",
    "    if segment.startvalue == segment.endvalue:\n",
    "        y_coordinate = segment.startvalue\n",
    "        return y_coordinate\n",
    "    if segment.startvalue != segment.endvalue:\n",
    "        y_coordinate = ((segment.startvalue * (segment.end - x_coordinate) +\n",
    "                         segment.endvalue * (x_coordinate - segment.start)) / \n",
    "                        (segment.end - segment.start))                \n",
    "        return y_coordinate"
   ]
  },
  {
   "cell_type": "code",
   "execution_count": 202,
   "id": "3bff65bb-88d7-418c-847a-9c89d6dac6a0",
   "metadata": {},
   "outputs": [],
   "source": [
    "class Bounds:\n",
    "    def __init__(self, lower, upper):\n",
    "        self.lower = lower\n",
    "        self.upper = upper\n",
    "\n",
    "    def midpoint(self):\n",
    "        return (self.lower + self.upper) / 2\n"
   ]
  },
  {
   "cell_type": "code",
   "execution_count": 203,
   "id": "b9b82523-47e7-4945-9701-3b57e14853a4",
   "metadata": {},
   "outputs": [],
   "source": [
    "class ThreeAgentPortion:\n",
    "    def __init__(self, left_cut, right_cut):\n",
    "        self.left = left_cut\n",
    "        self.right = right_cut"
   ]
  },
  {
   "cell_type": "code",
   "execution_count": null,
   "id": "00292e5e-7ef0-431d-a2ee-3d6f801ab65b",
   "metadata": {},
   "outputs": [],
   "source": []
  },
  {
   "cell_type": "code",
   "execution_count": null,
   "id": "be4d3cc2-ba32-4ec0-8108-4b64b098827a",
   "metadata": {},
   "outputs": [],
   "source": []
  }
 ],
 "metadata": {
  "kernelspec": {
   "display_name": "Python 3 (ipykernel)",
   "language": "python",
   "name": "python3"
  },
  "language_info": {
   "codemirror_mode": {
    "name": "ipython",
    "version": 3
   },
   "file_extension": ".py",
   "mimetype": "text/x-python",
   "name": "python",
   "nbconvert_exporter": "python",
   "pygments_lexer": "ipython3",
   "version": "3.10.13"
  }
 },
 "nbformat": 4,
 "nbformat_minor": 5
}
